{
 "cells": [
  {
   "cell_type": "code",
   "execution_count": 2,
   "metadata": {
    "slideshow": {
     "slide_type": "skip"
    }
   },
   "outputs": [
    {
     "data": {
      "text/html": [
       "<link href=\"https://fonts.googleapis.com/css?family=Cabin|Quicksand\" rel=\"stylesheet\"><style>.container{width:90% !important; font-family: \"Cabin\", sans-serif;}em{color: red !important;}</style><style>.output_png {display: table-cell;text-align: center;vertical-align: middle;}</style>"
      ],
      "text/plain": [
       "<IPython.core.display.HTML object>"
      ]
     },
     "execution_count": 2,
     "metadata": {},
     "output_type": "execute_result"
    }
   ],
   "source": [
    "%matplotlib inline\n",
    "import matplotlib.pyplot as plt\n",
    "import numpy as np\n",
    "import scipy as sp\n",
    "from sympy import init_printing \n",
    "from sympy import Matrix\n",
    "init_printing(use_latex=True)\n",
    "def out(mat, n=2): return Matrix(np.round(mat, decimals=n))\n",
    "from IPython.core.display import HTML\n",
    "HTML('<link href=\"https://fonts.googleapis.com/css?family=Cabin|Quicksand\" rel=\"stylesheet\"><style>.container{width:90% !important; font-family: \"Cabin\", sans-serif;}em{color: red !important;}</style><style>.output_png {display: table-cell;text-align: center;vertical-align: middle;}</style>')"
   ]
  },
  {
   "cell_type": "markdown",
   "metadata": {
    "slideshow": {
     "slide_type": "slide"
    }
   },
   "source": [
    "# Principal component analysis (PCA)"
   ]
  },
  {
   "cell_type": "markdown",
   "metadata": {
    "slideshow": {
     "slide_type": "slide"
    }
   },
   "source": [
    "# Principal component analysis (PCA)\n",
    "\n",
    "- PCA is an orthogonal transformation (rotation) to map correlated observations into a set of values of linearly uncorrelated variables (*principal components*)\n",
    "  - we want to find the basis in which the data has a covariance matrix that is close to being diagonal \n",
    "  - we want to diagonalise the covariance matrix\n",
    "- It turns out that the first principal component has the largest possible variance\n",
    "  - it accounts for as much of the variability in the data as possible\n",
    "- each succeeding component in turn has the highest variance possible under the constraint that it is orthogonal to the preceding components\n"
   ]
  },
  {
   "cell_type": "markdown",
   "metadata": {
    "slideshow": {
     "slide_type": "slide"
    }
   },
   "source": [
    "# Principal component analysis (PCA)\n",
    "\n",
    "<center><img src=\"img/pca.gif\" alt=\"z\" width=\"1000\"/></center>"
   ]
  },
  {
   "cell_type": "markdown",
   "metadata": {
    "slideshow": {
     "slide_type": "subslide"
    }
   },
   "source": [
    "# PCA steps\n",
    "\n",
    "1. center dataset\n",
    "2. find linear transformation that diagonalises covariance matrix\n",
    "3. transform dataset (resulting dataset with decorrelated features, rotation of original dataset)\n",
    "4. dimensionality reduction of the resulting dataset considers only the first few components  "
   ]
  },
  {
   "cell_type": "markdown",
   "metadata": {
    "slideshow": {
     "slide_type": "subslide"
    }
   },
   "source": [
    "# PCA (centered dataset)\n",
    "\n",
    "- consider a $n \\times p$ data matrix $X$ \n",
    "  - with column-wise zero empirical mean (**centered**)\n",
    "  - where each of the $n$ rows represents a different repetition of the experiment\n",
    "  - and each of the $p$ columns gives a particular kind of feature"
   ]
  },
  {
   "cell_type": "markdown",
   "metadata": {
    "slideshow": {
     "slide_type": "subslide"
    }
   },
   "source": [
    "# PCA (find linear transformation)\n",
    "\n",
    "- we want a transformation which diagonalises the empirical sample covariance matrix\n",
    "- the empirical covariance matrix (after centering) is proportional to $X^TX$ <br>(times a constant factor $1/(n-1)$ )\n",
    "- **method 1**: to diagonalise $X^TX$ (a square matrix) we could compute the eigendecomposition of this matrix $V \\Lambda V^T$ where $V$ is the change of basis matrix whose columns are the eigenvectors and $\\Lambda$ a diagonal matrix (as the covariance matrix is symmetric, $V$ is orthogonal and it corresponds to a rotation of the axes)\n"
   ]
  },
  {
   "cell_type": "markdown",
   "metadata": {
    "slideshow": {
     "slide_type": "subslide"
    }
   },
   "source": [
    "# PCA (find linear transformation)\n",
    "\n",
    "- **method 2**: we could compute the SVD of the (rectangular) data matrix $X=U \\Sigma V^T$\n",
    "- then the matrix $X^TX$ can be written as $V \\Sigma^2 V^T$\n",
    "- Comparison with the eigenvector factorization of $X^TX$ establishes that \n",
    "  - the right singular vectors $V$ of $X$ are equivalent to the eigenvectors of $X^T X$\n",
    "  - the singular values $σ_k$ of $\\Sigma$ (diagonal) are equal to the square root of the eigenvalues $λ_k$ of $X^T X$"
   ]
  },
  {
   "cell_type": "markdown",
   "metadata": {
    "slideshow": {
     "slide_type": "subslide"
    }
   },
   "source": [
    "# Observations\n",
    "\n",
    "- note that there exist efficient algorithms to calculate the SVD of $X$ without having to form the matrix $X^T X$, so computing the SVD is now the standard way to calculate a principal components analysis from a data matrix\n",
    "- mean subtraction (a.k.a. \"mean centering\") is necessary for performing PCA to ensure that the first principal component describes the direction of maximum variance\n",
    "- if mean subtraction is not performed, the first principal component might instead correspond more or less to a vector centered in the origin that points to the mean of the data\n"
   ]
  },
  {
   "cell_type": "markdown",
   "metadata": {
    "slideshow": {
     "slide_type": "subslide"
    }
   },
   "source": [
    "# Transform dataset\n",
    "- $V^{-1}$ is the change of basis from the original natural basis to the basis formed by the column vectors of $V$\n",
    "- in fact, since V is orthogonal: $V^{-1} = V^T$\n",
    "- to transform a single observation: $t=V^{T}x$ (t and x are column vecors)\n",
    "- for the entire dataset (observatons are rows): the transformation $T = X V$ maps each vector $x$ in the original dataset $X$ \n",
    "  - from an original space of $p$ variables \n",
    "  - to a new space of $p$ variables which are uncorrelated over the transformed dataset $T$\n",
    "- Why $T = X V$? $T=(V^T X^T)^T=X V$ "
   ]
  },
  {
   "cell_type": "markdown",
   "metadata": {
    "slideshow": {
     "slide_type": "subslide"
    }
   },
   "source": [
    "# Dimensionality reduction\n",
    "\n",
    "- keeping only the first $L$ principal components (columns of $V$) gives the truncated linear transformation:  \n",
    "  - $t=V_L^{T}x$\n",
    "  - where $x\\in \\mathbb {R}^{p}$ \n",
    "  - and $t\\in \\mathbb {R}^{L}$\n",
    "- where the columns of the $n × L$ matrix $V_L$ form an orthogonal basis for the $L$ features that are decorrelated ($x$ and $t$ column vectors) \n",
    "\n"
   ]
  },
  {
   "cell_type": "markdown",
   "metadata": {
    "slideshow": {
     "slide_type": "subslide"
    }
   },
   "source": [
    "# Dimensionality reduction\n",
    "\n",
    "- for the entire dataset, keeping only the first $L$ principal components (columns of $V$) gives the truncated transformation\n",
    "$$T_L = X V_L$$\n",
    "- where the matrix $T_L$ now has $n$ rows but only $L$ columns\n",
    "\n",
    "- it turns out that, of all matrices $V_L$ with only L columns,\n",
    "  - this matrix preserves maximally the variance in the original data, \n",
    "  - while minimising the total squared reconstruction error \n",
    "$$\\| X  - X_{L}\\|_F = \\|T V^T - T_L  V_{L}^{T}\\|_F = \\|T V^T - X V_L  V_{L}^{T}\\|_F $$\n"
   ]
  },
  {
   "cell_type": "code",
   "execution_count": 3,
   "metadata": {
    "slideshow": {
     "slide_type": "slide"
    }
   },
   "outputs": [],
   "source": [
    "import pandas as pd\n",
    "\n",
    "# get data matrix\n",
    "df = pd.read_csv('https://raw.githubusercontent.com/rmcelreath/rethinking/master/data/Howell1.csv', sep=';')\n",
    "D = df[df['age']>18][['height','weight']].values\n",
    "\n",
    "# center data matrix\n",
    "Dn = np.mat(D - np.mean(D, axis=0))\n",
    "\n",
    "# svd of data matrix\n",
    "U,s,Vt = np.linalg.svd(Dn)\n",
    "V = Vt.T\n",
    "\n",
    "# transformed data matrix \n",
    "Dpca = Dn*V\n"
   ]
  },
  {
   "cell_type": "code",
   "execution_count": 4,
   "metadata": {
    "slideshow": {
     "slide_type": "slide"
    }
   },
   "outputs": [
    {
     "data": {
      "image/png": "[encoded data removed]",
      "text/plain": [
       "<Figure size 1008x504 with 2 Axes>"
      ]
     },
     "metadata": {
      "needs_background": "light"
     },
     "output_type": "display_data"
    }
   ],
   "source": [
    "plt.subplots(1,2, figsize=(7*2,7))\n",
    "plt.subplot(1,2,1)\n",
    "x1,x2 = Dn.A.T\n",
    "plt.scatter(x1,x2) \n",
    "plt.axis('equal')\n",
    "plt.grid()\n",
    "plt.title('Original (centred) data')\n",
    "plt.subplot(1,2,2)\n",
    "x1,x2 = Dpca.A.T \n",
    "plt.scatter(x1,-x2)\n",
    "plt.axis('equal')\n",
    "plt.title('PCA data')\n",
    "plt.grid()\n",
    "plt.show()"
   ]
  }
 ],
 "metadata": {
  "celltoolbar": "Slideshow",
  "kernelspec": {
   "display_name": "Python 3 (ipykernel)",
   "language": "python",
   "name": "python3"
  },
  "language_info": {
   "codemirror_mode": {
    "name": "ipython",
    "version": 3
   },
   "file_extension": ".py",
   "mimetype": "text/x-python",
   "name": "python",
   "nbconvert_exporter": "python",
   "pygments_lexer": "ipython3",
   "version": "3.11.5"
  },
  "toc": {
   "base_numbering": 1,
   "nav_menu": {},
   "number_sections": true,
   "sideBar": false,
   "skip_h1_title": true,
   "title_cell": "Table of Contents",
   "title_sidebar": "Contents",
   "toc_cell": true,
   "toc_position": {},
   "toc_section_display": true,
   "toc_window_display": false
  }
 },
 "nbformat": 4,
 "nbformat_minor": 2
}
