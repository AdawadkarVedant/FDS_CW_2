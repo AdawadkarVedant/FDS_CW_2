{
 "cells": [
  {
   "cell_type": "code",
   "execution_count": 1,
   "metadata": {
    "slideshow": {
     "slide_type": "skip"
    }
   },
   "outputs": [
    {
     "data": {
      "text/html": [
       "<link href=\"https://fonts.googleapis.com/css?family=Cabin|Quicksand\" rel=\"stylesheet\"><style>.container{width:90% !important; font-family: \"Cabin\", sans-serif;}em{color: red !important;}</style><style>.output_png {display: table-cell;text-align: center;vertical-align: middle;}</style>"
      ],
      "text/plain": [
       "<IPython.core.display.HTML object>"
      ]
     },
     "execution_count": 1,
     "metadata": {},
     "output_type": "execute_result"
    }
   ],
   "source": [
    "%matplotlib inline\n",
    "import numpy as np\n",
    "from IPython.core.display import HTML\n",
    "HTML('<link href=\"https://fonts.googleapis.com/css?family=Cabin|Quicksand\" rel=\"stylesheet\"><style>.container{width:90% !important; font-family: \"Cabin\", sans-serif;}em{color: red !important;}</style><style>.output_png {display: table-cell;text-align: center;vertical-align: middle;}</style>')"
   ]
  },
  {
   "cell_type": "code",
   "execution_count": 2,
   "metadata": {
    "slideshow": {
     "slide_type": "skip"
    }
   },
   "outputs": [],
   "source": [
    "from sympy import init_printing \n",
    "from sympy import Matrix\n",
    "init_printing(use_latex=True)\n",
    "def out(mat, n=2): return Matrix(np.round(mat, decimals=n))"
   ]
  },
  {
   "cell_type": "markdown",
   "metadata": {
    "slideshow": {
     "slide_type": "slide"
    }
   },
   "source": [
    "# Inner-product spaces\n",
    "\n",
    "- it is very useful to introduce an additional structure in vector spaces: the *inner product*\n",
    "- it gives the vector space a geometric structure: \n",
    "<br>one can define concepts as *length* and *angles* and the concept of *orthogonality*\n",
    "<center><img src=\"img/ang.png\" alt=\"ang\" width=\"400\"/></center>\n",
    "- an inner product space is a vector space with an additional structure called an inner product"
   ]
  },
  {
   "cell_type": "markdown",
   "metadata": {
    "slideshow": {
     "slide_type": "subslide"
    }
   },
   "source": [
    "# Definition\n",
    "\n",
    "- the inner product associates, to a pair of vectors, a scalar quantity denoted using angle brackets: ${\\displaystyle \\langle a,b\\rangle }$\n",
    "- an inner product is a map $\\langle \\cdot ,\\cdot \\rangle :V\\times V\\rightarrow {\\rm I\\!R}$\n",
    "<br>that for all vectors $u, v, w$ in $V$ and all scalars $a$ satisfies three axioms \n",
    "\n",
    "| Axiom\t| Signification |\n",
    "| --- | --- |\n",
    "|Symmetry| $$\\langle u,v\\rangle = {\\langle v,u\\rangle }$$|\n",
    "|Linearity in the first argument| $$\\langle au,v\\rangle =a\\langle u,v\\rangle$$ <br> $$\\langle u+v,w\\rangle =\\langle u,w\\rangle +\\langle v,w\\rangle$$ |\n",
    "|Positive-definiteness| $\\langle v,v\\rangle \\geq 0$ with equality only for $v = 0$ |\n"
   ]
  },
  {
   "cell_type": "markdown",
   "metadata": {
    "slideshow": {
     "slide_type": "subslide"
    }
   },
   "source": [
    "# Derived notions\n",
    "\n",
    "- the length of a vector v in V is \n",
    "$$\\|v\\|={\\sqrt {\\langle v,v\\rangle }}$$\n",
    "\n",
    "\n",
    "- Cauchy–Schwarz inequality: \n",
    "$$|\\langle u,v\\rangle |\\leq \\|u\\|\\cdot \\|v\\|$$\n",
    "\n",
    "- hence \n",
    "$${\\frac {|\\langle u,v\\rangle |}{\\|u\\|\\cdot \\|v\\|}}\\leq 1$$\n",
    "<br>which is called the cosine of the *angle* between the two vectors\n",
    "$${\\displaystyle \\angle (u,v)=\\arccos {\\frac {|\\langle u,v\\rangle |}{\\|u\\|\\cdot \\|v\\|}}}$$"
   ]
  },
  {
   "cell_type": "markdown",
   "metadata": {
    "slideshow": {
     "slide_type": "skip"
    }
   },
   "source": [
    "# Note\n",
    "\n",
    "$${\\displaystyle \\angle (u,v)=\\arccos {\\frac {|\\langle u,v\\rangle |}{\\|u\\|\\cdot \\|v\\|}}}$$\n",
    "\n",
    "- this definition ignores the direction of the vectors \n",
    "- it actually describes the angle between one-dimensional subspaces \n",
    " $\\operatorname {span} ( {u} )$ and $\\operatorname {span} ( {v} )$\n",
    "- but it allows to define angles also when the field is complex"
   ]
  },
  {
   "cell_type": "markdown",
   "metadata": {
    "slideshow": {
     "slide_type": "subslide"
    }
   },
   "source": [
    "# Derived notions\n",
    "\n",
    "- unit or normalized vectors are also called *versors*\n",
    "- two vectors are *orthogonal* if $\\langle u,v\\rangle =0$\n",
    "- an *orthonormal basis* is a basis where all basis vectors have **length 1** and are **orthogonal** to each other, i.e. they are orthogonal versors"
   ]
  },
  {
   "cell_type": "markdown",
   "metadata": {
    "slideshow": {
     "slide_type": "subslide"
    }
   },
   "source": [
    "# Orthonormal basis\n",
    "\n",
    "- how can we find or build an orthonormal basis for a given $V$?\n",
    "- we can use the *Gram–Schmidt* procedure"
   ]
  },
  {
   "cell_type": "markdown",
   "metadata": {
    "slideshow": {
     "slide_type": "subslide"
    }
   },
   "source": [
    "# Gram–Schmidt procedure\n",
    "\n",
    "- it is a method for orthonormalising a set of vectors in an inner product space\n",
    "- it takes a finite, linearly independent set $S = {v_1, ..., v_k}$ for $k ≤ n$ \n",
    "- and generates an orthogonal set $S′ = {u_1, ..., u_k}$ that spans the same k-dimensional subspace of ${\\rm I\\!R}^n$ as $S$\n",
    "\n",
    "\n",
    "<center><img src=\"img/orth.png\" width=400></center>"
   ]
  },
  {
   "cell_type": "markdown",
   "metadata": {
    "slideshow": {
     "slide_type": "subslide"
    }
   },
   "source": [
    "# Vector Projection\n",
    "\n",
    "\n",
    "<center><img src=\"img/projection.png\" width=400></center>\n",
    "\n",
    "\n"
   ]
  },
  {
   "cell_type": "markdown",
   "metadata": {
    "slideshow": {
     "slide_type": "subslide"
    }
   },
   "source": [
    "# Vector Projection\n",
    "\n",
    "- define the *scalar* projection by $ a_1 = \\left\\|\\mathbf{a}\\right\\| \\cos \\theta $\n",
    "\n",
    "- define the *vector* projection by $\\mathrm {proj} _{\\mathbf {b} }\\,(\\mathbf {a} ) = a_1 \\mathbf{\\hat b}$\n",
    "\n",
    "- by substituting (unit vector with the same direction as $\\mathbf{b}$) $\\mathbf{\\hat b} = \\frac {\\mathbf{b}} {\\left\\|\\mathbf{b}\\right\\|}$ \n",
    "and  (cos of angle between $\\mathbf{a}$ and $\\mathbf{b}$) ${\\cos \\theta = \\frac {\\langle \\mathbf{a},\\mathbf{b}\\rangle }{\\|\\mathbf{a}\\|\\cdot \\|\\mathbf{b}\\|}}$\n",
    "\n",
    "- we get\n",
    "\n",
    "$${\\displaystyle \\mathrm {proj} _{\\mathbf {b} }\\,(\\mathbf {a} )={\\langle \\mathbf {a} ,\\mathbf {b} \\rangle  \\over \\langle \\mathbf {b} ,\\mathbf {b} \\rangle }{\\mathbf {b} }}$$\n",
    "\n",
    "\n",
    "\n",
    "\n"
   ]
  },
  {
   "cell_type": "markdown",
   "metadata": {
    "slideshow": {
     "slide_type": "skip"
    }
   },
   "source": [
    "# Vector Projection\n",
    "\n",
    "- define the projection operator by \n",
    "$${\\displaystyle \\mathrm {proj} _{\\mathbf {u} }\\,(\\mathbf {v} )={\\langle \\mathbf {u} ,\\mathbf {v} \\rangle  \\over \\langle \\mathbf {u} ,\\mathbf {u} \\rangle }{\\mathbf {u} }}$$\n",
    "- where $\\langle \\mathbf{u}, \\mathbf{v}\\rangle$ is the inner product of the vectors $\\mathbf{u}$ and $\\mathbf{v}$\n",
    "- this operator projects the vector v orthogonally onto the line spanned by vector u\n",
    "\n",
    "<center><img src=\"img/gs.png\" width=600></center>\n",
    "\n",
    "\n"
   ]
  },
  {
   "cell_type": "markdown",
   "metadata": {
    "slideshow": {
     "slide_type": "skip"
    }
   },
   "source": [
    "# Procedure\n",
    "\n",
    "$${\\begin{aligned}\\mathbf {u} _{1}&=\\mathbf {v} _{1},&\\mathbf {e} _{1}&={\\mathbf {u} _{1} \\over \\|\\mathbf {u} _{1}\\|}\\\\\\mathbf {u} _{2}&=\\mathbf {v} _{2}-\\mathrm {proj} _{\\mathbf {u} _{1}}\\,(\\mathbf {v} _{2}),&\\mathbf {e} _{2}&={\\mathbf {u} _{2} \\over \\|\\mathbf {u} _{2}\\|}\\\\\\mathbf {u} _{3}&=\\mathbf {v} _{3}-\\mathrm {proj} _{\\mathbf {u} _{1}}\\,(\\mathbf {v} _{3})-\\mathrm {proj} _{\\mathbf {u} _{2}}\\,(\\mathbf {v} _{3}),&\\mathbf {e} _{3}&={\\mathbf {u} _{3} \\over \\|\\mathbf {u} _{3}\\|}\\\\\\mathbf {u} _{4}&=\\mathbf {v} _{4}-\\mathrm {proj} _{\\mathbf {u} _{1}}\\,(\\mathbf {v} _{4})-\\mathrm {proj} _{\\mathbf {u} _{2}}\\,(\\mathbf {v} _{4})-\\mathrm {proj} _{\\mathbf {u} _{3}}\\,(\\mathbf {v} _{4}),&\\mathbf {e} _{4}&={\\mathbf {u} _{4} \\over \\|\\mathbf {u} _{4}\\|}\\\\&{}\\ \\ \\vdots &&{}\\ \\ \\vdots \\\\\\mathbf {u} _{k}&=\\mathbf {v} _{k}-\\sum _{j=1}^{k-1}\\mathrm {proj} _{\\mathbf {u} _{j}}\\,(\\mathbf {v} _{k}),&\\mathbf {e} _{k}&={\\mathbf {u} _{k} \\over \\|\\mathbf {u} _{k}\\|}.\\end{aligned}}$$\n",
    "\n",
    "<center><img src=\"img/gs.png\" width=300></center>"
   ]
  },
  {
   "cell_type": "markdown",
   "metadata": {
    "slideshow": {
     "slide_type": "skip"
    }
   },
   "source": [
    "# Procedure\n",
    "\n",
    "<center><img src=\"img/gs.gif\" width=700></center>"
   ]
  },
  {
   "cell_type": "markdown",
   "metadata": {
    "slideshow": {
     "slide_type": "subslide"
    }
   },
   "source": [
    "# Advantages of orthonormal basis\n",
    "\n",
    "- orthonormal bases are useful as they make many operation simpler\n",
    "- we know how to:\n",
    "  - compute the linear combination $v = a_1 v_1 + ... + a_n v_n$ if we are given the coefficients $a_1, a_2, ... , a_n$ and a basis\n",
    "- ...but how to:\n",
    "  - compute the coefficients if we are given a vector $v$ and a basis?\n",
    "- we need to *project* $v$ over each vector in the basis \n",
    "- if the basis is an orthonormal basis the projection is simple\n",
    "  - ${\\displaystyle \\mathrm {proj} _{\\mathbf {v_i} }\\,(\\mathbf {v} )={\\langle \\mathbf {v} ,\\mathbf {v_i} \\rangle  \\over \\langle \\mathbf {v_i} ,\\mathbf {v_i} \\rangle }{\\mathbf {v_i} }}$ but if $\\langle \\mathbf {v_i} ,\\mathbf {v_i} \\rangle = 1$\n",
    "  - the coefficient is directly the inner product $a_{i}=\\langle \\mathbf {v} ,\\mathbf {v_i} \\rangle$\n"
   ]
  },
  {
   "cell_type": "markdown",
   "metadata": {
    "slideshow": {
     "slide_type": "subslide"
    }
   },
   "source": [
    "# How to compute the inner product\n",
    "\n",
    "**Q:** How can we use the coordinate equivalence to vectors to compute the inner product?\n",
    "\n",
    "**A:**: The real n-space ${\\rm I\\!R}^n$ with the *dot product* is an inner product space\n",
    "\n",
    "$${\\displaystyle \\left\\langle {\\begin{bmatrix}x_{1}\\\\\\vdots \\\\x_{n}\\end{bmatrix}},{\\begin{bmatrix}y_{1}\\\\\\vdots \\\\y_{n}\\end{bmatrix}}\\right\\rangle :=x^{\\mathsf {T}} \\cdot y=\\sum _{i=1}^{n}x_{i}y_{i}=x_{1}y_{1}+\\cdots +x_{n}y_{n},}$$\n",
    "\n",
    "i.e. the *dot product* over column vectors has all the properties of an *inner product*"
   ]
  },
  {
   "cell_type": "markdown",
   "metadata": {
    "slideshow": {
     "slide_type": "subslide"
    }
   },
   "source": [
    "Numpy offers a shourtcut, that works with 1-dimensional arrays (!)"
   ]
  },
  {
   "cell_type": "code",
   "execution_count": 48,
   "metadata": {
    "slideshow": {
     "slide_type": "-"
    }
   },
   "outputs": [
    {
     "data": {
      "text/plain": [
       "18"
      ]
     },
     "execution_count": 48,
     "metadata": {},
     "output_type": "execute_result"
    }
   ],
   "source": [
    "np.dot([2, 3], [3, 4])"
   ]
  },
  {
   "cell_type": "markdown",
   "metadata": {
    "slideshow": {
     "slide_type": "subslide"
    }
   },
   "source": [
    "..but in order to be consistent with all operations in linear algebra, we want to operate explicitly on column- or row-vectors ...  "
   ]
  },
  {
   "cell_type": "code",
   "execution_count": 5,
   "metadata": {
    "slideshow": {
     "slide_type": "fragment"
    }
   },
   "outputs": [
    {
     "data": {
      "image/png": "[encoded data removed]",
      "text/latex": [
       "$\\displaystyle \\left[\\begin{matrix}2\\\\3\\end{matrix}\\right]$"
      ],
      "text/plain": [
       "⎡2⎤\n",
       "⎢ ⎥\n",
       "⎣3⎦"
      ]
     },
     "execution_count": 5,
     "metadata": {},
     "output_type": "execute_result"
    }
   ],
   "source": [
    "x = np.array([2, 3]).reshape(2,1)\n",
    "out(x)"
   ]
  },
  {
   "cell_type": "code",
   "execution_count": 6,
   "metadata": {
    "slideshow": {
     "slide_type": "fragment"
    }
   },
   "outputs": [
    {
     "data": {
      "image/png": "[encoded data removed]",
      "text/latex": [
       "$\\displaystyle \\left[\\begin{matrix}3\\\\4\\end{matrix}\\right]$"
      ],
      "text/plain": [
       "⎡3⎤\n",
       "⎢ ⎥\n",
       "⎣4⎦"
      ]
     },
     "execution_count": 6,
     "metadata": {},
     "output_type": "execute_result"
    }
   ],
   "source": [
    "z = np.array([3, 4]).reshape(2,1)\n",
    "out(z)"
   ]
  },
  {
   "cell_type": "code",
   "execution_count": 7,
   "metadata": {
    "slideshow": {
     "slide_type": "fragment"
    }
   },
   "outputs": [
    {
     "ename": "ValueError",
     "evalue": "shapes (2,1) and (2,1) not aligned: 1 (dim 1) != 2 (dim 0)",
     "output_type": "error",
     "traceback": [
      "\u001b[0;31m---------------------------------------------------------------------------\u001b[0m",
      "\u001b[0;31mValueError\u001b[0m                                Traceback (most recent call last)",
      "\u001b[0;32m<ipython-input-7-0be945a5d065>\u001b[0m in \u001b[0;36m<module>\u001b[0;34m\u001b[0m\n\u001b[0;32m----> 1\u001b[0;31m \u001b[0mnp\u001b[0m\u001b[0;34m.\u001b[0m\u001b[0mdot\u001b[0m\u001b[0;34m(\u001b[0m\u001b[0mx\u001b[0m\u001b[0;34m,\u001b[0m\u001b[0mz\u001b[0m\u001b[0;34m)\u001b[0m\u001b[0;34m\u001b[0m\u001b[0;34m\u001b[0m\u001b[0m\n\u001b[0m",
      "\u001b[0;32m<__array_function__ internals>\u001b[0m in \u001b[0;36mdot\u001b[0;34m(*args, **kwargs)\u001b[0m\n",
      "\u001b[0;31mValueError\u001b[0m: shapes (2,1) and (2,1) not aligned: 1 (dim 1) != 2 (dim 0)"
     ]
    }
   ],
   "source": [
    "np.dot(x,z)"
   ]
  },
  {
   "cell_type": "markdown",
   "metadata": {
    "slideshow": {
     "slide_type": "subslide"
    }
   },
   "source": [
    "So, to use a dot product with vectors, we have to replicate the definition: $ x^{\\mathsf {T}} \\cdot y $"
   ]
  },
  {
   "cell_type": "code",
   "execution_count": 11,
   "metadata": {
    "slideshow": {
     "slide_type": "fragment"
    }
   },
   "outputs": [
    {
     "data": {
      "image/png": "[encoded data removed]",
      "text/latex": [
       "$\\displaystyle \\left[\\begin{matrix}2 & 3\\end{matrix}\\right]$"
      ],
      "text/plain": [
       "[2  3]"
      ]
     },
     "execution_count": 11,
     "metadata": {},
     "output_type": "execute_result"
    }
   ],
   "source": [
    "out(x.T)"
   ]
  },
  {
   "cell_type": "code",
   "execution_count": 12,
   "metadata": {
    "slideshow": {
     "slide_type": "fragment"
    }
   },
   "outputs": [
    {
     "data": {
      "image/png": "[encoded data removed]",
      "text/latex": [
       "$\\displaystyle \\left[\\begin{matrix}18\\end{matrix}\\right]$"
      ],
      "text/plain": [
       "[18]"
      ]
     },
     "execution_count": 12,
     "metadata": {},
     "output_type": "execute_result"
    }
   ],
   "source": [
    "s = np.dot(x.T,z)  \n",
    "out(s)"
   ]
  },
  {
   "cell_type": "markdown",
   "metadata": {
    "slideshow": {
     "slide_type": "fragment"
    }
   },
   "source": [
    "**Note** \n",
    "\n",
    "The result is a 2-dimensional array with 1 row and 1 colum!\n",
    "\n",
    "We will see why this is consistent when we will introduce the matrix product. "
   ]
  },
  {
   "cell_type": "code",
   "execution_count": 17,
   "metadata": {
    "slideshow": {
     "slide_type": "fragment"
    }
   },
   "outputs": [
    {
     "data": {
      "image/png": "[encoded data removed]",
      "text/latex": [
       "$\\displaystyle 2$"
      ],
      "text/plain": [
       "2"
      ]
     },
     "execution_count": 17,
     "metadata": {},
     "output_type": "execute_result"
    }
   ],
   "source": [
    "np.ndim(s)"
   ]
  },
  {
   "cell_type": "markdown",
   "metadata": {
    "slideshow": {
     "slide_type": "subslide"
    }
   },
   "source": [
    "**Note** \n",
    "\n",
    "$ x\\cdot y^{\\mathsf {T}}$ is not the dot product we have defined between column vectors, i.e. it does not return a single value"
   ]
  },
  {
   "cell_type": "code",
   "execution_count": 16,
   "metadata": {
    "slideshow": {
     "slide_type": "-"
    }
   },
   "outputs": [
    {
     "data": {
      "image/png": "[encoded data removed]",
      "text/latex": [
       "$\\displaystyle \\left[\\begin{matrix}6 & 8\\\\9 & 12\\end{matrix}\\right]$"
      ],
      "text/plain": [
       "⎡6  8 ⎤\n",
       "⎢     ⎥\n",
       "⎣9  12⎦"
      ]
     },
     "execution_count": 16,
     "metadata": {},
     "output_type": "execute_result"
    }
   ],
   "source": [
    "out(np.dot(x,z.T))"
   ]
  }
 ],
 "metadata": {
  "celltoolbar": "Slideshow",
  "kernelspec": {
   "display_name": "Python 3 (ipykernel)",
   "language": "python",
   "name": "python3"
  },
  "language_info": {
   "codemirror_mode": {
    "name": "ipython",
    "version": 3
   },
   "file_extension": ".py",
   "mimetype": "text/x-python",
   "name": "python",
   "nbconvert_exporter": "python",
   "pygments_lexer": "ipython3",
   "version": "3.11.4"
  },
  "toc": {
   "base_numbering": 1,
   "nav_menu": {},
   "number_sections": true,
   "sideBar": false,
   "skip_h1_title": true,
   "title_cell": "Table of Contents",
   "title_sidebar": "Contents",
   "toc_cell": true,
   "toc_position": {},
   "toc_section_display": true,
   "toc_window_display": false
  }
 },
 "nbformat": 4,
 "nbformat_minor": 4
}
