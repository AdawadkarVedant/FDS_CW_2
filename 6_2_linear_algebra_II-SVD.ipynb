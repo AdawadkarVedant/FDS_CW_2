{
 "cells": [
  {
   "cell_type": "code",
   "execution_count": 1,
   "metadata": {
    "slideshow": {
     "slide_type": "skip"
    }
   },
   "outputs": [
    {
     "data": {
      "text/html": [
       "<link href=\"https://fonts.googleapis.com/css?family=Cabin|Quicksand\" rel=\"stylesheet\"><style>.container{width:90% !important; font-family: \"Cabin\", sans-serif;}em{color: red !important;}</style><style>.output_png {display: table-cell;text-align: center;vertical-align: middle;}</style>"
      ],
      "text/plain": [
       "<IPython.core.display.HTML object>"
      ]
     },
     "execution_count": 1,
     "metadata": {},
     "output_type": "execute_result"
    }
   ],
   "source": [
    "%matplotlib inline\n",
    "import matplotlib.pyplot as plt\n",
    "import numpy as np\n",
    "import scipy as sp\n",
    "from sympy import init_printing \n",
    "from sympy import Matrix\n",
    "init_printing(use_latex=True)\n",
    "def out(mat, n=2): return Matrix(np.round(mat, decimals=n))\n",
    "from IPython.core.display import HTML\n",
    "HTML('<link href=\"https://fonts.googleapis.com/css?family=Cabin|Quicksand\" rel=\"stylesheet\"><style>.container{width:90% !important; font-family: \"Cabin\", sans-serif;}em{color: red !important;}</style><style>.output_png {display: table-cell;text-align: center;vertical-align: middle;}</style>')"
   ]
  },
  {
   "cell_type": "markdown",
   "metadata": {
    "slideshow": {
     "slide_type": "slide"
    }
   },
   "source": [
    "# Eigendecomposition of a matrix\n",
    "\n",
    "- *factorization*: decomposition of a matrix into a product of other matrices which when multiplied together give the original\n",
    "- *eigendecomposition*: factorization of a matrix into a canonical form that uses its eigenvalues and eigenvectors\n",
    "- given $A$, a square $N×N$ matrix with N linearly independent eigenvectors $q_i \\,\\, (i = 1, \\dots, N)$ \n",
    "  - then $A$ can be factorized as $A = Q \\Lambda Q^{-1}$\n",
    "  - where $Q$ is the square $N×N$ matrix whose ith column is the eigenvector $q_{i}$ of $A$\n",
    "  - and $\\Lambda$ is the diagonal matrix whose diagonal elements are the corresponding eigenvalues $\\Lambda _{ii}=\\lambda _{i}$"
   ]
  },
  {
   "cell_type": "code",
   "execution_count": 2,
   "metadata": {
    "slideshow": {
     "slide_type": "slide"
    }
   },
   "outputs": [
    {
     "data": {
      "image/png": "[encoded data removed]",
      "text/latex": [
       "$\\displaystyle \\left[\\begin{matrix}1 & 1\\\\1 & -1\\end{matrix}\\right]$"
      ],
      "text/plain": [
       "⎡1  1 ⎤\n",
       "⎢     ⎥\n",
       "⎣1  -1⎦"
      ]
     },
     "execution_count": 2,
     "metadata": {},
     "output_type": "execute_result"
    }
   ],
   "source": [
    "u = [1,1]\n",
    "v = [1,-1]\n",
    "A = np.mat(np.array([u,v])).T\n",
    "out(A)"
   ]
  },
  {
   "cell_type": "code",
   "execution_count": 7,
   "metadata": {
    "slideshow": {
     "slide_type": "fragment"
    }
   },
   "outputs": [
    {
     "data": {
      "image/png": "[encoded data removed]",
      "text/latex": [
       "$\\displaystyle \\left( \\left[\\begin{matrix}0.92 & -0.38\\\\0.38 & 0.92\\end{matrix}\\right], \\  \\left[\\begin{matrix}1.41 & 0.0\\\\0.0 & -1.41\\end{matrix}\\right]\\right)$"
      ],
      "text/plain": [
       "⎛⎡0.92  -0.38⎤  ⎡1.41   0.0 ⎤⎞\n",
       "⎜⎢           ⎥, ⎢           ⎥⎟\n",
       "⎝⎣0.38  0.92 ⎦  ⎣0.0   -1.41⎦⎠"
      ]
     },
     "execution_count": 7,
     "metadata": {},
     "output_type": "execute_result"
    }
   ],
   "source": [
    "L,Q = np.linalg.eig(A)\n",
    "Q = np.mat(Q)\n",
    "Lambda = np.mat(np.diag(L))\n",
    "out(Q), out(Lambda)"
   ]
  },
  {
   "cell_type": "code",
   "execution_count": 8,
   "metadata": {
    "slideshow": {
     "slide_type": "fragment"
    }
   },
   "outputs": [
    {
     "data": {
      "image/png": "[encoded data removed]",
      "text/latex": [
       "$\\displaystyle \\left[\\begin{matrix}1.0 & 1.0\\\\1.0 & -1.0\\end{matrix}\\right]$"
      ],
      "text/plain": [
       "⎡1.0  1.0 ⎤\n",
       "⎢         ⎥\n",
       "⎣1.0  -1.0⎦"
      ]
     },
     "execution_count": 8,
     "metadata": {},
     "output_type": "execute_result"
    }
   ],
   "source": [
    "out(Q * Lambda * Q.I)"
   ]
  },
  {
   "cell_type": "markdown",
   "metadata": {
    "slideshow": {
     "slide_type": "skip"
    }
   },
   "source": [
    "# Note on the eigenvectors\n",
    "\n",
    "- the eigenvectors $q_i \\,\\, (i = 1, \\dots, N)$ are usually normalized\n",
    "  - but they need not be\n",
    "- a non-normalized set of eigenvectors $v_i \\,\\, (i = 1, \\dots, N)$ can also be used as the columns of $Q$\n",
    "  - note in fact that the magnitude of the eigenvectors in $Q$ gets canceled in the decomposition by the presence of $Q^{−1}$\n",
    "  - so only the eigenvalues determine the size of the effect, not the length of the eigenvectors "
   ]
  },
  {
   "cell_type": "markdown",
   "metadata": {
    "slideshow": {
     "slide_type": "subslide"
    }
   },
   "source": [
    "# Are the eigenvectors always orthogonal?\n",
    "\n",
    "- consider a basis $V = {v_1, ..., v_n}$ of independent but non orthogonal vectors\n",
    "- build a matrix $M = V D V^{-1}$ for some diagonal matrix $D$\n",
    "- $M$ is diagonalizable but its eigenvectors are not orthogonal"
   ]
  },
  {
   "cell_type": "markdown",
   "metadata": {
    "slideshow": {
     "slide_type": "subslide"
    }
   },
   "source": [
    "# Special matrices\n",
    "\n",
    "- **Symmetric matrix**: $A=A^T$\n",
    "- **Orthogonal matrix**: $Q^T=Q^{-1}$\n",
    "  - columns and rows are orthogonal unit vectors\n",
    "  - as a linear transformation, it represents a rotation\n",
    "- **Positive definite matrix**: $z^T M z > 0$ for any vector $z$\n",
    "  - admits square root: exists $B$ such that $B^2=M$\n"
   ]
  },
  {
   "cell_type": "code",
   "execution_count": 10,
   "metadata": {
    "slideshow": {
     "slide_type": "slide"
    }
   },
   "outputs": [
    {
     "data": {
      "image/png": "[encoded data removed]",
      "text/latex": [
       "$\\displaystyle \\left( \\left[\\begin{matrix}2 & 1 & 0\\\\1 & 2 & 0\\\\0 & 0 & 1\\end{matrix}\\right], \\  \\left[\\begin{matrix}2 & 1 & 0\\\\1 & 2 & 0\\\\0 & 0 & 1\\end{matrix}\\right]\\right)$"
      ],
      "text/plain": [
       "⎛⎡2  1  0⎤  ⎡2  1  0⎤⎞\n",
       "⎜⎢       ⎥  ⎢       ⎥⎟\n",
       "⎜⎢1  2  0⎥, ⎢1  2  0⎥⎟\n",
       "⎜⎢       ⎥  ⎢       ⎥⎟\n",
       "⎝⎣0  0  1⎦  ⎣0  0  1⎦⎠"
      ]
     },
     "execution_count": 10,
     "metadata": {},
     "output_type": "execute_result"
    }
   ],
   "source": [
    "# symmetric matrix\n",
    "A = np.mat([[2, 1, 0],[1, 2, 0], [0, 0, 1]])\n",
    "out(A), out(A.T)"
   ]
  },
  {
   "cell_type": "code",
   "execution_count": 16,
   "metadata": {
    "slideshow": {
     "slide_type": "fragment"
    }
   },
   "outputs": [
    {
     "name": "stdout",
     "output_type": "stream",
     "text": [
      "1.0 1.0\n"
     ]
    },
    {
     "data": {
      "image/png": "[encoded data removed]",
      "text/latex": [
       "$\\displaystyle \\left( \\left[\\begin{matrix}0.96 & 0.28\\\\-0.28 & 0.96\\end{matrix}\\right], \\  \\left[\\begin{matrix}0.96 & 0.28\\\\-0.28 & 0.96\\end{matrix}\\right]\\right)$"
      ],
      "text/plain": [
       "⎛⎡0.96   0.28⎤  ⎡0.96   0.28⎤⎞\n",
       "⎜⎢           ⎥, ⎢           ⎥⎟\n",
       "⎝⎣-0.28  0.96⎦  ⎣-0.28  0.96⎦⎠"
      ]
     },
     "execution_count": 16,
     "metadata": {},
     "output_type": "execute_result"
    }
   ],
   "source": [
    "# orthogonal matrix\n",
    "u, v = [0.96, 0.28], [-0.28, 0.96]\n",
    "print(np.linalg.norm(u), np.linalg.norm(v)) # unit vectors\n",
    "A = np.mat([u,v]).T # rotation matrix\n",
    "out(A.T), out(A.I)"
   ]
  },
  {
   "cell_type": "markdown",
   "metadata": {
    "slideshow": {
     "slide_type": "subslide"
    }
   },
   "source": [
    "# Decomposition of symmetric matrices\n",
    "\n",
    "- if $A$ is a symmetric matrix\n",
    "  - then the eigenvalues are real \n",
    "  - and the eigenvectors are orthogonal to each other\n",
    "  $$ A = Q \\Lambda Q^T$$\n",
    "  - where $Q$ is an orthogonal matrix"
   ]
  },
  {
   "cell_type": "markdown",
   "metadata": {
    "slideshow": {
     "slide_type": "slide"
    }
   },
   "source": [
    "# Singular Value Decomposition (SVD)\n",
    "\n",
    "- SVD is a factorization of a matrix\n",
    "- it generalizes the eigendecomposition of a square matrix to any *rectangular* $m\\times n$ matrix\n",
    "- **Note:** while in the eigendecomposition the change of basis does not need to be a rotation (i.e. the eigenvectors do not need to be orthogonal)\n",
    "  - the SVD is **always** described in terms of two *rotations*"
   ]
  },
  {
   "cell_type": "markdown",
   "metadata": {
    "slideshow": {
     "slide_type": "subslide"
    }
   },
   "source": [
    "# SVD\n",
    "\n",
    "- the singular-value decomposition of an $m\\times n$ matrix $\\mathbf {M}$\n",
    "<br>is a factorization of the form ${\\displaystyle \\mathbf {U\\Sigma V^{T}} }$, where\n",
    "  - $\\mathbf {U}$  is an $m\\times m$ *orthogonal* matrix\n",
    "  - $\\mathbf{\\Sigma}$ is a $m\\times n$ rectangular diagonal matrix with *non-negative* numbers on the diagonal\n",
    "  - and $\\mathbf {V}$  is an $n\\times n$ *orthogonal* matrix\n",
    "- the diagonal entries $\\sigma _{i}$ of $\\mathbf{\\Sigma}$ are the *singular values* of $\\mathbf {M}$\n",
    "- the columns of $\\mathbf {U}$  are called the *left-singular vectors*  of $\\mathbf {M}$\n",
    "- the columns of $\\mathbf {V}$ are called the *right-singular vectors* of $\\mathbf {M}$\n"
   ]
  },
  {
   "cell_type": "markdown",
   "metadata": {
    "slideshow": {
     "slide_type": "subslide"
    }
   },
   "source": [
    "<sub>\n",
    "<sub>\n",
    "$\\mathbf{M} = \\begin{bmatrix}\n",
    "                      1 & 0 & 0 & 0 & 2 \\\\\n",
    "                      0 & 0 & 3 & 0 & 0 \\\\\n",
    "                      0 & 0 & 0 & 0 & 0 \\\\\n",
    "                      0 & 2 & 0 & 0 & 0\n",
    "                    \\end{bmatrix}\n",
    "$\n",
    "\n",
    "$\\mathbf{U} = \\begin{bmatrix}\n",
    "                  0 & 1 & 0 & 0 \\\\\n",
    "                  1 & 0 & 0 & 0 \\\\\n",
    "                  0 & 0 & 0 & -1 \\\\\n",
    "                  0 & 0 & 1 & 0\n",
    "                \\end{bmatrix}\n",
    "$\n",
    "\n",
    "$\\boldsymbol{\\Sigma} = \\begin{bmatrix}\n",
    "                           3 &        0 &        0 &             0  & 0 \\\\\n",
    "                           0 & \\sqrt{5} &        0 &             0  & 0 \\\\\n",
    "                           0 &        0 &        2 &             0  & 0 \\\\\n",
    "                           0 &        0 &        0 &             0  & 0\n",
    "                         \\end{bmatrix}\n",
    "$\n",
    "\n",
    "$\\mathbf{V}^{T} = \\begin{bmatrix}\n",
    "                   0           & 0  & 1 & 0 & 0 \\\\\n",
    "                   \\sqrt{0.2}  & 0  & 0 & 0 & \\sqrt{0.8} \\\\\n",
    "                   0           & 1  & 0 & 0 & 0 \\\\\n",
    "                   0           & 0  & 0 & 1 & 0 \\\\\n",
    "                   -\\sqrt{0.8} & 0  & 0 & 0 & \\sqrt{0.2}\n",
    "                 \\end{bmatrix}\n",
    "$\n",
    "</sub>\n",
    "</sub>\n"
   ]
  },
  {
   "cell_type": "markdown",
   "metadata": {
    "slideshow": {
     "slide_type": "subslide"
    }
   },
   "source": [
    "# SVD computation\n",
    "\n",
    "the singular-value decomposition can be computed in terms of eigendecomposition using the following observations:\n",
    "- consider the SVD of $M=U \\Sigma V^T$\n",
    "- the matrix $M^T M$ is square and symmetric and can be written\n",
    "$${\\displaystyle {\\begin{aligned} M^T M & = V \\Sigma^T U^T U \\Sigma V^T \\text{(U orthogonal)}\\\\\n",
    "&= V (\\Sigma^T \\Sigma) V^T \\end{aligned}}}$$\n",
    "- and analogously for $M M^T$\n",
    "$$M M^T= U (\\Sigma \\Sigma^T) U^T$$"
   ]
  },
  {
   "cell_type": "markdown",
   "metadata": {
    "slideshow": {
     "slide_type": "subslide"
    }
   },
   "source": [
    "# SVD computation\n",
    "\n",
    "hence:\n",
    "- as $MM^T$ and $M^TM$ are square and symmetric we can compute their eigendecomposition\n",
    "- the right-singular vectors of $M$ are the set of orthonormal eigenvectors of the symmetric matrix $M^TM$ \n",
    "- the left-singular vectors of $M$ are the set of orthonormal eigenvectors of the symmetric matrix $MM^T$\n",
    "- the non-zero singular values of $M$ (i.e. the diagonal entries of $Σ$) \n",
    "<br>are the *square roots* of the non-zero eigenvalues of either $M^TM$ or $MM^T$"
   ]
  },
  {
   "cell_type": "markdown",
   "metadata": {
    "slideshow": {
     "slide_type": "subslide"
    }
   },
   "source": [
    "# In NumPy\n",
    "\n",
    "`U, sigma, Vt = numpy.linalg.svd(M)`\n",
    "\n",
    "Compute the singular value decomposition\n",
    "\n",
    "- $M$ is the input rectangular matrix\n",
    "- $U$ is an array containing the left-singular vectors of $M$ as columns\n",
    "- $Vt$ is an array containing the right-singular vectors of $M$ as rows\n",
    "- $sigma$ is a one dimensional array containing the singular values in descending order\n"
   ]
  },
  {
   "cell_type": "code",
   "execution_count": 3,
   "metadata": {
    "slideshow": {
     "slide_type": "subslide"
    }
   },
   "outputs": [
    {
     "data": {
      "image/png": "[encoded data removed]",
      "text/latex": [
       "$\\displaystyle \\left[\\begin{matrix}1 & 0 & 0 & 0 & 2\\\\0 & 0 & 3 & 0 & 0\\\\0 & 0 & 0 & 0 & 0\\\\0 & 2 & 0 & 0 & 0\\end{matrix}\\right]$"
      ],
      "text/plain": [
       "⎡1  0  0  0  2⎤\n",
       "⎢             ⎥\n",
       "⎢0  0  3  0  0⎥\n",
       "⎢             ⎥\n",
       "⎢0  0  0  0  0⎥\n",
       "⎢             ⎥\n",
       "⎣0  2  0  0  0⎦"
      ]
     },
     "execution_count": 3,
     "metadata": {},
     "output_type": "execute_result"
    }
   ],
   "source": [
    "M = np.mat(np.array([[1,0,0,0,2],[0,0,3,0,0],[0,0,0,0,0],[0,2,0,0,0]]))\n",
    "out(M)"
   ]
  },
  {
   "cell_type": "code",
   "execution_count": 19,
   "metadata": {
    "slideshow": {
     "slide_type": "subslide"
    }
   },
   "outputs": [
    {
     "data": {
      "image/png": "[encoded data removed]",
      "text/latex": [
       "$\\displaystyle \\left( \\left( 4, \\  4\\right), \\  \\left( 4\\right), \\  \\left( 5, \\  5\\right)\\right)$"
      ],
      "text/plain": [
       "((4, 4), (4,), (5, 5))"
      ]
     },
     "execution_count": 19,
     "metadata": {},
     "output_type": "execute_result"
    }
   ],
   "source": [
    "U, sigma, Vt = np.linalg.svd(M)\n",
    "\n",
    "U.shape, sigma.shape, Vt.shape\n"
   ]
  },
  {
   "cell_type": "code",
   "execution_count": 27,
   "metadata": {
    "slideshow": {
     "slide_type": "subslide"
    }
   },
   "outputs": [
    {
     "name": "stdout",
     "output_type": "stream",
     "text": [
      "[3.         2.23606798 2.         0.        ]\n"
     ]
    },
    {
     "data": {
      "image/png": "[encoded data removed]",
      "text/latex": [
       "$\\displaystyle \\left( \\left[\\begin{matrix}0.0 & 1.0 & 0.0 & 0.0\\\\1.0 & 0.0 & 0.0 & 0.0\\\\0.0 & 0.0 & 0.0 & -1.0\\\\0.0 & 0.0 & 1.0 & 0.0\\end{matrix}\\right], \\  \\left[\\begin{matrix}3.0 & 0.0 & 0.0 & 0.0 & 0.0\\\\0.0 & 2.24 & 0.0 & 0.0 & 0.0\\\\0.0 & 0.0 & 2.0 & 0.0 & 0.0\\\\0.0 & 0.0 & 0.0 & 0.0 & 0.0\\end{matrix}\\right], \\  \\left[\\begin{matrix}0.0 & 0.0 & 1.0 & 0.0 & 0.0\\\\0.45 & 0.0 & 0.0 & 0.0 & 0.89\\\\0.0 & 1.0 & 0.0 & 0.0 & 0.0\\\\0.0 & 0.0 & 0.0 & 1.0 & 0.0\\\\-0.89 & 0.0 & 0.0 & 0.0 & 0.45\\end{matrix}\\right]\\right)$"
      ],
      "text/plain": [
       "⎛                                                   ⎡ 0.0   0.0  1.0  0.0  0.0\n",
       "⎜⎡0.0  1.0  0.0  0.0 ⎤  ⎡3.0  0.0   0.0  0.0  0.0⎤  ⎢                         \n",
       "⎜⎢                   ⎥  ⎢                        ⎥  ⎢0.45   0.0  0.0  0.0  0.8\n",
       "⎜⎢1.0  0.0  0.0  0.0 ⎥  ⎢0.0  2.24  0.0  0.0  0.0⎥  ⎢                         \n",
       "⎜⎢                   ⎥, ⎢                        ⎥, ⎢ 0.0   1.0  0.0  0.0  0.0\n",
       "⎜⎢0.0  0.0  0.0  -1.0⎥  ⎢0.0  0.0   2.0  0.0  0.0⎥  ⎢                         \n",
       "⎜⎢                   ⎥  ⎢                        ⎥  ⎢ 0.0   0.0  0.0  1.0  0.0\n",
       "⎜⎣0.0  0.0  1.0  0.0 ⎦  ⎣0.0  0.0   0.0  0.0  0.0⎦  ⎢                         \n",
       "⎝                                                   ⎣-0.89  0.0  0.0  0.0  0.4\n",
       "\n",
       " ⎤⎞\n",
       " ⎥⎟\n",
       "9⎥⎟\n",
       " ⎥⎟\n",
       " ⎥⎟\n",
       " ⎥⎟\n",
       " ⎥⎟\n",
       " ⎥⎟\n",
       "5⎦⎠"
      ]
     },
     "execution_count": 27,
     "metadata": {},
     "output_type": "execute_result"
    }
   ],
   "source": [
    "print(sigma)\n",
    "\n",
    "smat = np.zeros((4, 5))\n",
    "smat[:4, :4] = np.diag(sigma)\n",
    "\n",
    "out(U), out(smat), out(Vt)"
   ]
  },
  {
   "cell_type": "code",
   "execution_count": 28,
   "metadata": {
    "slideshow": {
     "slide_type": "subslide"
    }
   },
   "outputs": [
    {
     "data": {
      "image/png": "[encoded data removed]",
      "text/latex": [
       "$\\displaystyle \\left[\\begin{matrix}1.0 & 0.0 & 0.0 & 0.0 & 2.0\\\\0.0 & 0.0 & 3.0 & 0.0 & 0.0\\\\0.0 & 0.0 & 0.0 & 0.0 & 0.0\\\\0.0 & 2.0 & 0.0 & 0.0 & 0.0\\end{matrix}\\right]$"
      ],
      "text/plain": [
       "⎡1.0  0.0  0.0  0.0  2.0⎤\n",
       "⎢                       ⎥\n",
       "⎢0.0  0.0  3.0  0.0  0.0⎥\n",
       "⎢                       ⎥\n",
       "⎢0.0  0.0  0.0  0.0  0.0⎥\n",
       "⎢                       ⎥\n",
       "⎣0.0  2.0  0.0  0.0  0.0⎦"
      ]
     },
     "execution_count": 28,
     "metadata": {},
     "output_type": "execute_result"
    }
   ],
   "source": [
    "out(U * smat * Vt)"
   ]
  },
  {
   "cell_type": "markdown",
   "metadata": {
    "slideshow": {
     "slide_type": "subslide"
    }
   },
   "source": [
    "# Geometric interpretation\n",
    "\n",
    "- if $M$ is an $m × m$ real square positive definite matrix\n",
    "- then $U$, $V^T$, and $\\Sigma$ are real $m × m$ matrices\n",
    "  - $\\Sigma$ is a *scaling* matrix\n",
    "  - $U, V^T$ are *rotation* matrices\n",
    "- the factorization $UΣV^T$ is the composition of 3 geometrical transformations: \n",
    "  1. a rotation\n",
    "  2. a scaling\n",
    "  3. and another rotation "
   ]
  },
  {
   "cell_type": "markdown",
   "metadata": {
    "slideshow": {
     "slide_type": "subslide"
    }
   },
   "source": [
    "# Geometric interpretation\n",
    "\n",
    "- upper left: the unit disc with the two canonical unit vectors\n",
    "- upper right: unit disc transformed with $M$ and singular values $σ_1$ and $σ_2$ indicated\n",
    "- lower left: action of $V^T$ on the unit disc: a rotation\n",
    "- lower right: action of $ΣV^T$ on the unit disc: vertical and horizontal scaling\n",
    "\n",
    "<center><img src=\"img/svd.png\" alt=\"vec\" width=\"500\"/></center>"
   ]
  },
  {
   "cell_type": "markdown",
   "metadata": {
    "slideshow": {
     "slide_type": "subslide"
    }
   },
   "source": [
    "# Reduced SVDs\n",
    "\n",
    "<center><img src=\"img/SVD-1.jpg\" alt=\"vec\" width=\"500\"/></center>\n",
    "\n",
    "What happens when m = 1,000,000 and n = 2?"
   ]
  },
  {
   "cell_type": "markdown",
   "metadata": {
    "slideshow": {
     "slide_type": "slide"
    }
   },
   "source": [
    "# Thin SVD \n",
    "\n",
    "$$\\mathbf {M} =\\mathbf {U} _{n}{\\boldsymbol {\\Sigma }}_{n}\\mathbf {V} ^{T}$$\n",
    "\n",
    "- if $n < m$\n",
    "- only the $n$ column vectors of $U$ corresponding to the row vectors of $V^T$ are calculated\n",
    "- this is more efficient when $n ≪ m$\n",
    "- the matrix $U_n$ is thus $m×n$, $Σ_n$ is $n×n$ diagonal, and $V$ is $n×n$"
   ]
  },
  {
   "cell_type": "markdown",
   "metadata": {
    "slideshow": {
     "slide_type": "subslide"
    }
   },
   "source": [
    "# Compact SVD\n",
    "\n",
    "$$\\mathbf {M} =\\mathbf {U} _{r}{\\boldsymbol {\\Sigma }}_{r}\\mathbf {V} _{r}^{T}$$\n",
    "\n",
    "- if $M$ as rank $r$ and $r<m$ and $r<n$\n",
    "- only the $r$ column vectors of $U$ and $r$ row vectors of $V^T$ are calculated\n",
    "  - corresponding to the non-zero singular values $Σ_r$ \n",
    "- this is more efficient when $r ≪ n$\n",
    "- the matrix $U_r$ is thus $m×r$, $Σ_r$ is $r×r$ diagonal, and $V_r^T$ is $r×n$\n",
    "\n"
   ]
  },
  {
   "cell_type": "markdown",
   "metadata": {
    "slideshow": {
     "slide_type": "subslide"
    }
   },
   "source": [
    "# Truncated SVD\n",
    "\n",
    "$${\\bar {\\mathbf {M} }}=\\mathbf {U} _{t}{\\boldsymbol {\\Sigma }}_{t}\\mathbf {V} _{t}^{T}$$\n",
    "\n",
    "- if one decides for a $t<r$\n",
    "- only the $t$ column vectors of $U$ and $t$ row vectors of $V^T$ are calculated\n",
    "  - corresponding to the $t$ *largest* singular values $Σ_t$ \n",
    "- this is more efficient when $t≪r$\n",
    "- the matrix $U_t$ is thus $m×t$, $Σ_t$ is $t×t$ diagonal, and $V_t^T$ is $t×n$\n",
    "- the truncated SVD is *no* longer an exact decomposition of the original matrix $M$ but can be used to reconstruct an *approximate* matrix"
   ]
  },
  {
   "cell_type": "markdown",
   "metadata": {
    "slideshow": {
     "slide_type": "skip"
    }
   },
   "source": [
    "# Notes on the action of SVD\n",
    "\n",
    "- $V$ contains the principal directions (as column vectors)\n",
    "- $MV$ will project the data matrix on the principal directions, i.e. represents the coordinate vectors in the basis of $V$\n",
    "- as: $MV =(U \\Sigma V^T ) V = U \\Sigma I = U \\Sigma $\n",
    "<br> hence $U \\Sigma$ represents the coordinate vectors in the basis of $V$"
   ]
  },
  {
   "cell_type": "markdown",
   "metadata": {
    "slideshow": {
     "slide_type": "subslide"
    }
   },
   "source": [
    "# Truncated SVD\n",
    "\n",
    "- consider a $m \\times n$ pixels image as a data matrix with values representing the gray intesity\n",
    "- i.e. a column vector is a thin (1 pixel) stripe \n",
    "\n",
    "<center><img src=\"img/f1.png\" alt=\"ex\" width=\"300\"/></center>\n",
    "\n",
    "- we can then represent an image using a smaller number of singular vectors"
   ]
  },
  {
   "cell_type": "markdown",
   "metadata": {
    "slideshow": {
     "slide_type": "subslide"
    }
   },
   "source": [
    "# Truncated SVD\n",
    "\n",
    "- using only 1, 2 or 3 singular vectors\n",
    "\n",
    "<center><img src=\"img/f2.png\" alt=\"ex\" width=\"800\"/></center>"
   ]
  },
  {
   "cell_type": "markdown",
   "metadata": {
    "slideshow": {
     "slide_type": "subslide"
    }
   },
   "source": [
    "# Truncated SVD\n",
    "\n",
    "- using more singular vectors\n",
    "\n",
    "<center><img src=\"img/f3.png\" alt=\"ex\" width=\"800\"/></center>"
   ]
  },
  {
   "cell_type": "markdown",
   "metadata": {
    "slideshow": {
     "slide_type": "subslide"
    }
   },
   "source": [
    "# SVD uses in Data Science/Machine Learning\n",
    "\n",
    "- to compute PCA\n",
    "\n",
    "- dimensionality reduction\n",
    "\n",
    "- dataset compression\n",
    "\n",
    "- features extractions\n",
    "\n",
    "- noise reduction\n",
    "\n",
    "- sparse representation to dense representation\n",
    "\n",
    "- orthogonalisation\n",
    "\n",
    "- typically used as part of data analysis pipeline\n",
    "\n",
    "- ...\n"
   ]
  }
 ],
 "metadata": {
  "celltoolbar": "Slideshow",
  "kernelspec": {
   "display_name": "Python 3 (ipykernel)",
   "language": "python",
   "name": "python3"
  },
  "language_info": {
   "codemirror_mode": {
    "name": "ipython",
    "version": 3
   },
   "file_extension": ".py",
   "mimetype": "text/x-python",
   "name": "python",
   "nbconvert_exporter": "python",
   "pygments_lexer": "ipython3",
   "version": "3.11.5"
  },
  "toc": {
   "base_numbering": 1,
   "nav_menu": {},
   "number_sections": true,
   "sideBar": false,
   "skip_h1_title": true,
   "title_cell": "Table of Contents",
   "title_sidebar": "Contents",
   "toc_cell": true,
   "toc_position": {},
   "toc_section_display": true,
   "toc_window_display": false
  }
 },
 "nbformat": 4,
 "nbformat_minor": 2
}
