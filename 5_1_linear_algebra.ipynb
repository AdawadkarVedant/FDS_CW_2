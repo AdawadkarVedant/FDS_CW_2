{
 "cells": [
  {
   "cell_type": "code",
   "execution_count": 2,
   "metadata": {
    "slideshow": {
     "slide_type": "skip"
    },
    "tags": []
   },
   "outputs": [
    {
     "data": {
      "text/html": [
       "<link href=\"https://fonts.googleapis.com/css?family=Cabin|Quicksand\" rel=\"stylesheet\"><style>.container{width:90% !important; font-family: \"Cabin\", sans-serif;}em{color: red !important;}</style><style>.output_png {display: table-cell;text-align: center;vertical-align: middle;}</style>"
      ],
      "text/plain": [
       "<IPython.core.display.HTML object>"
      ]
     },
     "execution_count": 2,
     "metadata": {},
     "output_type": "execute_result"
    }
   ],
   "source": [
    "%matplotlib inline\n",
    "import numpy as np\n",
    "from IPython.core.display import HTML\n",
    "HTML('<link href=\"https://fonts.googleapis.com/css?family=Cabin|Quicksand\" rel=\"stylesheet\"><style>.container{width:90% !important; font-family: \"Cabin\", sans-serif;}em{color: red !important;}</style><style>.output_png {display: table-cell;text-align: center;vertical-align: middle;}</style>')"
   ]
  },
  {
   "cell_type": "code",
   "execution_count": null,
   "metadata": {
    "slideshow": {
     "slide_type": "slide"
    }
   },
   "outputs": [],
   "source": [
    "# Linear Algebra"
   ]
  },
  {
   "cell_type": "markdown",
   "metadata": {
    "slideshow": {
     "slide_type": "slide"
    }
   },
   "source": [
    "## Introduction\n",
    "\n",
    "What are vectors and vector spaces?"
   ]
  },
  {
   "cell_type": "markdown",
   "metadata": {
    "slideshow": {
     "slide_type": "subslide"
    }
   },
   "source": [
    "## Vector\n",
    "\n",
    "- in mathematics, physics, and engineering, a useful notion is that of *vector*\n",
    "- a vector is an entity which has a *length* and a *direction*\n",
    "\n",
    "<center><img src=\"img/vec.png\" alt=\"vec\" width=\"450\"/></center>\n",
    "\n",
    "- one can define a useful set of operations with vectors called *vector algebra* "
   ]
  },
  {
   "cell_type": "markdown",
   "metadata": {
    "slideshow": {
     "slide_type": "subslide"
    }
   },
   "source": [
    "## Vector usage\n",
    "\n",
    "- in physics vectors can be used to describe forces\n",
    "- if one wants to know the resulting force when multiple forces are acting on one object, one can sum the associated vectors\n",
    "\n",
    "<center><img src=\"img/force.png\" alt=\"force\" width=\"600\"/></center>"
   ]
  },
  {
   "cell_type": "markdown",
   "metadata": {
    "slideshow": {
     "slide_type": "subslide"
    }
   },
   "source": [
    "## Operations that change the lenght\n",
    "\n",
    "- one useful operation is: multiply a vector by a *scalar* (i.e. a real number)\n",
    "- the effect is to change the length of the vector\n",
    "\n",
    "<center><img src=\"img/scale.png\" alt=\"scale\" width=\"450\"/></center>"
   ]
  },
  {
   "cell_type": "markdown",
   "metadata": {
    "slideshow": {
     "slide_type": "subslide"
    }
   },
   "source": [
    "## Operations that change the lenght and the direction\n",
    "\n",
    "- what happens if we multiply ba a negative scalar?\n",
    "- what we want is for the vector to point in the opposite direction\n",
    "\n",
    "<center><img src=\"img/sign.png\" alt=\"sign\" width=\"150\"/></center>"
   ]
  },
  {
   "cell_type": "markdown",
   "metadata": {
    "slideshow": {
     "slide_type": "subslide"
    }
   },
   "source": [
    "## Adding together vectors\n",
    "\n",
    "\n",
    "When we add two vectors $A$, $B$ together, we mean:\n",
    "- place the start of the arrow $B$ at the tip of the arrow $A$\n",
    "- draw an arrow from the start (tail) of $A$ to the tip (head) of $B$\n",
    "- the new arrow represents the vector $A + B$\n",
    "\n",
    "<center><img src=\"img/vsum.png\" alt=\"sum\" width=\"450\"/></center>"
   ]
  },
  {
   "cell_type": "markdown",
   "metadata": {
    "slideshow": {
     "slide_type": "subslide"
    }
   },
   "source": [
    "## Vector difference\n",
    "\n",
    "\n",
    "When we subtract vector $v$ from vector $u$, we mean:\n",
    "- draw an arrow from the tip (head) of $v$ to the tip (head) of $u$\n",
    "- or also: add to $u$ the opposite of $v$\n",
    "- Note that there is no notion of a *starting point* or *origin*, only lengths and directions\n",
    "- the new arrow represents the vector $u - v$\n",
    "- we can visualize the arrow making it start from the same place as all other vectors\n",
    "\n",
    "<center><img src=\"img/vdiff.png\" alt=\"sum\" width=\"650\"/></center>"
   ]
  },
  {
   "cell_type": "markdown",
   "metadata": {
    "slideshow": {
     "slide_type": "subslide"
    }
   },
   "source": [
    "# Vector Space\n",
    "\n",
    "- a vector space over the real numbers is a set $V$ equipped with two binary operations\n",
    "- elements of $V$ are called *vectors* and real numbers are called *scalars*\n",
    "- operation 1: *vector addition*\n",
    "  - takes any two vectors $v$ and $w$ and outputs a third vector $v + w$\n",
    "- operation 2: *scalar multiplication*\n",
    "  - takes any scalar $a$ and any vector $v$ and outputs a new vector $av$"
   ]
  },
  {
   "cell_type": "markdown",
   "metadata": {
    "slideshow": {
     "slide_type": "subslide"
    }
   },
   "source": [
    "# Axioms\n",
    "\n",
    "addition and multiplication in vector spaces must satisfy the following axioms:\n",
    "$u, v$ and $w$ are vectors in $V$, and $a$ and $b$ are scalars\n",
    "\n",
    "\n",
    "| Axiom\t| Signification |\n",
    "| --- | --- |\n",
    "|Associativity of addition\t| $u + (v + w) = (u + v) + w$ |\n",
    "|Commutativity of addition\t|$u + v = v + u$|\n",
    "|Identity element of addition|\t$0 ∈ V$ is called the zero vector, such that $v + 0 = v$ for all $v ∈ V$|\n",
    "|Inverse elements of addition|  $−v ∈ V$ is called the additive inverse of $v$, such that $v + (−v) = 0$|\n",
    "|Distributivity of scalar multiplication with respect to vector addition |  \t$a(u + v) = au + av$|\n",
    "|Distributivity of scalar multiplication with respect to field addition\t | $(a + b)v = av + bv$ |\n",
    "|Compatibility of scalar multiplication with field multiplication|\t$a(bv) = (ab)v$ |\n",
    "|Identity element of scalar multiplication\t| $1v = v$|\n"
   ]
  },
  {
   "cell_type": "markdown",
   "metadata": {
    "slideshow": {
     "slide_type": "subslide"
    }
   },
   "source": [
    "# Properties and consequences\n",
    "\n",
    "- vector addition and scalar multiplication satisfy the *closure* property\n",
    "  - i.e. $u + v$ and $av$ are in $V$ for all $a$ and all $u, v$ in $V$\n",
    "- the zero vector $0$ of $V$ and the additive inverse $−v$ of any vector $v$ are unique\n",
    "- $av$ equals $0$ if and only if $a$ equals $0$ *or* $v$ equals $0$"
   ]
  },
  {
   "cell_type": "markdown",
   "metadata": {
    "slideshow": {
     "slide_type": "subslide"
    }
   },
   "source": [
    "\n",
    "# What is Linear Algebra?\n",
    "\n",
    "linear algebra is the math concerned with *transformations* (or mappings or functions) between vector spaces\n",
    "\n",
    "- what is a *mapping* between spaces?\n",
    "- it is a procedure that given an element in the first space (the input space), can give us an element in the second space (output space)   "
   ]
  },
  {
   "cell_type": "markdown",
   "metadata": {
    "slideshow": {
     "slide_type": "subslide"
    }
   },
   "source": [
    "# Linear transformation\n",
    "\n",
    "A linear mapping or transformation is a special type of mapping that satisfies some constraints\n",
    "\n",
    "- Given vector spaces $V$ and $W$, a linear transformation is a map (a function)\n",
    "$$T:V\\to W$$\n",
    "- that, for *any* vectors $u,v ∈ V$ and *any* scalar $a ∈ F$ is compatible with addition and scalar multiplication:\n",
    "\n",
    "$$T(u+v)=T(u)+T(v),\\quad T(av)=aT(v)$$\n",
    "\n"
   ]
  },
  {
   "cell_type": "markdown",
   "metadata": {
    "slideshow": {
     "slide_type": "fragment"
    }
   },
   "source": [
    "another way to say it is that for *any* vectors $u, v ∈ V$ and *any* scalars $a, b ∈ F$:\n",
    "\n",
    "$$\\quad T(au+bv)=T(au)+T(bv)=aT(u)+bT(v)$$"
   ]
  },
  {
   "cell_type": "markdown",
   "metadata": {
    "slideshow": {
     "slide_type": "subslide"
    }
   },
   "source": [
    "# Subspaces, span, and basis\n",
    "\n",
    "a subspace is a vector space that is a subset of some other larger vector space\n",
    "\n",
    "we will say that the larger vector space has a higher *dimension*"
   ]
  },
  {
   "cell_type": "markdown",
   "metadata": {
    "slideshow": {
     "slide_type": "subslide"
    }
   },
   "source": [
    "# How to build a subspace\n",
    "\n",
    "take a *linear combination* of a set of vectors $v_1, v_2, ..., v_k$:\n",
    "\n",
    "$$a_{1}v_{1}+a_{2}v_{2}+\\cdots +a_{k}v_{k}$$\n",
    "\n",
    "where $a_1, a_2, ..., a_k$ are scalars\n",
    "\n",
    "the set of all linear combinations of vectors $v_1, v_2, ..., v_k$ is a subspace<br>called the *span* of those vectors\n",
    "\n",
    "<center><img src=\"img/span.png\" alt=\"span\" width=\"500\"/></center>"
   ]
  },
  {
   "cell_type": "markdown",
   "metadata": {
    "slideshow": {
     "slide_type": "subslide"
    }
   },
   "source": [
    "# Linear independence\n",
    "\n",
    "- a linear combination of any system of vectors with all zero coefficients is the *zero vector* of $V$\n",
    "- if this is the only way to express the zero vector as a linear combination of $v_1, v_2, ..., v_k$ <br>then these vectors are *linearly independent*"
   ]
  },
  {
   "cell_type": "markdown",
   "metadata": {
    "slideshow": {
     "slide_type": "subslide"
    }
   },
   "source": [
    "# Linear independence\n",
    "- given a set of vectors $V_k$ that span a space\n",
    "<br>if any vector $w \\in V_k$ is a linear combination of the remaining vectors\n",
    "<br>then this set is **not linearly independent** \n",
    "<br>in fact I can write $w = a_1 v_1 + a_2 v_2 + ... $\n",
    "<br>or equivalently $0 = a_1 v_1 + a_2 v_2 + ... - w $\n",
    "<br>so I can obtain the zero vector without requiring all scalars in the linear combination to be 0\n",
    "- then the span would remain the *same* if we remove $w$ from the set"
   ]
  },
  {
   "cell_type": "markdown",
   "metadata": {
    "slideshow": {
     "slide_type": "subslide"
    }
   },
   "source": [
    "# Linear independence\n",
    "\n",
    "- $\\mapsto$ a set of linearly dependent vectors is *redundant*\n",
    "<br>i.e. we can find a linearly independent subset that spans the same subspace\n",
    "\n",
    "- $\\mapsto$ we only need a linearly independent set of vectors that spans a vector space $V$\n",
    "<br>we call it a *basis* of $V$ \n",
    "\n",
    "<center><img src=\"img/basis.png\" alt=\"basis\" width=\"600\"/></center>"
   ]
  },
  {
   "cell_type": "markdown",
   "metadata": {
    "slideshow": {
     "slide_type": "subslide"
    }
   },
   "source": [
    "# Basis\n",
    "\n",
    "- any set of vectors that spans $V$ contains a basis\n",
    "- any two bases of a vector space $V$ have the *same* cardinality\n",
    "<br>called the *dimension* of V\n",
    "- if $U$ is a subspace of $V$, then $\\dim U ≤ \\dim V$\n"
   ]
  },
  {
   "cell_type": "markdown",
   "metadata": {
    "slideshow": {
     "slide_type": "subslide"
    }
   },
   "source": [
    "# Equivalence\n",
    "\n",
    "- if a *bijective* linear mapping exists between two vector spaces \n",
    "  - i.e. every vector from the second space is associated with *exactly one* in the first, and vice versa\n",
    "- then the two spaces are *isomorphic*\n",
    "\n",
    "\n",
    "- isomorphism preserves linear structures $\\mapsto$ isomorphic spaces are *essentially the same*"
   ]
  }
 ],
 "metadata": {
  "celltoolbar": "Slideshow",
  "kernelspec": {
   "display_name": "Python 3 (ipykernel)",
   "language": "python",
   "name": "python3"
  },
  "language_info": {
   "codemirror_mode": {
    "name": "ipython",
    "version": 3
   },
   "file_extension": ".py",
   "mimetype": "text/x-python",
   "name": "python",
   "nbconvert_exporter": "python",
   "pygments_lexer": "ipython3",
   "version": "3.11.4"
  },
  "toc": {
   "base_numbering": 1,
   "nav_menu": {},
   "number_sections": true,
   "sideBar": false,
   "skip_h1_title": true,
   "title_cell": "Table of Contents",
   "title_sidebar": "Contents",
   "toc_cell": true,
   "toc_position": {},
   "toc_section_display": true,
   "toc_window_display": false
  }
 },
 "nbformat": 4,
 "nbformat_minor": 4
}
