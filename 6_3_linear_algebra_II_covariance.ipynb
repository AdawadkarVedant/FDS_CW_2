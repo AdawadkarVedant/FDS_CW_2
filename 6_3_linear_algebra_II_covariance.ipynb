{
 "cells": [
  {
   "cell_type": "code",
   "execution_count": 1,
   "metadata": {
    "slideshow": {
     "slide_type": "skip"
    }
   },
   "outputs": [
    {
     "data": {
      "text/html": [
       "<link href=\"https://fonts.googleapis.com/css?family=Cabin|Quicksand\" rel=\"stylesheet\"><style>.container{width:90% !important; font-family: \"Cabin\", sans-serif;}em{color: red !important;}</style><style>.output_png {display: table-cell;text-align: center;vertical-align: middle;}</style>"
      ],
      "text/plain": [
       "<IPython.core.display.HTML object>"
      ]
     },
     "execution_count": 1,
     "metadata": {},
     "output_type": "execute_result"
    }
   ],
   "source": [
    "%matplotlib inline\n",
    "import matplotlib.pyplot as plt\n",
    "import numpy as np\n",
    "import scipy as sp\n",
    "from sympy import init_printing \n",
    "from sympy import Matrix\n",
    "init_printing(use_latex=True)\n",
    "def out(mat, n=2): return Matrix(np.round(mat, decimals=n))\n",
    "from IPython.core.display import HTML\n",
    "HTML('<link href=\"https://fonts.googleapis.com/css?family=Cabin|Quicksand\" rel=\"stylesheet\"><style>.container{width:90% !important; font-family: \"Cabin\", sans-serif;}em{color: red !important;}</style><style>.output_png {display: table-cell;text-align: center;vertical-align: middle;}</style>')"
   ]
  },
  {
   "cell_type": "markdown",
   "metadata": {
    "slideshow": {
     "slide_type": "slide"
    }
   },
   "source": [
    "# Covariance"
   ]
  },
  {
   "cell_type": "markdown",
   "metadata": {
    "slideshow": {
     "slide_type": "slide"
    }
   },
   "source": [
    "# Mean\n",
    "- let $X$ be a random variable with a finite number of finite outcomes $x_{1},x_{2},\\ldots ,x_{k}$ occurring with probabilities $p_{1},p_{2},\\ldots ,p_{k}$\n",
    "- the mean (or expected value) of $X$ (often indicated as $\\mu$) is defined as\n",
    "$$\\operatorname {E} [X]=\\sum _{i=1}^{k}x_{i}\\,p_{i}=x_{1}p_{1}+x_{2}p_{2}+\\cdots +x_{k}p_{k}$$\n",
    "when all values are equiprobable, the mean is equivalent to the aritmetic average"
   ]
  },
  {
   "cell_type": "markdown",
   "metadata": {
    "slideshow": {
     "slide_type": "slide"
    }
   },
   "source": [
    " # Mean (example)\n",
    " \n",
    " $X$ represents the outcome of a roll of a fair six-sided die\n",
    " \n",
    " $$\\mathbb{E}[X] = 1\\cdot\\frac16 + 2\\cdot\\frac16 + 3\\cdot\\frac16 + 4\\cdot\\frac16 + 5\\cdot\\frac16 + 6\\cdot\\frac16 = 3.5$$"
   ]
  },
  {
   "cell_type": "markdown",
   "metadata": {
    "slideshow": {
     "slide_type": "slide"
    }
   },
   "source": [
    "# Variance, Standard Deviation\n",
    "- the *variance* of a random variable $X$ is the expected value of the squared deviation from the mean of \n",
    "$X$\n",
    "- often indicated as $\\sigma^2$ or `Var(x)`\n",
    "\n",
    "$$\\operatorname {Var} (X)= \\sigma^2 = \\operatorname {E} \\left[(X-\\mu )^{2}\\right]$$\n",
    "\n",
    "- the *standard deviation* (indicated as $\\sigma$) is the square root of the variance\n",
    "- Note that $\\sigma$ (unlike the variance) is expressed in the same units as the data"
   ]
  },
  {
   "cell_type": "markdown",
   "metadata": {
    "slideshow": {
     "slide_type": "slide"
    }
   },
   "source": [
    "# Variance (example)\n",
    "\n",
    "$X$ represents the outcome of a roll of a fair six-sided die\n",
    "\n",
    "$$\\begin{align}\n",
    "  \\operatorname{Var}(X) &= \\sum_{i=1}^6 \\frac{1}{6}\\left(i - \\frac{7}{2}\\right)^2 \\\\[5pt]\n",
    "    &= \\frac{1}{6}\\left((-5/2)^2 + (-3/2)^2 + (-1/2)^2 + (1/2)^2 + (3/2)^2 + (5/2)^2\\right) \\\\[5pt]\n",
    "    &= \\frac{35}{12} \\approx 2.92.\n",
    "\\end{align}$$"
   ]
  },
  {
   "cell_type": "markdown",
   "metadata": {
    "slideshow": {
     "slide_type": "slide"
    }
   },
   "source": [
    "# Covariance\n",
    "- the covariance is a measure of the *joint variability* of two random variables\n",
    "- let $X$ and $Y$ be two random variables\n",
    "- the covariance is defined as the expected value of the product of their deviations from their individual expected values\n",
    "\n",
    "$$ \\operatorname {cov} (X,Y)=\\operatorname {E} {{\\big [}(X-\\operatorname {E} [X])(Y-\\operatorname {E} [Y]){\\big ]}}$$\t\n",
    "\n",
    "- the variance is a special case of the covariance in which the two variables are identical <br>(that is, in which one variable always takes the same value as the other)\n",
    "$$ \\operatorname {cov} (X,X)=\\operatorname {var} (X)\\equiv \\sigma ^{2}(X)$$"
   ]
  },
  {
   "attachments": {
    "image.png": {
     "image/png": "[encoded data removed]"
    }
   },
   "cell_type": "markdown",
   "metadata": {
    "slideshow": {
     "slide_type": "slide"
    }
   },
   "source": [
    "\n",
    "# Covariance (example)\n",
    "\n",
    "![image.png](attachment:image.png)\n",
    "\n",
    "<sub>\n",
    "$\\mu_X = 5(0.3) + 6(0.4) + 7(0.1 + 0.2) = 6$ \n",
    "    \n",
    "$\\mu_Y = 8(0.4 + 0.1) + 9(0.3 + 0.2) = 8.5$\n",
    "\n",
    "$\\begin{align}\n",
    "  \\operatorname{cov}(X, Y)\n",
    "    ={} &\\sigma_{XY} = \\sum_{(x,y)\\in S}f(x, y) \\left(x - \\mu_X\\right)\\left(y - \\mu_Y\\right) \\\\[4pt]\n",
    "    ={} &(0)(5 - 6)(8 - 8.5) + (0.4)(6 - 6)(8 - 8.5) + (0.1)(7 - 6)(8 - 8.5) +{} \\\\[4pt]\n",
    "        &(0.3)(5 - 6)(9 - 8.5) + (0)(6 - 6)(9 - 8.5) + (0.2)(7 - 6)(9 - 8.5) \\\\[4pt]\n",
    "    ={} &{-0.1} \\; \n",
    "\\end{align}$\n",
    "\n",
    "</sub>\n"
   ]
  },
  {
   "cell_type": "markdown",
   "metadata": {
    "slideshow": {
     "slide_type": "subslide"
    }
   },
   "source": [
    "## Covariance matrix:\n",
    "\n",
    "- *random vector $\\mathbf {X}$:* a random variable with multiple dimensions $\\mathbf {X} =(X_1,\\dots,X_p)^\\mathsf{T} $\n",
    "  - i.e. each element of the column vector is a scalar random variable\n",
    "- *covariance matrix $\\Sigma$*  $p \\times p$ matrix where the element in  position i, j is the covariance between the ith and jth elements of a random vector\n",
    "\n",
    "$$\\Sigma =\\mathrm {E} \\left[\\left(\\mathbf {X} -\\mathrm {E} [\\mathbf {X} ]\\right)\\left(\\mathbf {X} -\\mathrm {E} [\\mathbf {X} ]\\right)^{\\rm {T}}\\right]$$\n",
    "\n",
    "where $E[\\cdot]$ is the expectation operator on vectors: $\\operatorname{E}[\\mathbf{X}] = (\\operatorname{E}[X_1],...,\\operatorname{E}[X_p])^{\\mathrm T}$\n",
    "- **Note:** this is not an inner product (that would give a scalar)"
   ]
  },
  {
   "cell_type": "markdown",
   "metadata": {
    "slideshow": {
     "slide_type": "subslide"
    }
   },
   "source": [
    "## Covariance matrix (example)\n",
    "\n",
    "$$\\mathbf {X} = (X_1, X_2, X_3)^T$$\n",
    "\n",
    "$$\\operatorname{E}[\\mathbf{X}] = (\\operatorname{E}[X_1],\\operatorname{E}[X_2],\\operatorname{E}[X_3])^{\\mathrm T}$$\n",
    "\n",
    "\n",
    "$$\\Sigma =\\begin{bmatrix} Var(X_1) & Cov(X_1, X_2) & Cov(X_1, X_3) \\\\ \n",
    "                  Cov(X_2, X_1) & Var(X_2) & Cov(X_2, X_3) \\\\ \n",
    "                  Cov(X_3, X_1) & Cov(X_3, X_2) & Var(X_3) \\end{bmatrix}$$\n",
    "\n"
   ]
  },
  {
   "cell_type": "markdown",
   "metadata": {
    "slideshow": {
     "slide_type": "slide"
    }
   },
   "source": [
    "# The multivariate normal distribution\n",
    "\n",
    "<center><img src=\"img/normal_dist.jpg\" alt=\"vec\" width=\"300\"/></center>\n",
    "\n",
    "<center><img src=\"img/Bivariate-normal-distribution.png\" alt=\"vec\" width=\"300\"/></center>\n",
    "\n"
   ]
  },
  {
   "cell_type": "markdown",
   "metadata": {
    "slideshow": {
     "slide_type": "slide"
    }
   },
   "source": [
    "# The multivariate normal distribution\n",
    "\n",
    "- Numpy offers the function with blueprint:\n",
    "\n",
    "```numpy.random.multivariate_normal(mean, cov, size)```\n",
    "\n",
    "- mean is a p-dimensional vector: it indicates the center of the distribution, the location where samples are most likely to be generated\n",
    "- covariance $\\Sigma$ is a `p x p` square PSD matrix: it indicates the tendency of two variables to vary together\n",
    "- $\\Sigma_{ij}$ is the covariance of $x_i$ and $x_j$, $\\Sigma_{ii}$ is the variance of $x_i$\n",
    "- the *probability density function* in $p$ dimensions, with mean $\\mu$ and covariance $\\Sigma$ is\n",
    "$$ f(x) = \\frac{e^{-\\frac{1}{2} (x - \\mu)^T \\Sigma^{-1} (x - \\mu)}}{\\sqrt{(2 \\pi)^p |\\Sigma|}}  $$"
   ]
  },
  {
   "cell_type": "code",
   "execution_count": 22,
   "metadata": {
    "slideshow": {
     "slide_type": "slide"
    }
   },
   "outputs": [
    {
     "data": {
      "image/png": "[encoded data removed]",
      "text/latex": [
       "$\\displaystyle \\left[\\begin{matrix}1.0 & 0.0\\\\0.0 & 1.0\\end{matrix}\\right]$"
      ],
      "text/plain": [
       "⎡1.0  0.0⎤\n",
       "⎢        ⎥\n",
       "⎣0.0  1.0⎦"
      ]
     },
     "execution_count": 22,
     "metadata": {},
     "output_type": "execute_result"
    }
   ],
   "source": [
    "S = np.eye(2)\n",
    "out(S)"
   ]
  },
  {
   "cell_type": "code",
   "execution_count": 24,
   "metadata": {
    "slideshow": {
     "slide_type": "-"
    }
   },
   "outputs": [
    {
     "data": {
      "image/png": "[encoded data removed]",
      "text/plain": [
       "<Figure size 504x504 with 1 Axes>"
      ]
     },
     "metadata": {
      "needs_background": "light"
     },
     "output_type": "display_data"
    }
   ],
   "source": [
    "D = np.random.multivariate_normal(mean=[1,1], cov=S, size=1000)\n",
    "x1,x2 = D.T\n",
    "plt.figure(figsize=(7,7))\n",
    "plt.scatter(x1,x2)\n",
    "plt.axis('equal')\n",
    "plt.grid()\n",
    "plt.show()"
   ]
  },
  {
   "cell_type": "code",
   "execution_count": 31,
   "metadata": {
    "slideshow": {
     "slide_type": "slide"
    }
   },
   "outputs": [
    {
     "data": {
      "image/png": "[encoded data removed]",
      "text/latex": [
       "$\\displaystyle \\left[\\begin{matrix}2.0 & 0.0\\\\0.0 & 0.75\\end{matrix}\\right]$"
      ],
      "text/plain": [
       "⎡2.0  0.0 ⎤\n",
       "⎢         ⎥\n",
       "⎣0.0  0.75⎦"
      ]
     },
     "execution_count": 31,
     "metadata": {},
     "output_type": "execute_result"
    }
   ],
   "source": [
    "S = np.array([[2,0],[0, 0.75]])\n",
    "out(S)"
   ]
  },
  {
   "cell_type": "code",
   "execution_count": 32,
   "metadata": {
    "slideshow": {
     "slide_type": "-"
    }
   },
   "outputs": [
    {
     "data": {
      "image/png": "[encoded data removed]",
      "text/plain": [
       "<Figure size 504x504 with 1 Axes>"
      ]
     },
     "metadata": {
      "needs_background": "light"
     },
     "output_type": "display_data"
    }
   ],
   "source": [
    "D = np.random.multivariate_normal(mean=[1,1], cov=S, size=1000)\n",
    "x1,x2 = D.T\n",
    "plt.figure(figsize=(7,7))\n",
    "plt.scatter(x1,x2)\n",
    "plt.axis('equal')\n",
    "plt.grid()\n",
    "plt.show()"
   ]
  },
  {
   "cell_type": "code",
   "execution_count": 29,
   "metadata": {
    "slideshow": {
     "slide_type": "slide"
    }
   },
   "outputs": [
    {
     "data": {
      "image/png": "[encoded data removed]",
      "text/latex": [
       "$\\displaystyle \\left[\\begin{matrix}2.0 & 0.65\\\\0.65 & 0.75\\end{matrix}\\right]$"
      ],
      "text/plain": [
       "⎡2.0   0.65⎤\n",
       "⎢          ⎥\n",
       "⎣0.65  0.75⎦"
      ]
     },
     "execution_count": 29,
     "metadata": {},
     "output_type": "execute_result"
    }
   ],
   "source": [
    "S = np.array([[2,.65],[.65, 0.75]])\n",
    "out(S)"
   ]
  },
  {
   "cell_type": "code",
   "execution_count": 30,
   "metadata": {
    "slideshow": {
     "slide_type": "-"
    }
   },
   "outputs": [
    {
     "data": {
      "image/png": "[encoded data removed]",
      "text/plain": [
       "<Figure size 504x504 with 1 Axes>"
      ]
     },
     "metadata": {
      "needs_background": "light"
     },
     "output_type": "display_data"
    }
   ],
   "source": [
    "D = np.random.multivariate_normal(mean=[1,1], cov=S, size=1000)\n",
    "x1,x2 = D.T\n",
    "plt.figure(figsize=(7,7))\n",
    "plt.scatter(x1,x2)\n",
    "plt.axis('equal')\n",
    "plt.grid()\n",
    "plt.show()"
   ]
  },
  {
   "cell_type": "code",
   "execution_count": 33,
   "metadata": {
    "slideshow": {
     "slide_type": "slide"
    }
   },
   "outputs": [
    {
     "data": {
      "image/png": "[encoded data removed]",
      "text/latex": [
       "$\\displaystyle \\left[\\begin{matrix}2.0 & -0.65\\\\-0.65 & 0.75\\end{matrix}\\right]$"
      ],
      "text/plain": [
       "⎡ 2.0   -0.65⎤\n",
       "⎢            ⎥\n",
       "⎣-0.65  0.75 ⎦"
      ]
     },
     "execution_count": 33,
     "metadata": {},
     "output_type": "execute_result"
    }
   ],
   "source": [
    "S = np.array([[2,-.65],[-.65, 0.75]])\n",
    "out(S)"
   ]
  },
  {
   "cell_type": "code",
   "execution_count": 34,
   "metadata": {
    "slideshow": {
     "slide_type": "-"
    }
   },
   "outputs": [
    {
     "data": {
      "image/png": "[encoded data removed]",
      "text/plain": [
       "<Figure size 504x504 with 1 Axes>"
      ]
     },
     "metadata": {
      "needs_background": "light"
     },
     "output_type": "display_data"
    }
   ],
   "source": [
    "D = np.random.multivariate_normal(mean=[1,1], cov=S, size=1000)\n",
    "x1,x2 = D.T\n",
    "plt.figure(figsize=(7,7))\n",
    "plt.scatter(x1,x2)\n",
    "plt.axis('equal')\n",
    "plt.grid()\n",
    "plt.show()"
   ]
  },
  {
   "cell_type": "markdown",
   "metadata": {
    "slideshow": {
     "slide_type": "subslide"
    }
   },
   "source": [
    "# Sample covariance matrix (estimation of parameters) \n",
    "\n",
    "- given a sample consisting of $n$ independent observations $x_1,..., x_n$ of a $p$-dimensional random vector $x \\in R^{p}$ (a $p$ column-vector)\n",
    "- then an unbiased estimator of the $p×p$ covariance matrix is the sample covariance matrix:\n",
    "$${\\mathbf  {\\Sigma}}={1 \\over {n-1}}\\sum _{{i=1}}^{n}(x_{i}-\\overline {x})(x_{i}-\\overline {x})^{{\\mathrm  {T}}}$$\n",
    "where $x_{i}$ is the i-th observation of the p-dimensional random vector, and the vector\n",
    "${\\overline {x}}={1 \\over {n}}\\sum _{i=1}^{n}x_{i}$ is the sample mean"
   ]
  },
  {
   "cell_type": "code",
   "execution_count": 2,
   "metadata": {
    "slideshow": {
     "slide_type": "subslide"
    }
   },
   "outputs": [
    {
     "data": {
      "text/html": [
       "<div>\n",
       "<style scoped>\n",
       "    .dataframe tbody tr th:only-of-type {\n",
       "        vertical-align: middle;\n",
       "    }\n",
       "\n",
       "    .dataframe tbody tr th {\n",
       "        vertical-align: top;\n",
       "    }\n",
       "\n",
       "    .dataframe thead th {\n",
       "        text-align: right;\n",
       "    }\n",
       "</style>\n",
       "<table border=\"1\" class=\"dataframe\">\n",
       "  <thead>\n",
       "    <tr style=\"text-align: right;\">\n",
       "      <th></th>\n",
       "      <th>height</th>\n",
       "      <th>weight</th>\n",
       "      <th>age</th>\n",
       "      <th>male</th>\n",
       "    </tr>\n",
       "  </thead>\n",
       "  <tbody>\n",
       "    <tr>\n",
       "      <th>0</th>\n",
       "      <td>151.765</td>\n",
       "      <td>47.825606</td>\n",
       "      <td>63.0</td>\n",
       "      <td>1</td>\n",
       "    </tr>\n",
       "    <tr>\n",
       "      <th>1</th>\n",
       "      <td>139.700</td>\n",
       "      <td>36.485807</td>\n",
       "      <td>63.0</td>\n",
       "      <td>0</td>\n",
       "    </tr>\n",
       "    <tr>\n",
       "      <th>2</th>\n",
       "      <td>136.525</td>\n",
       "      <td>31.864838</td>\n",
       "      <td>65.0</td>\n",
       "      <td>0</td>\n",
       "    </tr>\n",
       "    <tr>\n",
       "      <th>3</th>\n",
       "      <td>156.845</td>\n",
       "      <td>53.041914</td>\n",
       "      <td>41.0</td>\n",
       "      <td>1</td>\n",
       "    </tr>\n",
       "    <tr>\n",
       "      <th>4</th>\n",
       "      <td>145.415</td>\n",
       "      <td>41.276872</td>\n",
       "      <td>51.0</td>\n",
       "      <td>0</td>\n",
       "    </tr>\n",
       "    <tr>\n",
       "      <th>...</th>\n",
       "      <td>...</td>\n",
       "      <td>...</td>\n",
       "      <td>...</td>\n",
       "      <td>...</td>\n",
       "    </tr>\n",
       "    <tr>\n",
       "      <th>539</th>\n",
       "      <td>145.415</td>\n",
       "      <td>31.127751</td>\n",
       "      <td>17.0</td>\n",
       "      <td>1</td>\n",
       "    </tr>\n",
       "    <tr>\n",
       "      <th>540</th>\n",
       "      <td>162.560</td>\n",
       "      <td>52.163080</td>\n",
       "      <td>31.0</td>\n",
       "      <td>1</td>\n",
       "    </tr>\n",
       "    <tr>\n",
       "      <th>541</th>\n",
       "      <td>156.210</td>\n",
       "      <td>54.062497</td>\n",
       "      <td>21.0</td>\n",
       "      <td>0</td>\n",
       "    </tr>\n",
       "    <tr>\n",
       "      <th>542</th>\n",
       "      <td>71.120</td>\n",
       "      <td>8.051258</td>\n",
       "      <td>0.0</td>\n",
       "      <td>1</td>\n",
       "    </tr>\n",
       "    <tr>\n",
       "      <th>543</th>\n",
       "      <td>158.750</td>\n",
       "      <td>52.531624</td>\n",
       "      <td>68.0</td>\n",
       "      <td>1</td>\n",
       "    </tr>\n",
       "  </tbody>\n",
       "</table>\n",
       "<p>544 rows × 4 columns</p>\n",
       "</div>"
      ],
      "text/plain": [
       "      height     weight   age  male\n",
       "0    151.765  47.825606  63.0     1\n",
       "1    139.700  36.485807  63.0     0\n",
       "2    136.525  31.864838  65.0     0\n",
       "3    156.845  53.041914  41.0     1\n",
       "4    145.415  41.276872  51.0     0\n",
       "..       ...        ...   ...   ...\n",
       "539  145.415  31.127751  17.0     1\n",
       "540  162.560  52.163080  31.0     1\n",
       "541  156.210  54.062497  21.0     0\n",
       "542   71.120   8.051258   0.0     1\n",
       "543  158.750  52.531624  68.0     1\n",
       "\n",
       "[544 rows x 4 columns]"
      ]
     },
     "execution_count": 2,
     "metadata": {},
     "output_type": "execute_result"
    }
   ],
   "source": [
    "import pandas as pd\n",
    "df = pd.read_csv('https://raw.githubusercontent.com/rmcelreath/rethinking/master/data/Howell1.csv', sep=';')\n",
    "df"
   ]
  },
  {
   "cell_type": "code",
   "execution_count": 16,
   "metadata": {
    "slideshow": {
     "slide_type": "subslide"
    }
   },
   "outputs": [
    {
     "data": {
      "image/png": "[encoded data removed]",
      "text/plain": [
       "<Figure size 504x504 with 1 Axes>"
      ]
     },
     "metadata": {
      "needs_background": "light"
     },
     "output_type": "display_data"
    }
   ],
   "source": [
    "D = df[df['age']>18][['height','weight']].values\n",
    "x1,x2 = D.T\n",
    "plt.figure(figsize=(7,7))\n",
    "plt.scatter(x1,x2)\n",
    "plt.axis('equal')\n",
    "plt.grid()  \n",
    "plt.show()"
   ]
  },
  {
   "cell_type": "code",
   "execution_count": 14,
   "metadata": {
    "slideshow": {
     "slide_type": "subslide"
    }
   },
   "outputs": [
    {
     "name": "stdout",
     "output_type": "stream",
     "text": [
      "(346, 2)\n"
     ]
    },
    {
     "data": {
      "image/png": "[encoded data removed]",
      "text/latex": [
       "$\\displaystyle \\left[\\begin{matrix}154.64 & 45.05\\end{matrix}\\right]$"
      ],
      "text/plain": [
       "[154.64  45.05]"
      ]
     },
     "execution_count": 14,
     "metadata": {},
     "output_type": "execute_result"
    }
   ],
   "source": [
    "D = np.mat(D)\n",
    "print(D.shape)\n",
    "n = D.shape[0]\n",
    "out(np.mean(D, axis=0))"
   ]
  },
  {
   "cell_type": "code",
   "execution_count": 10,
   "metadata": {
    "slideshow": {
     "slide_type": "subslide"
    }
   },
   "outputs": [
    {
     "data": {
      "image/png": "[encoded data removed]",
      "text/latex": [
       "$\\displaystyle \\left[\\begin{matrix}60.43 & 37.78\\\\37.78 & 41.67\\end{matrix}\\right]$"
      ],
      "text/plain": [
       "⎡60.43  37.78⎤\n",
       "⎢            ⎥\n",
       "⎣37.78  41.67⎦"
      ]
     },
     "execution_count": 10,
     "metadata": {},
     "output_type": "execute_result"
    }
   ],
   "source": [
    "Dn = (D - np.mean(D, axis=0))\n",
    "out(Dn.T*Dn/(n-1))"
   ]
  },
  {
   "cell_type": "markdown",
   "metadata": {
    "slideshow": {
     "slide_type": "subslide"
    }
   },
   "source": [
    "# Standard Score\n",
    "\n",
    "- it is the number of standard deviations by which the value of an observation or data point is above or below the mean value\n",
    "- it is computed as \n",
    "$$z={x-\\mu  \\over \\sigma }$$\n",
    "\n",
    "where:\n",
    "  - μ is the mean of the population.\n",
    "  - σ is the standard deviation of the population.\n"
   ]
  },
  {
   "cell_type": "markdown",
   "metadata": {
    "slideshow": {
     "slide_type": "subslide"
    }
   },
   "source": [
    "# Standard Score\n",
    "\n",
    "<center><img src=\"img/z.png\" alt=\"z\" width=\"1100\"/></center>\n",
    "\n"
   ]
  },
  {
   "cell_type": "markdown",
   "metadata": {
    "slideshow": {
     "slide_type": "slide"
    }
   },
   "source": [
    "# Mahalanobis distance\n",
    "- the Mahalanobis distance is a measure of the distance between a point and a multivariate Gaussian distribution\n",
    "- it generalizes the notion of standard score, i.e. of measuring the number of standard deviations away from a mean"
   ]
  },
  {
   "cell_type": "markdown",
   "metadata": {
    "slideshow": {
     "slide_type": "subslide"
    }
   },
   "source": [
    "## Definition:\n",
    "\n",
    "- the Mahalanobis distance of an observation \n",
    "${\\displaystyle {\\mathbf {x}}=[x_{1},x_{2},x_{3},\\dots ,x_{p}]^{T}}$ from a set of observations with mean \n",
    "${\\displaystyle {\\mathbf {\\mu }}=[\\mu _{1},\\mu _{2},\\mu _{3},\\dots ,\\mu _{p}]^{T}}$ and covariance matrix $\\Sigma$ <br>is defined as:\n",
    "\n",
    "$${\\displaystyle D_{M}({\\mathbf {x}})={\\sqrt {({\\mathbf {x}}-{\\mathbf {\\mu }})^{T}\\Sigma^{-1}({\\mathbf {x}}-{\\mathbf {\\mu }})}}}$$\n",
    "\n",
    "- but is also a dissimilarity measure between two random vectors $\\mathbf{x}$ and $\\mathbf{y}$ of the same distribution with covariance matrix $\\Sigma$:\n",
    "\n",
    "$$ d(\\mathbf{x},\\mathbf{y})=\\sqrt{(\\mathbf{x}-\\mathbf{y})^T \\Sigma^{-1} (\\mathbf{x}-\\mathbf{y})}$$"
   ]
  },
  {
   "cell_type": "markdown",
   "metadata": {
    "slideshow": {
     "slide_type": "subslide"
    }
   },
   "source": [
    "## Observations:\n",
    "\n",
    "- when $\\Sigma$ is the identity matrix $\\mapsto$ the Mahalanobis distance is just the Euclidean distance\n",
    "- when $\\Sigma$ is diagonal $\\mapsto$ the Mahalanobis distance is the *normalized* Euclidean distance:\n",
    "$$ d(\\mathbf{x},\\mathbf{y})= \\sqrt{\\sum_{i=1}^p  {(x_i - y_i)^2 \\over \\sigma_{i}^2}}$$\n",
    "where $\\sigma_i$ is the standard deviation of the $i$th dimension "
   ]
  },
  {
   "cell_type": "markdown",
   "metadata": {
    "slideshow": {
     "slide_type": "subslide"
    }
   },
   "source": [
    "## Intuition:\n",
    "\n",
    "- how to estimate the probability that a point in p-dimensional Euclidean space belongs to a set of points?\n",
    "- the closer the point is to the center of mass of the set, the higher the prob that it will belong\n",
    "- but close or far depends on how much data spreads out\n",
    "- (for unidimensional normal) when the distance is less than one standard deviation $\\mapsto$ it is probable that it belongs"
   ]
  },
  {
   "cell_type": "markdown",
   "metadata": {
    "slideshow": {
     "slide_type": "subslide"
    }
   },
   "source": [
    "## Intuition:\n",
    "\n",
    "- but in  p-dimensional Euclidean space a single value of dispersion implies a spherical shape\n",
    "- if distribution is ellipsoidal, then it depends not only on the distance from the center of mass, but also on the *direction*\n",
    "- (to be likely the test point belongs to the distribution) in the directions where the ellipsoid has a short axis the test point must be closer \n",
    "- in the directions where the axis is long the test point can be further away\n",
    "\n",
    "the Mahalanobis distance is the distance from the center of mass divided by the width of the ellipsoid in the direction of the test point"
   ]
  },
  {
   "cell_type": "markdown",
   "metadata": {
    "slideshow": {
     "slide_type": "subslide"
    }
   },
   "source": [
    "## Intuition:\n",
    "\n",
    "- consider the figure\n",
    "- P1 and P2 are at the same Euclidean distance from the origin\n",
    "- which point is closer (w.r.t. the Mahalanobis distance) to the center of the distribution in Case 1?\n",
    "- which point is closer to the center in Case 2?\n",
    "\n",
    "<center><img src=\"img/mal.png\" alt=\"z\" width=\"900\"/></center>\n",
    "\n"
   ]
  },
  {
   "cell_type": "markdown",
   "metadata": {
    "slideshow": {
     "slide_type": "subslide"
    }
   },
   "source": [
    "## Intuition:\n",
    "\n",
    "- Remember: the Mahalanobis distance is the distance from the center of mass divided by the width of the ellipsoid in the direction of the test point\n",
    "\n",
    "- Case 1: P1 closer than P2\n",
    "- Case 2: P1 further than P2\n",
    "\n",
    "<center><img src=\"img/mal.png\" alt=\"z\" width=\"900\"/></center>\n",
    "\n"
   ]
  }
 ],
 "metadata": {
  "celltoolbar": "Slideshow",
  "kernelspec": {
   "display_name": "Python 3 (ipykernel)",
   "language": "python",
   "name": "python3"
  },
  "language_info": {
   "codemirror_mode": {
    "name": "ipython",
    "version": 3
   },
   "file_extension": ".py",
   "mimetype": "text/x-python",
   "name": "python",
   "nbconvert_exporter": "python",
   "pygments_lexer": "ipython3",
   "version": "3.11.5"
  },
  "toc": {
   "base_numbering": 1,
   "nav_menu": {},
   "number_sections": true,
   "sideBar": false,
   "skip_h1_title": true,
   "title_cell": "Table of Contents",
   "title_sidebar": "Contents",
   "toc_cell": true,
   "toc_position": {},
   "toc_section_display": true,
   "toc_window_display": false
  }
 },
 "nbformat": 4,
 "nbformat_minor": 2
}
