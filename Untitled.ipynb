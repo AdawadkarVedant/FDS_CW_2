{
 "cells": [
  {
   "cell_type": "code",
   "execution_count": 11,
   "id": "12a656b6-9961-4c2a-a5b6-5a163c7cfff1",
   "metadata": {
    "tags": []
   },
   "outputs": [
    {
     "name": "stdout",
     "output_type": "stream",
     "text": [
      "[[0 1 2]\n",
      " [3 4 5]\n",
      " [6 7 8]]\n"
     ]
    }
   ],
   "source": [
    "import numpy as np\n",
    "\n",
    "A = np.arange(9).reshape(3,3)\n",
    "print(A)"
   ]
  },
  {
   "cell_type": "code",
   "execution_count": 12,
   "id": "cfc4d456-e70c-45e4-bbb3-ab6bc4992b89",
   "metadata": {
    "tags": []
   },
   "outputs": [],
   "source": [
    "A[:,-1] = A[:,-1] * -1"
   ]
  },
  {
   "cell_type": "code",
   "execution_count": 13,
   "id": "2750860b-eb58-4781-96f9-295367c5a799",
   "metadata": {
    "tags": []
   },
   "outputs": [
    {
     "name": "stdout",
     "output_type": "stream",
     "text": [
      "[[ 0  1 -2]\n",
      " [ 3  4 -5]\n",
      " [ 6  7 -8]]\n"
     ]
    }
   ],
   "source": [
    "print(A)"
   ]
  },
  {
   "cell_type": "code",
   "execution_count": 18,
   "id": "adeb8d52-0bad-471a-9e3c-93945e8e142c",
   "metadata": {
    "tags": []
   },
   "outputs": [
    {
     "name": "stdout",
     "output_type": "stream",
     "text": [
      "[[1 2]\n",
      " [3 4]]\n"
     ]
    }
   ],
   "source": [
    "G = np.array([[1, 2], [3, 4]])\n",
    "print(G)"
   ]
  },
  {
   "cell_type": "code",
   "execution_count": null,
   "id": "947c8caa-19ca-4862-9907-a20127db4a70",
   "metadata": {},
   "outputs": [],
   "source": [
    "def normalize(v):\n",
    "        return v / np.sqrt(v.dot(v))\n",
    "    \n",
    "def create_rot_mat(A):\n",
    "    # YOUR CODE HERE\n",
    "    print('A - ', A)\n",
    "    # https://stackoverflow.com/questions/13249108/efficient-pythonic-check-for-singular-matrix\n",
    "    \n",
    "    # Get determinant of the input array and check if it is singular\n",
    "    determinant = np.linalg.det(A)\n",
    "    print('Det - ', determinant)\n",
    "    assert not np.isclose(determinant,0), 'Input array cannot be a singular array'\n",
    "    \n",
    "    # Apply Gram-Schmidt Process\n",
    "    # https://stackoverflow.com/questions/67618474/to-understand-how-gram-schmidt-process-is-translated-into-this-piece-of-code-as\n",
    "    G = A.copy()\n",
    "    n = len(G)\n",
    "    G[:, 0] = normalize(G[:, 0])\n",
    "    for i in range(1, n):\n",
    "        Gi = G[:, i]\n",
    "        for j in range(0, i):\n",
    "            Gj = G[:, j]\n",
    "            t = Gi.dot(Gj)\n",
    "            Gi = Gi - t * Gj\n",
    "        G[:, i] = normalize(Gi)\n",
    "        \n",
    "    # Flip the sign of the last column provided that the determinant is negative\n",
    "    if determinant < 0:\n",
    "        G[:,-1] = G[:,-1] * -1\n",
    "        \n",
    "    return G\n",
    "\n",
    "create_rot_mat(np.array([[1,0,0],[1,1,0],[1,1,1]]))"
   ]
  }
 ],
 "metadata": {
  "kernelspec": {
   "display_name": "Python 3 (ipykernel)",
   "language": "python",
   "name": "python3"
  },
  "language_info": {
   "codemirror_mode": {
    "name": "ipython",
    "version": 3
   },
   "file_extension": ".py",
   "mimetype": "text/x-python",
   "name": "python",
   "nbconvert_exporter": "python",
   "pygments_lexer": "ipython3",
   "version": "3.11.4"
  }
 },
 "nbformat": 4,
 "nbformat_minor": 5
}
