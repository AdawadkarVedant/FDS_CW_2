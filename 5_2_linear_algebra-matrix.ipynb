{
 "cells": [
  {
   "cell_type": "code",
   "execution_count": 1,
   "metadata": {
    "slideshow": {
     "slide_type": "skip"
    },
    "tags": []
   },
   "outputs": [
    {
     "data": {
      "text/html": [
       "<link href=\"https://fonts.googleapis.com/css?family=Cabin|Quicksand\" rel=\"stylesheet\"><style>.container{width:90% !important; font-family: \"Cabin\", sans-serif;}em{color: red !important;}</style><style>.output_png {display: table-cell;text-align: center;vertical-align: middle;}</style>"
      ],
      "text/plain": [
       "<IPython.core.display.HTML object>"
      ]
     },
     "execution_count": 1,
     "metadata": {},
     "output_type": "execute_result"
    }
   ],
   "source": [
    "%matplotlib inline\n",
    "import numpy as np\n",
    "from IPython.core.display import HTML\n",
    "HTML('<link href=\"https://fonts.googleapis.com/css?family=Cabin|Quicksand\" rel=\"stylesheet\"><style>.container{width:90% !important; font-family: \"Cabin\", sans-serif;}em{color: red !important;}</style><style>.output_png {display: table-cell;text-align: center;vertical-align: middle;}</style>')"
   ]
  },
  {
   "cell_type": "markdown",
   "metadata": {
    "slideshow": {
     "slide_type": "slide"
    }
   },
   "source": [
    "# Coordinate system\n",
    "\n",
    "- given basis ${v_1, v_2, ..., v_n}$ of $V$ \n",
    "- we can construct a *coordinate* system for $V$: \n",
    "<br>the vector $v$ with coordinates $(a_1, a_2, ..., a_n)$ is the linear combination\n",
    "$$v = a_{1}v_{1}+a_{2}v_{2}+\\cdots +a_{n}v_{n}$$\n",
    "\n",
    "- because ${v_1, v_2, ..., v_n}$ span $V$ $\\rightarrow$ *any*  $v \\in V$ can be assigned coordinates\n",
    "- because ${v_1, v_2, ..., v_n}$ are linearly independent $\\rightarrow$ the coordinates are *unique*\n",
    "<br>i.e. there is only *one* linear combination that is equal to $v$"
   ]
  },
  {
   "cell_type": "markdown",
   "metadata": {
    "slideshow": {
     "slide_type": "subslide"
    }
   },
   "source": [
    "# Coordinate system\n",
    "\n",
    "- once a basis of a vector space $V$ has been *chosen*\n",
    "- a vector $V$ may be *identified* with n coordinates in ${\\rm I\\!R}^n$\n",
    "- vector operations can now be computed in an equivalent and consistent way using the corresponding coordinate vectors in ${\\rm I\\!R}^n$  \n",
    "- e.g. addition and scalar multiplication of vectors in V correspond to addition and scalar multiplication of their coordinate vectors in ${\\rm I\\!R}^n$\n"
   ]
  },
  {
   "cell_type": "markdown",
   "metadata": {
    "slideshow": {
     "slide_type": "subslide"
    }
   },
   "source": [
    "# Coordinate system\n",
    "\n",
    "<center><img src=\"img/vector_2d_add.png\" alt=\"matrix\" width=\"400\"/></center>"
   ]
  },
  {
   "cell_type": "markdown",
   "metadata": {
    "slideshow": {
     "slide_type": "subslide"
    }
   },
   "source": [
    "## Numpy and Vector Algebra\n",
    "\n",
    "- to represent coordinate vectors: one dimensional Numpy arrays?\n",
    "- to guarantee consistency with other operations defined later (e.g. inner product) we need to use two dimensional arrays\n",
    "- coordinate vector can be a *row* vector (e.g. [1  4]) or a *column* vector (e.g. $\\begin{bmatrix} 1 \\\\ 4 \\\\ \\end{bmatrix}$)\n",
    "- by default: column vector"
   ]
  },
  {
   "cell_type": "code",
   "execution_count": 2,
   "metadata": {
    "slideshow": {
     "slide_type": "subslide"
    },
    "tags": []
   },
   "outputs": [
    {
     "name": "stdout",
     "output_type": "stream",
     "text": [
      "Not like this:\n",
      "[1 4]\n",
      "but rather like this:\n",
      "[[1]\n",
      " [4]]\n"
     ]
    }
   ],
   "source": [
    "print('Not like this:')\n",
    "u = np.array([1,4])\n",
    "print(u)\n",
    "\n",
    "print('but rather like this:')\n",
    "u = np.array([1,4]).reshape(-1,1)\n",
    "print(u)"
   ]
  },
  {
   "cell_type": "code",
   "execution_count": 3,
   "metadata": {
    "slideshow": {
     "slide_type": "subslide"
    },
    "tags": []
   },
   "outputs": [
    {
     "data": {
      "text/plain": [
       "array([[6],\n",
       "       [5]])"
      ]
     },
     "execution_count": 3,
     "metadata": {},
     "output_type": "execute_result"
    }
   ],
   "source": [
    "u = np.array([1,4]).reshape(-1,1)\n",
    "v = np.array([5,1]).reshape(-1,1)\n",
    "u + v"
   ]
  },
  {
   "cell_type": "code",
   "execution_count": 4,
   "metadata": {
    "slideshow": {
     "slide_type": "fragment"
    },
    "tags": []
   },
   "outputs": [
    {
     "data": {
      "text/plain": [
       "array([[-4],\n",
       "       [ 3]])"
      ]
     },
     "execution_count": 4,
     "metadata": {},
     "output_type": "execute_result"
    }
   ],
   "source": [
    "u = np.array([1,4]).reshape(-1,1)\n",
    "v = np.array([5,1]).reshape(-1,1)\n",
    "u - v"
   ]
  },
  {
   "cell_type": "code",
   "execution_count": 5,
   "metadata": {
    "slideshow": {
     "slide_type": "fragment"
    },
    "tags": []
   },
   "outputs": [
    {
     "data": {
      "text/plain": [
       "array([[2],\n",
       "       [8]])"
      ]
     },
     "execution_count": 5,
     "metadata": {},
     "output_type": "execute_result"
    }
   ],
   "source": [
    "u = np.array([1,4]).reshape(-1,1)\n",
    "2 * u"
   ]
  },
  {
   "cell_type": "markdown",
   "metadata": {
    "slideshow": {
     "slide_type": "subslide"
    }
   },
   "source": [
    "## Numpy and Vector Algebra\n",
    "\n",
    "- numpy allows operations on multidimensional arrays\n",
    "- standard arithemtic operators: `{+ - * / ** %}` \n",
    "  - if arrays have the same size, then operator is applied *element wise*\n",
    "  - or else, *broadcast* is applied"
   ]
  },
  {
   "cell_type": "markdown",
   "metadata": {
    "slideshow": {
     "slide_type": "subslide"
    }
   },
   "source": [
    "## Universal Functions\n",
    "\n",
    "- numpy offers functions such as sin, cos, exp, etc\n",
    "- they operate *element-wise* on an array and output an array\n",
    "  - it is just a convenient way to avoid loops and optimize efficiency"
   ]
  },
  {
   "cell_type": "code",
   "execution_count": 6,
   "metadata": {
    "slideshow": {
     "slide_type": "fragment"
    },
    "tags": []
   },
   "outputs": [
    {
     "name": "stdout",
     "output_type": "stream",
     "text": [
      "[[0]\n",
      " [1]\n",
      " [2]]\n"
     ]
    },
    {
     "data": {
      "text/plain": [
       "array([[1.        ],\n",
       "       [2.71828183],\n",
       "       [7.3890561 ]])"
      ]
     },
     "execution_count": 6,
     "metadata": {},
     "output_type": "execute_result"
    }
   ],
   "source": [
    "X = np.arange(3).reshape(-1,1)\n",
    "print(X)\n",
    "np.exp(X)"
   ]
  },
  {
   "cell_type": "code",
   "execution_count": 7,
   "metadata": {
    "slideshow": {
     "slide_type": "fragment"
    },
    "tags": []
   },
   "outputs": [
    {
     "data": {
      "text/plain": [
       "array([[0.        ],\n",
       "       [1.        ],\n",
       "       [1.41421356]])"
      ]
     },
     "execution_count": 7,
     "metadata": {},
     "output_type": "execute_result"
    }
   ],
   "source": [
    "np.sqrt(X)"
   ]
  },
  {
   "cell_type": "markdown",
   "metadata": {
    "slideshow": {
     "slide_type": "subslide"
    }
   },
   "source": [
    "# WARNING\n",
    "\n",
    "- there is a *difference* between the element wise operations and the operations of vector algebra\n",
    "  - element wise sum/subtraction is the same \n",
    "  - the notion of product(s) for example is *not*\n",
    "  - the notion of exponentials or square root is also *not* the same\n",
    "- this is because operations of vector/matrix algebra are defined to have certain mathematical properties and are not designed for efficient calculation "
   ]
  },
  {
   "cell_type": "markdown",
   "metadata": {
    "slideshow": {
     "slide_type": "subslide"
    }
   },
   "source": [
    "# Matrix theory (linear transformations)\n",
    "\n",
    "- if:\n",
    "  - $V$ and $W$ are an n-dimensional and m-dimensional vector spaces\n",
    "  - a basis of $V$ and a basis of $W$ have been fixed\n",
    "- then any *linear transformation* $T: V → W$ may be encoded by an $m × n$ matrix $A$\n",
    "- two matrices that encode the *same* linear transformation in different bases are called *similar* "
   ]
  },
  {
   "cell_type": "markdown",
   "metadata": {
    "slideshow": {
     "slide_type": "subslide"
    }
   },
   "source": [
    "# Matrix theory\n",
    "\n",
    "- matrix theory replaces the study of linear transformations\n",
    "  - which are defined axiomatically\n",
    "- by the study of matrices\n",
    "  - which are concrete objects\n",
    "- one advantage of working on linear transformations via matrices is the possibility to compute useful functions of the representative matrices (e.g. the determinant)"
   ]
  },
  {
   "cell_type": "markdown",
   "metadata": {
    "slideshow": {
     "slide_type": "subslide"
    }
   },
   "source": [
    "# Matrix\n",
    "\n",
    "- a matrix is a rectangular array of numbers  (in Numpy parlance, it is a 2-dimensional array)\n",
    "- the individual numbers are matrix *elements*\n",
    "- the horizontal and vertical sequences of numbers are called *rows* and *columns*, respectively\n",
    "- a matrix has a *size* defined by the number of rows and columns"
   ]
  },
  {
   "cell_type": "markdown",
   "metadata": {
    "slideshow": {
     "slide_type": "subslide"
    }
   },
   "source": [
    "# Matrix\n",
    "\n",
    "- a matrix with $m$ rows and $n$ columns is called an $m \\times n$ matrix or m-by-n matrix\n",
    "<center><img src=\"img/mat.png\" alt=\"matrix\" width=\"400\"/></center>"
   ]
  },
  {
   "cell_type": "markdown",
   "metadata": {
    "slideshow": {
     "slide_type": "subslide"
    }
   },
   "source": [
    "# Matrix\n",
    "\n",
    "- matrices made of a single row (column) are called row (column) vectors\n",
    "- a matrix with the same number of rows and columns is called a *square* matrix\n",
    "\n",
    "\n",
    "| Name\t| Size | Example |\n",
    "| --- | --- | --- |\n",
    "| Row vector | $$1 \\times n$$ |\\begin{bmatrix}3&7&2\\end{bmatrix} |\n",
    "| Column vector | $$n \\times 1$$ |\\begin{bmatrix}4\\\\1\\\\8\\end{bmatrix}|\n",
    "|Square matrix| $$n \\times n$$| \\begin{bmatrix}9&13&5\\\\1&11&7\\\\2&6&3\\end{bmatrix} |\n"
   ]
  },
  {
   "cell_type": "markdown",
   "metadata": {
    "slideshow": {
     "slide_type": "subslide"
    }
   },
   "source": [
    "# Operations on matrices\n",
    "\n",
    "- we can view a matrix as a tuple of vectors stacked together\n",
    "  - i.e. as many column vectors or as many row vectors \n",
    "- the sum between matrices is defined as the sum of the corresponding vectors\n",
    "- the product between a scalar and a matrix is defined as the product of the scalar for each vector"
   ]
  },
  {
   "cell_type": "markdown",
   "metadata": {
    "slideshow": {
     "slide_type": "subslide"
    }
   },
   "source": [
    "# Operations on matrices\n",
    "\n",
    "sum:\n",
    "$$\\begin{bmatrix}1&3&1\\\\1&0&0\\end{bmatrix}+\\begin{bmatrix}0&0&5\\\\7&5&0\\end{bmatrix}=\\begin{bmatrix}1+0&3+0&1+5\\\\1+7&0+5&0+0\\end{bmatrix}=\\begin{bmatrix}1&3&6\\\\8&5&0\\end{bmatrix}$$\n",
    "\n",
    "scalar product:\n",
    "$$2\\cdot \\begin{bmatrix}1&8&-3\\\\4&-2&5\\end{bmatrix}=\\begin{bmatrix}2\\cdot 1&2\\cdot 8&2\\cdot -3\\\\2\\cdot 4&2\\cdot -2&2\\cdot 5\\end{bmatrix}=\\begin{bmatrix}2&16&-6\\\\8&-4&10\\end{bmatrix}$$"
   ]
  },
  {
   "cell_type": "markdown",
   "metadata": {
    "slideshow": {
     "slide_type": "subslide"
    }
   },
   "source": [
    "# Operations on matrices\n",
    "\n",
    "We'll see these operations:\n",
    "\n",
    "- transposition\n",
    "- rank\n",
    "- trace\n",
    "- determinant"
   ]
  },
  {
   "cell_type": "markdown",
   "metadata": {
    "slideshow": {
     "slide_type": "subslide"
    }
   },
   "source": [
    "# Transposition\n",
    "\n",
    "- the transpose of a matrix is an operator which flips a matrix over its diagonal\n",
    "- i.e. it switches the row and column indices of the matrix \n",
    "- the result is a matrix denoted as $A^T$ (also written $A′$, $A^{tr}$ or $A^t$)."
   ]
  },
  {
   "cell_type": "code",
   "execution_count": 8,
   "metadata": {
    "slideshow": {
     "slide_type": "fragment"
    },
    "tags": []
   },
   "outputs": [
    {
     "name": "stdout",
     "output_type": "stream",
     "text": [
      "[[0 1]\n",
      " [2 3]\n",
      " [4 5]\n",
      " [6 7]\n",
      " [8 9]]\n",
      "[[0 2 4 6 8]\n",
      " [1 3 5 7 9]]\n"
     ]
    }
   ],
   "source": [
    "A = np.arange(10).reshape(5,2)\n",
    "print(A)\n",
    "\n",
    "print\n",
    "\n",
    "B = A.T\n",
    "print(B)"
   ]
  },
  {
   "cell_type": "markdown",
   "metadata": {
    "slideshow": {
     "slide_type": "subslide"
    }
   },
   "source": [
    "## Note:\n",
    "\n",
    "To better represent matrices in a Jupyter, use:"
   ]
  },
  {
   "cell_type": "code",
   "execution_count": 9,
   "metadata": {
    "slideshow": {
     "slide_type": "fragment"
    },
    "tags": []
   },
   "outputs": [],
   "source": [
    "from sympy import init_printing \n",
    "from sympy import Matrix\n",
    "init_printing(use_latex=True)\n",
    "def out(mat, n=2): return Matrix(np.round(mat, decimals=n))"
   ]
  },
  {
   "cell_type": "code",
   "execution_count": null,
   "metadata": {
    "slideshow": {
     "slide_type": "fragment"
    },
    "tags": []
   },
   "outputs": [],
   "source": [
    "out(A)"
   ]
  },
  {
   "cell_type": "code",
   "execution_count": null,
   "metadata": {
    "slideshow": {
     "slide_type": "fragment"
    },
    "tags": []
   },
   "outputs": [],
   "source": [
    "out(B)"
   ]
  },
  {
   "cell_type": "markdown",
   "metadata": {
    "slideshow": {
     "slide_type": "subslide"
    }
   },
   "source": [
    "# Rank\n",
    "\n",
    "- the rank of a matrix $A$ is the dimension of the vector space generated \n",
    "<br>(or spanned) by its columns\n",
    "- it is the maximal number of linearly independent columns of $A$\n",
    "- i.e. equal to the dimension of the space spanned by its columns"
   ]
  },
  {
   "cell_type": "code",
   "execution_count": 10,
   "metadata": {
    "slideshow": {
     "slide_type": "fragment"
    },
    "tags": []
   },
   "outputs": [
    {
     "name": "stdout",
     "output_type": "stream",
     "text": [
      "[[1. 0. 0.]\n",
      " [0. 1. 0.]\n",
      " [0. 0. 1.]]\n"
     ]
    },
    {
     "data": {
      "text/plain": [
       "3"
      ]
     },
     "execution_count": 10,
     "metadata": {},
     "output_type": "execute_result"
    }
   ],
   "source": [
    "print(np.eye(3))\n",
    "np.linalg.matrix_rank(np.eye(3))"
   ]
  },
  {
   "cell_type": "code",
   "execution_count": 11,
   "metadata": {
    "slideshow": {
     "slide_type": "subslide"
    },
    "tags": []
   },
   "outputs": [
    {
     "name": "stdout",
     "output_type": "stream",
     "text": [
      "[[1 2 1]\n",
      " [2 3 1]\n",
      " [3 4 1]]\n"
     ]
    },
    {
     "data": {
      "text/plain": [
       "2"
      ]
     },
     "execution_count": 11,
     "metadata": {},
     "output_type": "execute_result"
    }
   ],
   "source": [
    "A = np.array([[1,2,3], [2,3,4], [1,1,1]]).T \n",
    "print(A)\n",
    "np.linalg.matrix_rank(A)"
   ]
  },
  {
   "cell_type": "markdown",
   "metadata": {
    "slideshow": {
     "slide_type": "subslide"
    }
   },
   "source": [
    "# Trace\n",
    "\n",
    "- given a *square* matrix $A$ one can define the *trace* \n",
    "<br>as the sum of the elements on the main diagonal of $A$\n",
    "$${\\displaystyle \\operatorname {tr} (A)=\\sum _{i=1}^{n}a_{ii}=a_{11}+a_{22}+\\dots +a_{nn}}$$\n",
    "- where $a_{ii}$ denotes the entry on the $i$th row and $i$th column of A. "
   ]
  },
  {
   "cell_type": "markdown",
   "metadata": {
    "slideshow": {
     "slide_type": "subslide"
    }
   },
   "source": [
    "# Properties of $tr$\n",
    "\n",
    "- it is invariant with respect to a change of basis\n",
    "- the trace is a linear mapping:\n",
    "<br>for all square matrices A and B, and all scalars c\n",
    "$${\\displaystyle {\\begin{aligned}\\operatorname {tr} (A+B)&=\\operatorname {tr} (A)+\\operatorname {tr} (B)\\\\\\operatorname {tr} (cA)&=c\\operatorname {tr} (A)\\end{aligned}}}$$\n",
    "\n",
    "- a matrix and its transpose have the same trace:\n",
    "$${\\displaystyle \\operatorname {tr} (A)=\\operatorname {tr} \\left(A^{\\mathrm {T} }\\right)}$$"
   ]
  },
  {
   "cell_type": "markdown",
   "metadata": {
    "slideshow": {
     "slide_type": "subslide"
    }
   },
   "source": [
    "# Determinant\n",
    "\n",
    "- given a *square* matrix $A$ one can define the *determinant*\n",
    "<br>denoted $\\det(A)$, $\\det A$, or $|A|$ \n",
    "- it's the volume of the parallelepiped formed by the column vectors\n",
    "\n",
    "<img src=\"img/paral.png\" alt=\"det\" width=\"500\"/>"
   ]
  },
  {
   "cell_type": "markdown",
   "metadata": {
    "slideshow": {
     "slide_type": "subslide"
    }
   },
   "source": [
    "# Properties of $\\det$\n",
    "\n",
    "- it is invariant with respect to a change of basis\n",
    "- a mapping has an *inverse* if and only if the determinant is not zero\n",
    "- if we write the vectors as the columns (or rows) of a matrix, \n",
    "<br>and if the determinant of that matrix is zero, \n",
    "<br>then the vectors are linearly dependent"
   ]
  },
  {
   "cell_type": "code",
   "execution_count": 12,
   "metadata": {
    "slideshow": {
     "slide_type": "fragment"
    },
    "tags": []
   },
   "outputs": [
    {
     "data": {
      "image/png": "[encoded data removed]",
      "text/latex": [
       "$\\displaystyle -2.0$"
      ],
      "text/plain": [
       "-2.0000000000000004"
      ]
     },
     "execution_count": 12,
     "metadata": {},
     "output_type": "execute_result"
    }
   ],
   "source": [
    "A = np.array([[1, 2], [3, 4]])\n",
    "np.linalg.det(A)"
   ]
  },
  {
   "cell_type": "code",
   "execution_count": 13,
   "metadata": {
    "slideshow": {
     "slide_type": "fragment"
    },
    "tags": []
   },
   "outputs": [
    {
     "data": {
      "image/png": "[encoded data removed]",
      "text/latex": [
       "$\\displaystyle 0.0$"
      ],
      "text/plain": [
       "0.0"
      ]
     },
     "execution_count": 13,
     "metadata": {},
     "output_type": "execute_result"
    }
   ],
   "source": [
    "A = np.array([[1, 2], [2, 4]])\n",
    "np.linalg.det(A)"
   ]
  },
  {
   "cell_type": "markdown",
   "metadata": {
    "slideshow": {
     "slide_type": "subslide"
    }
   },
   "source": [
    "# Properties of $\\det$\n",
    "\n",
    "- $\\det(I_{n})=1$ where $I_n$ is the $n × n$ **identity** matrix.\n",
    "- $\\det(A^{-1})={\\frac {1}{\\det(A)}}=\\det(A)^{-1}$\n",
    "- for **square** matrices A and B of equal size: $\\det(AB)=\\det(A)\\det(B)$"
   ]
  },
  {
   "cell_type": "code",
   "execution_count": 14,
   "metadata": {
    "slideshow": {
     "slide_type": "fragment"
    },
    "tags": []
   },
   "outputs": [
    {
     "name": "stdout",
     "output_type": "stream",
     "text": [
      "[[1. 0. 0.]\n",
      " [0. 1. 0.]\n",
      " [0. 0. 1.]]\n"
     ]
    },
    {
     "data": {
      "image/png": "[encoded data removed]",
      "text/latex": [
       "$\\displaystyle 1.0$"
      ],
      "text/plain": [
       "1.0"
      ]
     },
     "execution_count": 14,
     "metadata": {},
     "output_type": "execute_result"
    }
   ],
   "source": [
    "A = np.eye(3)\n",
    "print(A)\n",
    "np.linalg.det(A)"
   ]
  },
  {
   "cell_type": "code",
   "execution_count": 15,
   "metadata": {
    "slideshow": {
     "slide_type": "subslide"
    },
    "tags": []
   },
   "outputs": [
    {
     "name": "stdout",
     "output_type": "stream",
     "text": [
      "[[1 2]\n",
      " [2 1]]\n",
      "[[3 2]\n",
      " [2 3]]\n",
      "det(A): -3.0\n",
      "det(B): 5.0\n",
      "det(A)*det(B): -15.0  --- det(AB):-15.0\n"
     ]
    }
   ],
   "source": [
    "A = np.array([[1, 2], [2, 1]])\n",
    "print(A)\n",
    "B = np.array([[3, 2], [2, 3]])\n",
    "print(B)\n",
    "print('det(A): %.1f'%np.linalg.det(A))\n",
    "print('det(B): %.1f'%np.linalg.det(B))\n",
    "print('det(A)*det(B): %.1f  --- det(AB):%.1f'%(np.linalg.det(A)*np.linalg.det(B), np.linalg.det(np.dot(A,B))))"
   ]
  },
  {
   "cell_type": "markdown",
   "metadata": {
    "slideshow": {
     "slide_type": "subslide"
    }
   },
   "source": [
    "# A useful function: `diag`\n",
    "\n",
    "- Sometime it is useful to extract a diagonal or construct a diagonal array\n",
    "- blueprint `numpy.diag(v)`\n",
    "- Note: \n",
    "  - if v is a 2-D array, return a copy of its diagonal as a 1-D array\n",
    "  - if v is a 1-D array, return a 2-D array with v on the diagonal"
   ]
  },
  {
   "cell_type": "code",
   "execution_count": 16,
   "metadata": {
    "slideshow": {
     "slide_type": "fragment"
    },
    "tags": []
   },
   "outputs": [
    {
     "name": "stdout",
     "output_type": "stream",
     "text": [
      "[[0 1 2]\n",
      " [3 4 5]\n",
      " [6 7 8]]\n"
     ]
    },
    {
     "data": {
      "text/plain": [
       "array([0, 4, 8])"
      ]
     },
     "execution_count": 16,
     "metadata": {},
     "output_type": "execute_result"
    }
   ],
   "source": [
    "X = np.arange(9).reshape((3,3))\n",
    "print(X)\n",
    "np.diag(X)"
   ]
  },
  {
   "cell_type": "code",
   "execution_count": 17,
   "metadata": {
    "slideshow": {
     "slide_type": "subslide"
    },
    "tags": []
   },
   "outputs": [
    {
     "data": {
      "text/plain": [
       "array([[0, 0, 0],\n",
       "       [0, 4, 0],\n",
       "       [0, 0, 8]])"
      ]
     },
     "execution_count": 17,
     "metadata": {},
     "output_type": "execute_result"
    }
   ],
   "source": [
    "v = np.diag(X)\n",
    "np.diag(v)"
   ]
  },
  {
   "cell_type": "markdown",
   "metadata": {
    "slideshow": {
     "slide_type": "subslide"
    }
   },
   "source": [
    "# Summary\n",
    "\n",
    "\n",
    "- given basis ${v_1, v_2, ..., v_n}$ of $V$ we can construct a *coordinate* system for $V$: the vector with coordinates $(a_1, a_2, ..., a_n)$ is the linear combination $a_{1}v_{1}+a_{2}v_{2}+\\cdots +a_{n}v_{n}$\n",
    "\n",
    "- if $V$ and $W$ are an n-dimensional and m-dimensional vector spaces, and a basis of $V$ and a basis of $W$ have been fixed, then any linear transformation $T: V → W$ may be encoded by an $m × n$ matrix $A$\n",
    "\n",
    "- operations over vectors can be equivalently expressed using matrices"
   ]
  },
  {
   "cell_type": "code",
   "execution_count": null,
   "metadata": {},
   "outputs": [],
   "source": []
  }
 ],
 "metadata": {
  "celltoolbar": "Slideshow",
  "kernelspec": {
   "display_name": "Python 3 (ipykernel)",
   "language": "python",
   "name": "python3"
  },
  "language_info": {
   "codemirror_mode": {
    "name": "ipython",
    "version": 3
   },
   "file_extension": ".py",
   "mimetype": "text/x-python",
   "name": "python",
   "nbconvert_exporter": "python",
   "pygments_lexer": "ipython3",
   "version": "3.11.4"
  },
  "toc": {
   "base_numbering": 1,
   "nav_menu": {},
   "number_sections": true,
   "sideBar": false,
   "skip_h1_title": true,
   "title_cell": "Table of Contents",
   "title_sidebar": "Contents",
   "toc_cell": true,
   "toc_position": {},
   "toc_section_display": true,
   "toc_window_display": false
  }
 },
 "nbformat": 4,
 "nbformat_minor": 4
}
