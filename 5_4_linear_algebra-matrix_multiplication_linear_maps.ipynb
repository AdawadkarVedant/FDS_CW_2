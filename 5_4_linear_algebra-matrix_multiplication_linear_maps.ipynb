{
 "cells": [
  {
   "cell_type": "code",
   "execution_count": 3,
   "metadata": {
    "slideshow": {
     "slide_type": "skip"
    }
   },
   "outputs": [
    {
     "data": {
      "text/html": [
       "<link href=\"https://fonts.googleapis.com/css?family=Cabin|Quicksand\" rel=\"stylesheet\"><style>.container{width:90% !important; font-family: \"Cabin\", sans-serif;}em{color: red !important;}</style><style>.output_png {display: table-cell;text-align: center;vertical-align: middle;}</style>"
      ],
      "text/plain": [
       "<IPython.core.display.HTML object>"
      ]
     },
     "execution_count": 3,
     "metadata": {},
     "output_type": "execute_result"
    }
   ],
   "source": [
    "%matplotlib inline\n",
    "import numpy as np\n",
    "from IPython.core.display import HTML\n",
    "HTML('<link href=\"https://fonts.googleapis.com/css?family=Cabin|Quicksand\" rel=\"stylesheet\"><style>.container{width:90% !important; font-family: \"Cabin\", sans-serif;}em{color: red !important;}</style><style>.output_png {display: table-cell;text-align: center;vertical-align: middle;}</style>')"
   ]
  },
  {
   "cell_type": "code",
   "execution_count": 4,
   "metadata": {
    "slideshow": {
     "slide_type": "skip"
    }
   },
   "outputs": [],
   "source": [
    "from sympy import init_printing \n",
    "from sympy import Matrix\n",
    "init_printing(use_latex=True)\n",
    "def out(mat, n=2): return Matrix(np.round(mat, decimals=n))"
   ]
  },
  {
   "cell_type": "markdown",
   "metadata": {
    "slideshow": {
     "slide_type": "slide"
    }
   },
   "source": [
    "# Introduction to matrix multiplication\n",
    "\n",
    "- we will see that the *action* of a linear transformation over a vector can be equivalently represented in a coordinate system\n",
    "  - the transformation is represented as a matrix\n",
    "  - the vector is a column coordinate vector\n",
    "  - the action is a matrix multiplication\n",
    "- we will see how the *composition* of multiple linear transformation can be equivalently represented by matrix multiplication\n",
    "  \n",
    "  \n",
    "- let's introduce the notion of matrix multiplication\n",
    "- **Spolier alert:** it is going to be an extension of the dot product "
   ]
  },
  {
   "cell_type": "markdown",
   "metadata": {
    "slideshow": {
     "slide_type": "slide"
    }
   },
   "source": [
    "# Matrix multiplication 1/2\n",
    "\n",
    "- let A be an n × m matrix and B an m × p matrix\n",
    "- **Note:** a multiplication between matrices A and B is defined *only* when:\n",
    "  - the number of columns of A \n",
    "  - is the *same* as \n",
    "  - the number of rows in B\n",
    "\n",
    "$$\\mathbf {A} ={\\begin{pmatrix}A_{11}&A_{12}&\\cdots &A_{1m}\\\\A_{21}&A_{22}&\\cdots &A_{2m}\\\\\\vdots &\\vdots &\\ddots &\\vdots \\\\A_{n1}&A_{n2}&\\cdots &A_{nm}\\\\\\end{pmatrix}},\\quad \\mathbf {B} ={\\begin{pmatrix}B_{11}&B_{12}&\\cdots &B_{1p}\\\\B_{21}&B_{22}&\\cdots &B_{2p}\\\\\\vdots &\\vdots &\\ddots &\\vdots \\\\B_{m1}&B_{m2}&\\cdots &B_{mp}\\\\\\end{pmatrix}}$$\n"
   ]
  },
  {
   "cell_type": "markdown",
   "metadata": {
    "slideshow": {
     "slide_type": "subslide"
    }
   },
   "source": [
    "# Matrix multiplication 2/2\n",
    "- the matrix product AB (denoted without multiplication signs or dots) is defined to be the n × p matrix\n",
    "\n",
    "$$\\mathbf {A} \\mathbf {B} ={\\begin{pmatrix}\\left(\\mathbf {AB} \\right)_{11}&\\left(\\mathbf {AB} \\right)_{12}&\\cdots &\\left(\\mathbf {AB} \\right)_{1p}\\\\\\left(\\mathbf {AB} \\right)_{21}&\\left(\\mathbf {AB} \\right)_{22}&\\cdots &\\left(\\mathbf {AB} \\right)_{2p}\\\\\\vdots &\\vdots &\\ddots &\\vdots \\\\\\left(\\mathbf {AB} \\right)_{n1}&\\left(\\mathbf {AB} \\right)_{n2}&\\cdots &\\left(\\mathbf {AB} \\right)_{np}\\\\\\end{pmatrix}}$$\n",
    "\n",
    "- where\n",
    "$$(\\mathbf {A} \\mathbf {B} )_{ij}=\\sum _{k=1}^{m}A_{ik}B_{kj}$$\n"
   ]
  },
  {
   "cell_type": "markdown",
   "metadata": {
    "slideshow": {
     "slide_type": "subslide"
    }
   },
   "source": [
    "# Matrix multiplication\n",
    "\n",
    "<center><img src=\"img/mul.png\" width=500></center>"
   ]
  },
  {
   "cell_type": "code",
   "execution_count": 5,
   "metadata": {
    "slideshow": {
     "slide_type": "subslide"
    }
   },
   "outputs": [
    {
     "data": {
      "image/png": "[encoded data removed]",
      "text/latex": [
       "$\\displaystyle \\left[\\begin{matrix}0 & 1\\\\2 & 3\\\\4 & 5\\\\6 & 7\\end{matrix}\\right]$"
      ],
      "text/plain": [
       "⎡0  1⎤\n",
       "⎢    ⎥\n",
       "⎢2  3⎥\n",
       "⎢    ⎥\n",
       "⎢4  5⎥\n",
       "⎢    ⎥\n",
       "⎣6  7⎦"
      ]
     },
     "execution_count": 5,
     "metadata": {},
     "output_type": "execute_result"
    }
   ],
   "source": [
    "A=np.arange(8).reshape(4,2)\n",
    "out(A)"
   ]
  },
  {
   "cell_type": "code",
   "execution_count": 6,
   "metadata": {
    "slideshow": {
     "slide_type": "fragment"
    }
   },
   "outputs": [
    {
     "data": {
      "image/png": "[encoded data removed]",
      "text/latex": [
       "$\\displaystyle \\left[\\begin{matrix}0 & 1 & 2\\\\3 & 4 & 5\\end{matrix}\\right]$"
      ],
      "text/plain": [
       "⎡0  1  2⎤\n",
       "⎢       ⎥\n",
       "⎣3  4  5⎦"
      ]
     },
     "execution_count": 6,
     "metadata": {},
     "output_type": "execute_result"
    }
   ],
   "source": [
    "B=np.arange(6).reshape(2,3)\n",
    "out(B)"
   ]
  },
  {
   "cell_type": "code",
   "execution_count": 7,
   "metadata": {
    "slideshow": {
     "slide_type": "fragment"
    }
   },
   "outputs": [
    {
     "data": {
      "image/png": "[encoded data removed]",
      "text/latex": [
       "$\\displaystyle \\left[\\begin{matrix}3 & 4 & 5\\\\9 & 14 & 19\\\\15 & 24 & 33\\\\21 & 34 & 47\\end{matrix}\\right]$"
      ],
      "text/plain": [
       "⎡3   4   5 ⎤\n",
       "⎢          ⎥\n",
       "⎢9   14  19⎥\n",
       "⎢          ⎥\n",
       "⎢15  24  33⎥\n",
       "⎢          ⎥\n",
       "⎣21  34  47⎦"
      ]
     },
     "execution_count": 7,
     "metadata": {},
     "output_type": "execute_result"
    }
   ],
   "source": [
    "C = np.dot(A,B)\n",
    "out(C)"
   ]
  },
  {
   "cell_type": "markdown",
   "metadata": {
    "slideshow": {
     "slide_type": "subslide"
    }
   },
   "source": [
    "## Important\n",
    "\n",
    "NumPy offers the subclass `matrix` or `mat`.\n",
    "\n",
    "It overrides the operators `*` and `**` to perform matrix multiplication and matrix power\n",
    "\n",
    "It offers the methods:\n",
    "- matrix.T for transpose\n",
    "- matrix.I for inverse\n",
    "- matrix.A to cast the matrix into a 2-dim numpy array"
   ]
  },
  {
   "cell_type": "code",
   "execution_count": 8,
   "metadata": {
    "slideshow": {
     "slide_type": "subslide"
    }
   },
   "outputs": [
    {
     "data": {
      "text/latex": [
       "$\\displaystyle \\left[\\begin{matrix}0 & 1\\\\2 & 3\\\\4 & 5\\\\6 & 7\\end{matrix}\\right]$"
      ],
      "text/plain": [
       "⎡0  1⎤\n",
       "⎢    ⎥\n",
       "⎢2  3⎥\n",
       "⎢    ⎥\n",
       "⎢4  5⎥\n",
       "⎢    ⎥\n",
       "⎣6  7⎦"
      ]
     },
     "execution_count": 8,
     "metadata": {},
     "output_type": "execute_result"
    }
   ],
   "source": [
    "A=np.mat(np.arange(8).reshape(4,2))\n",
    "out(A)"
   ]
  },
  {
   "cell_type": "code",
   "execution_count": 9,
   "metadata": {
    "slideshow": {
     "slide_type": "fragment"
    }
   },
   "outputs": [
    {
     "data": {
      "image/png": "[encoded data removed]",
      "text/latex": [
       "$\\displaystyle \\left[\\begin{matrix}0 & 1 & 2\\\\3 & 4 & 5\\end{matrix}\\right]$"
      ],
      "text/plain": [
       "⎡0  1  2⎤\n",
       "⎢       ⎥\n",
       "⎣3  4  5⎦"
      ]
     },
     "execution_count": 9,
     "metadata": {},
     "output_type": "execute_result"
    }
   ],
   "source": [
    "B=np.mat(np.arange(6).reshape(2,3))\n",
    "out(B)"
   ]
  },
  {
   "cell_type": "code",
   "execution_count": 10,
   "metadata": {
    "slideshow": {
     "slide_type": "fragment"
    }
   },
   "outputs": [
    {
     "data": {
      "image/png": "[encoded data removed]",
      "text/latex": [
       "$\\displaystyle \\left[\\begin{matrix}3 & 4 & 5\\\\9 & 14 & 19\\\\15 & 24 & 33\\\\21 & 34 & 47\\end{matrix}\\right]$"
      ],
      "text/plain": [
       "⎡3   4   5 ⎤\n",
       "⎢          ⎥\n",
       "⎢9   14  19⎥\n",
       "⎢          ⎥\n",
       "⎢15  24  33⎥\n",
       "⎢          ⎥\n",
       "⎣21  34  47⎦"
      ]
     },
     "execution_count": 10,
     "metadata": {},
     "output_type": "execute_result"
    }
   ],
   "source": [
    "out(A*B)"
   ]
  },
  {
   "cell_type": "markdown",
   "metadata": {
    "slideshow": {
     "slide_type": "subslide"
    }
   },
   "source": [
    "# Properties\n",
    "\n",
    "Not commutative:\n",
    "\n",
    "$$\\mathbf {A} \\mathbf {B} \\neq \\mathbf {B} \\mathbf {A}$$\n",
    "\n",
    "- this is *different* than in ordinary multiplication of numbers\n",
    "- to specify the ordering of matrix multiplication in words\n",
    "  - $BA$ is left multiplication of A by B\n",
    "  - $AC$ is right multiplication of A by C"
   ]
  },
  {
   "cell_type": "markdown",
   "metadata": {
    "slideshow": {
     "slide_type": "subslide"
    }
   },
   "source": [
    "# Properties\n",
    "\n",
    "Distributive over matrix addition:\n",
    "\n",
    "Left distributivity:\n",
    "$$\\mathbf {A} (\\mathbf {B} +\\mathbf {C} )=\\mathbf {AB} +\\mathbf {AC}$$\n",
    "\n",
    "\n",
    "Right distributivity:\n",
    "$$(\\mathbf {A} +\\mathbf {B} )\\mathbf {C} =\\mathbf {AC} +\\mathbf {BC} $$"
   ]
  },
  {
   "cell_type": "markdown",
   "metadata": {
    "slideshow": {
     "slide_type": "subslide"
    }
   },
   "source": [
    "# Properties\n",
    "\n",
    "Scalar multiplication is compatible with matrix multiplication:\n",
    "$$\\lambda (\\mathbf {AB} )=(\\lambda \\mathbf {A} )\\mathbf {B}$$\n",
    "$$(\\mathbf {A} \\mathbf {B} )\\lambda =\\mathbf {A} (\\mathbf {B} \\lambda )$$\n",
    "where $λ$ is a scalar."
   ]
  },
  {
   "cell_type": "markdown",
   "metadata": {
    "slideshow": {
     "slide_type": "subslide"
    }
   },
   "source": [
    "# Properties\n",
    "\n",
    "Transpose:\n",
    "$$(\\mathbf {AB} )^{\\mathrm {T} }=\\mathbf {B} ^{\\mathrm {T} }\\mathbf {A} ^{\\mathrm {T} }$$\n",
    "\n",
    "**Note:** A and B are *reversed*."
   ]
  },
  {
   "cell_type": "markdown",
   "metadata": {
    "slideshow": {
     "slide_type": "subslide"
    }
   },
   "source": [
    "# Properties\n",
    "\n",
    "Trace:\n",
    "\n",
    "$$\\mathrm {tr} (\\mathbf {AB} )=\\mathrm {tr} (\\mathbf {BA} )$$\n",
    "\n",
    "The trace of a product AB is independent of the order of A and B\n",
    "\n"
   ]
  },
  {
   "cell_type": "markdown",
   "metadata": {
    "slideshow": {
     "slide_type": "subslide"
    }
   },
   "source": [
    "# Properties\n",
    "\n",
    "Identity element:\n",
    "\n",
    "If A is a square matrix, then\n",
    "$$\\mathbf {AI} =\\mathbf {IA} =\\mathbf {A} $$\n",
    "\n",
    "where $I$ is the identity matrix of the same order"
   ]
  },
  {
   "cell_type": "markdown",
   "metadata": {
    "slideshow": {
     "slide_type": "subslide"
    }
   },
   "source": [
    "# Properties\n",
    "\n",
    "Inverse matrix:\n",
    "\n",
    "If $A$ is a square matrix, there may be an inverse matrix $A^{−1}$ of A such that\n",
    "\n",
    "$$\\mathbf {A} \\mathbf {A} ^{-1}=\\mathbf {A} ^{-1}\\mathbf {A} =\\mathbf {I} $$\n",
    "\n",
    "If this property holds then A is an invertible matrix, if not A is a *singular* matrix. \n",
    "\n",
    "Moreover,\n",
    "$$(\\mathbf {AB} )^{\\mathrm {-1} }=\\mathbf {B} ^{\\mathrm {-1} }\\mathbf {A} ^{\\mathrm {-1} }$$\n",
    "\n",
    "**Note:** A and B are *reversed*."
   ]
  },
  {
   "cell_type": "markdown",
   "metadata": {
    "slideshow": {
     "slide_type": "subslide"
    }
   },
   "source": [
    "# Properties\n",
    "\n",
    "Determinants:\n",
    "\n",
    "if the determinant of a matrix is defined, and if A and B are square matrices of the same order:\n",
    "\n",
    "$$\\det(\\mathbf {AB} )=\\det(\\mathbf {A} )\\det(\\mathbf {B} )$$\n",
    "\n",
    "Note that this implies that even when $AB ≠ BA$\n",
    "$$\\det(\\mathbf {AB} )=\\det(\\mathbf {BA} )$$\n",
    "\n"
   ]
  },
  {
   "cell_type": "markdown",
   "metadata": {
    "slideshow": {
     "slide_type": "subslide"
    }
   },
   "source": [
    "# Linear Maps\n",
    "\n",
    "- if V and W are finite-dimensional vector spaces \n",
    "<br>and a basis is defined for each vector space, \n",
    "- then every linear map from V to W can be represented by a matrix\n",
    "\n",
    "- this is useful because it allows concrete calculations\n",
    "  - e.g. in two-dimensional coordinate space ${\\rm I\\!R}^2$ linear maps are described by $2 × 2$ real matrices"
   ]
  },
  {
   "cell_type": "markdown",
   "metadata": {
    "slideshow": {
     "slide_type": "subslide"
    }
   },
   "source": [
    "# Linear Maps\n",
    "\n",
    "\n",
    "- rotation by 90 degrees counterclockwise:\n",
    "$$\\mathbf {A} ={\\begin{pmatrix}0&-1\\\\1&0\\end{pmatrix}}$$\n",
    "\n",
    "\n",
    "<center><img src=\"img/rot.png\" width=300></center>\n",
    "\n",
    "- rotation by angle $θ$ counterclockwise:\n",
    "$$\\mathbf {A} ={\\begin{pmatrix}\\cos \\theta &-\\sin \\theta \\\\\\sin \\theta &\\cos \\theta \\end{pmatrix}}$$\n",
    "\n"
   ]
  },
  {
   "cell_type": "markdown",
   "metadata": {
    "slideshow": {
     "slide_type": "subslide"
    }
   },
   "source": [
    "<center><img src=\"img/rot.png\" width=300></center>"
   ]
  },
  {
   "cell_type": "code",
   "execution_count": 3,
   "metadata": {
    "slideshow": {
     "slide_type": "-"
    }
   },
   "outputs": [
    {
     "data": {
      "image/png": "[encoded data removed]",
      "text/latex": [
       "$\\displaystyle \\left[\\begin{matrix}0 & -1\\\\1 & 0\\end{matrix}\\right]$"
      ],
      "text/plain": [
       "⎡0  -1⎤\n",
       "⎢     ⎥\n",
       "⎣1  0 ⎦"
      ]
     },
     "execution_count": 3,
     "metadata": {},
     "output_type": "execute_result"
    }
   ],
   "source": [
    "A = np.mat([[0,-1],[1,0]])\n",
    "#A = np.mat([[-1,0],[0,1]]) \n",
    "out(A)"
   ]
  },
  {
   "cell_type": "code",
   "execution_count": 4,
   "metadata": {
    "slideshow": {
     "slide_type": "-"
    }
   },
   "outputs": [
    {
     "data": {
      "image/png": "[encoded data removed]",
      "text/latex": [
       "$\\displaystyle \\left[\\begin{matrix}3\\\\2\\end{matrix}\\right]$"
      ],
      "text/plain": [
       "⎡3⎤\n",
       "⎢ ⎥\n",
       "⎣2⎦"
      ]
     },
     "execution_count": 4,
     "metadata": {},
     "output_type": "execute_result"
    }
   ],
   "source": [
    "v = np.mat([[3],[2]])\n",
    "out(v)"
   ]
  },
  {
   "cell_type": "code",
   "execution_count": 5,
   "metadata": {
    "slideshow": {
     "slide_type": "-"
    }
   },
   "outputs": [
    {
     "data": {
      "image/png": "[encoded data removed]",
      "text/latex": [
       "$\\displaystyle \\left[\\begin{matrix}-2\\\\3\\end{matrix}\\right]$"
      ],
      "text/plain": [
       "⎡-2⎤\n",
       "⎢  ⎥\n",
       "⎣3 ⎦"
      ]
     },
     "execution_count": 5,
     "metadata": {},
     "output_type": "execute_result"
    }
   ],
   "source": [
    "out(A*v)"
   ]
  },
  {
   "cell_type": "markdown",
   "metadata": {
    "slideshow": {
     "slide_type": "subslide"
    }
   },
   "source": [
    "# Linear Maps\n",
    "\n",
    "- reflection against the y axis:\n",
    "$$\\mathbf {A} ={\\begin{pmatrix}-1&0\\\\0&1\\end{pmatrix}}$$\n",
    "- scaling by 2 in all directions:\n",
    "$$\\mathbf {A} ={\\begin{pmatrix}2&0\\\\0&2\\end{pmatrix}}$$\n",
    "- horizontal shear mapping:\n",
    "$$\\mathbf {A} ={\\begin{pmatrix}1&m\\\\0&1\\end{pmatrix}}$$\n",
    "\n",
    "<center><img src=\"img/shear.png\" width=300></center>"
   ]
  },
  {
   "cell_type": "markdown",
   "metadata": {
    "slideshow": {
     "slide_type": "subslide"
    }
   },
   "source": [
    "# Composition of linear maps (axiomatic view)\n",
    "\n",
    "- the composition of linear maps is linear:<br> \n",
    "if $f : V → W$ and $g : W → Z$ are linear, then so is their composition $g ∘ f : V → Z$\n",
    "- if $f : V → W$ and $g : V → W$ are linear, then so is their pointwise sum $f + g$<br>\n",
    "defined as $(f + g)(x) = f(x) + g(x)$\n",
    "- if $f : V → W$ is linear and $a$ is a scalar, then the map $af$, defined as $(af)(x) = a(f(x))$, is also linear\n",
    "- the inverse of a linear map, when defined, is a linear map\n"
   ]
  },
  {
   "cell_type": "markdown",
   "metadata": {
    "slideshow": {
     "slide_type": "subslide"
    }
   },
   "source": [
    "# Composition of linear maps (coordinate space view)\n",
    "\n",
    "in the finite-dimensional case, once the bases have been fixed:\n",
    "- the *composition* of linear maps corresponds to the matrix *multiplication*\n",
    "- the *addition* of linear maps corresponds to the matrix *addition*\n",
    "- the *multiplication* of linear maps with *scalars* corresponds to the *multiplication* of matrices with *scalars*\n",
    "- the *inverse* of linear maps, when defined,  corresponds to a matrix inverse"
   ]
  }
 ],
 "metadata": {
  "celltoolbar": "Slideshow",
  "kernelspec": {
   "display_name": "Python 3 (ipykernel)",
   "language": "python",
   "name": "python3"
  },
  "language_info": {
   "codemirror_mode": {
    "name": "ipython",
    "version": 3
   },
   "file_extension": ".py",
   "mimetype": "text/x-python",
   "name": "python",
   "nbconvert_exporter": "python",
   "pygments_lexer": "ipython3",
   "version": "3.11.5"
  },
  "toc": {
   "base_numbering": 1,
   "nav_menu": {},
   "number_sections": true,
   "sideBar": false,
   "skip_h1_title": true,
   "title_cell": "Table of Contents",
   "title_sidebar": "Contents",
   "toc_cell": true,
   "toc_position": {},
   "toc_section_display": true,
   "toc_window_display": false
  }
 },
 "nbformat": 4,
 "nbformat_minor": 2
}
