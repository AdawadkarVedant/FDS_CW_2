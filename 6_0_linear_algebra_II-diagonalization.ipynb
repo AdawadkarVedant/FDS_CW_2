{
 "cells": [
  {
   "cell_type": "code",
   "execution_count": 1,
   "metadata": {
    "slideshow": {
     "slide_type": "skip"
    }
   },
   "outputs": [
    {
     "data": {
      "text/html": [
       "<link href=\"https://fonts.googleapis.com/css?family=Cabin|Quicksand\" rel=\"stylesheet\"><style>.container{width:90% !important; font-family: \"Cabin\", sans-serif;}em{color: red !important;}</style><style>.output_png {display: table-cell;text-align: center;vertical-align: middle;}</style>"
      ],
      "text/plain": [
       "<IPython.core.display.HTML object>"
      ]
     },
     "execution_count": 1,
     "metadata": {},
     "output_type": "execute_result"
    }
   ],
   "source": [
    "%matplotlib inline\n",
    "import matplotlib.pyplot as plt\n",
    "import numpy as np\n",
    "import scipy as sp\n",
    "from sympy import init_printing \n",
    "from sympy import Matrix\n",
    "init_printing(use_latex=True)\n",
    "def out(mat, n=2): return Matrix(np.round(mat, decimals=n))\n",
    "from IPython.core.display import HTML\n",
    "HTML('<link href=\"https://fonts.googleapis.com/css?family=Cabin|Quicksand\" rel=\"stylesheet\"><style>.container{width:90% !important; font-family: \"Cabin\", sans-serif;}em{color: red !important;}</style><style>.output_png {display: table-cell;text-align: center;vertical-align: middle;}</style>')"
   ]
  },
  {
   "cell_type": "markdown",
   "metadata": {
    "slideshow": {
     "slide_type": "slide"
    }
   },
   "source": [
    "# Matrix similiarity\n",
    "\n",
    "- two n-by-n matrices $A$ and $B$ are called *similar* if\n",
    "$${\\displaystyle B=P^{-1}AP}$$\n",
    "- for some invertible n-by-n matrix $P$\n",
    "- similar matrices represent the *same* linear operator under two (possibly) different bases\n",
    "  - with $P$ being the change of basis matrix"
   ]
  },
  {
   "cell_type": "markdown",
   "metadata": {
    "slideshow": {
     "slide_type": "subslide"
    }
   },
   "source": [
    "# Matrix similiarity properties\n",
    "\n",
    "- matrices are similar if and only if they represent the same linear operator\n",
    "  - with respect to (possibly) different bases\n",
    "- $\\rightarrow$ similar matrices share all properties of the underlying operator:\n",
    "  - rank\n",
    "  - determinant\n",
    "  - trace\n",
    "  - eigenvalues (with algebraic multiplicities)"
   ]
  },
  {
   "cell_type": "markdown",
   "metadata": {
    "slideshow": {
     "slide_type": "subslide"
    }
   },
   "source": [
    "# Diagonalizable matrix\n",
    "\n",
    "- a square matrix $A$ is  *diagonalizable* if it is similar to a diagonal matrix\n",
    "- i.e. there is a $P$ such that $D = P^{−1}AP$  or equivalently $A = P D P^{−1}$, and $D$ is a diagonal matrix\n",
    "- *diagonalization* is the process of finding **a** corresponding diagonal matrix for a diagonalizable matrix\n",
    "<br>**Note:** $P$ and $D$ are not unique\n",
    "- a square matrix that is not diagonalizable is called *defective*"
   ]
  },
  {
   "cell_type": "markdown",
   "metadata": {
    "slideshow": {
     "slide_type": "notes"
    }
   },
   "source": [
    "why square? \n",
    "1. because a change of basis is in the same space so dims are the same\n",
    "2. similarity between matrices is defined only for change of basis"
   ]
  },
  {
   "cell_type": "markdown",
   "metadata": {
    "slideshow": {
     "slide_type": "subslide"
    }
   },
   "source": [
    "# Diagonalization\n",
    "\n",
    "- if a matrix $A$ can be diagonalized we have\n",
    "\n",
    "$$P^{-1}AP=\\begin{pmatrix}\\lambda_{1}\\\\\n",
    "& \\lambda_{2}\\\\\n",
    "& & \\ddots\\\\\n",
    "& & & \\lambda_{n}\\end{pmatrix}$$\n",
    "\n",
    "\n",
    "- or equivalently:\n",
    "\n",
    "$$AP=P\\begin{pmatrix}\\lambda_{1}\\\\\n",
    "& \\lambda_{2}\\\\\n",
    "& & \\ddots\\\\\n",
    "& & & \\lambda_{n}\\end{pmatrix} $$"
   ]
  },
  {
   "cell_type": "markdown",
   "metadata": {
    "slideshow": {
     "slide_type": "subslide"
    }
   },
   "source": [
    "# Diagonalization\n",
    "\n",
    "- writing $P$ as a matrix of its column vectors  $\\vec{\\alpha}_{i}$\n",
    "\n",
    "$$P=\\begin{pmatrix}\\vec{\\alpha}_{1} & \\vec{\\alpha}_{2} & \\cdots & \\vec{\\alpha}_{n}\\end{pmatrix}$$\n",
    "\n",
    "- we can write \n",
    "\n",
    "$$A\\vec{\\alpha}_{i}=\\lambda_{i}\\vec{\\alpha}_{i}\\qquad(i=1,2,\\cdots,n)$$\n",
    "\n",
    "- so the column vectors of $P$ *are* right eigenvectors of $A$\n",
    "- and the corresponding diagonal entry *is* the corresponding eigenvalue"
   ]
  },
  {
   "cell_type": "markdown",
   "metadata": {
    "slideshow": {
     "slide_type": "subslide"
    }
   },
   "source": [
    "# Diagonalization\n",
    "\n",
    "- given that $P$ is an invertible square matrix\n",
    "  - and hence a change of basis\n",
    "- then the eigenvectors are linearly independent \n",
    "  - and form a basis\n",
    "- this is the necessary and sufficient condition for diagonalizability\n",
    "  - and the canonical way to perform diagonalization"
   ]
  },
  {
   "cell_type": "markdown",
   "metadata": {
    "slideshow": {
     "slide_type": "notes"
    }
   },
   "source": [
    "we said that there is a  P such that  $P^{−1}AP$ is a diagonal matrix"
   ]
  }
 ],
 "metadata": {
  "celltoolbar": "Slideshow",
  "kernelspec": {
   "display_name": "Python 3 (ipykernel)",
   "language": "python",
   "name": "python3"
  },
  "language_info": {
   "codemirror_mode": {
    "name": "ipython",
    "version": 3
   },
   "file_extension": ".py",
   "mimetype": "text/x-python",
   "name": "python",
   "nbconvert_exporter": "python",
   "pygments_lexer": "ipython3",
   "version": "3.11.5"
  },
  "toc": {
   "base_numbering": 1,
   "nav_menu": {},
   "number_sections": true,
   "sideBar": false,
   "skip_h1_title": true,
   "title_cell": "Table of Contents",
   "title_sidebar": "Contents",
   "toc_cell": true,
   "toc_position": {},
   "toc_section_display": true,
   "toc_window_display": false
  }
 },
 "nbformat": 4,
 "nbformat_minor": 2
}
