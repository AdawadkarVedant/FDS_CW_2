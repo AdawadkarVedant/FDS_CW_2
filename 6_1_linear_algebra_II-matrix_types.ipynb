{
 "cells": [
  {
   "cell_type": "code",
   "execution_count": 1,
   "metadata": {
    "slideshow": {
     "slide_type": "skip"
    }
   },
   "outputs": [
    {
     "data": {
      "text/html": [
       "<link href=\"https://fonts.googleapis.com/css?family=Cabin|Quicksand\" rel=\"stylesheet\"><style>.container{width:90% !important; font-family: \"Cabin\", sans-serif;}em{color: red !important;}</style><style>.output_png {display: table-cell;text-align: center;vertical-align: middle;}</style>"
      ],
      "text/plain": [
       "<IPython.core.display.HTML object>"
      ]
     },
     "execution_count": 1,
     "metadata": {},
     "output_type": "execute_result"
    }
   ],
   "source": [
    "%matplotlib inline\n",
    "import matplotlib.pyplot as plt\n",
    "import numpy as np\n",
    "import scipy as sp\n",
    "from sympy import init_printing \n",
    "from sympy import Matrix\n",
    "init_printing(use_latex=True)\n",
    "def out(mat, n=2): return Matrix(np.round(mat, decimals=n))\n",
    "from IPython.core.display import HTML\n",
    "HTML('<link href=\"https://fonts.googleapis.com/css?family=Cabin|Quicksand\" rel=\"stylesheet\"><style>.container{width:90% !important; font-family: \"Cabin\", sans-serif;}em{color: red !important;}</style><style>.output_png {display: table-cell;text-align: center;vertical-align: middle;}</style>')"
   ]
  },
  {
   "cell_type": "markdown",
   "metadata": {
    "slideshow": {
     "slide_type": "skip"
    }
   },
   "source": [
    "# Symmetric Matrix\n",
    "\n",
    "\n",
    "- a symmetric matrix is a square matrix that is equal to its transpose\n",
    "- matrix A is symmetric if ${\\displaystyle A=A^{\\mathrm {T} }}$\n",
    "\n",
    "## Properties\n",
    "- the sum and difference of two symmetric matrices is symmetric\n",
    "- if A and B are symmetric, then AB is symmetric iff AB = BA\n",
    "- $A^n$ is symmetric if A is symmetric\n",
    "- $A^{−1}$ is symmetric (if it exists) iff A is symmetric"
   ]
  },
  {
   "cell_type": "markdown",
   "metadata": {
    "slideshow": {
     "slide_type": "subslide"
    }
   },
   "source": [
    "# Normal Matrix\n",
    "\n",
    "- a real square matrix $A$ is normal if $A^TA = AA^T$\n",
    "\n",
    "### NOTE\n",
    "\n",
    "- all symmetric real matrices are normal"
   ]
  },
  {
   "cell_type": "code",
   "execution_count": 4,
   "metadata": {
    "slideshow": {
     "slide_type": "skip"
    }
   },
   "outputs": [
    {
     "data": {
      "image/png": "[encoded data removed]",
      "text/latex": [
       "$\\displaystyle \\left[\\begin{matrix}4 & 0\\\\0 & 4\\end{matrix}\\right]$"
      ],
      "text/plain": [
       "⎡4  0⎤\n",
       "⎢    ⎥\n",
       "⎣0  4⎦"
      ]
     },
     "execution_count": 4,
     "metadata": {},
     "output_type": "execute_result"
    }
   ],
   "source": [
    "# if it is normal then A* A = A A*\n",
    "A = np.mat([[2,0],[0,2]])\n",
    "out(A.T * A)"
   ]
  },
  {
   "cell_type": "code",
   "execution_count": 5,
   "metadata": {
    "slideshow": {
     "slide_type": "skip"
    }
   },
   "outputs": [
    {
     "data": {
      "image/png": "[encoded data removed]",
      "text/latex": [
       "$\\displaystyle \\left[\\begin{matrix}4 & 0\\\\0 & 4\\end{matrix}\\right]$"
      ],
      "text/plain": [
       "⎡4  0⎤\n",
       "⎢    ⎥\n",
       "⎣0  4⎦"
      ]
     },
     "execution_count": 5,
     "metadata": {},
     "output_type": "execute_result"
    }
   ],
   "source": [
    "# if it is normal then A* A = A A*\n",
    "out(A * A.T)"
   ]
  },
  {
   "cell_type": "code",
   "execution_count": 6,
   "metadata": {
    "slideshow": {
     "slide_type": "skip"
    }
   },
   "outputs": [
    {
     "data": {
      "image/png": "[encoded data removed]",
      "text/latex": [
       "$\\displaystyle \\left[\\begin{matrix}0 & -1\\\\1 & 0\\end{matrix}\\right]$"
      ],
      "text/plain": [
       "⎡0  -1⎤\n",
       "⎢     ⎥\n",
       "⎣1  0 ⎦"
      ]
     },
     "execution_count": 6,
     "metadata": {},
     "output_type": "execute_result"
    }
   ],
   "source": [
    "# A rotation matrix is normal but not symmetric\n",
    "A = np.mat([[0,-1],[1,0]])\n",
    "out(A)"
   ]
  },
  {
   "cell_type": "code",
   "execution_count": 7,
   "metadata": {
    "slideshow": {
     "slide_type": "skip"
    }
   },
   "outputs": [
    {
     "data": {
      "text/plain": [
       "matrix([[ True,  True],\n",
       "        [ True,  True]])"
      ]
     },
     "execution_count": 7,
     "metadata": {},
     "output_type": "execute_result"
    }
   ],
   "source": [
    "A.T * A == A * A.T "
   ]
  },
  {
   "cell_type": "markdown",
   "metadata": {
    "slideshow": {
     "slide_type": "subslide"
    }
   },
   "source": [
    "# Orthogonal Matrix\n",
    "\n",
    "- a real square matrix $Q$ is orthogonal if its transpose is equal to its inverse:\n",
    "$$Q^{\\mathrm {T} }=Q^{-1}$$\n",
    "- this implies that columns and rows are orthogonal unit vectors\n",
    "  $$Q^{\\mathrm {T} }Q=QQ^{\\mathrm {T} }=I$$\n",
    "  - where $I$ is the identity matrix"
   ]
  },
  {
   "cell_type": "markdown",
   "metadata": {
    "slideshow": {
     "slide_type": "subslide"
    }
   },
   "source": [
    "# Note\n",
    "why do orthogonal unit vectors have the property that $Q^TQ=I$?\n",
    "\n",
    "- if they are unit vectors, then $<v,v>=1$\n",
    "- if they are orthogonal, then  $<v,u>=0$"
   ]
  },
  {
   "cell_type": "markdown",
   "metadata": {
    "slideshow": {
     "slide_type": "subslide"
    }
   },
   "source": [
    "# Orthogonal Matrix properties\n",
    "\n",
    "- an orthogonal matrix $Q$ is invertible\n",
    "$$Q^{−1} = Q^T$$\n",
    "- an orthogonal matrix $Q$ is normal \n",
    "$$Q^TQ = QQ^T$$\n",
    "- the determinant of any orthogonal matrix is either +1 or −1\n",
    "- as a linear transformation, an orthogonal matrix preserves the dot product of vectors\n",
    "  - i.e. is a rotation or reflection"
   ]
  },
  {
   "cell_type": "markdown",
   "metadata": {
    "slideshow": {
     "slide_type": "notes"
    }
   },
   "source": [
    "why is det 1 or -1?\n",
    "\n",
    "- det is product of eigenvalues\n",
    "- the strength of the transformation is 1 "
   ]
  },
  {
   "cell_type": "markdown",
   "metadata": {
    "slideshow": {
     "slide_type": "subslide"
    }
   },
   "source": [
    "# Rotations\n",
    "\n",
    "- a rotation is an a transformation that moves points without changing the distances between them\n",
    "- rotations have two additional properties: \n",
    "  1. they leave (at least) one point fixed\n",
    "  2. they leave \"handedness\" unchanged\n",
    "- by contrast, a translation moves every point and a reflection exchanges left- and right-handed ordering\n"
   ]
  },
  {
   "cell_type": "markdown",
   "metadata": {
    "slideshow": {
     "slide_type": "subslide"
    }
   },
   "source": [
    "# Rotations\n",
    "\n",
    "- as fixed point consider the origin of a Cartesian coordinate system\n",
    "  - every point can be given coordinates as a displacement from the origin\n",
    "  - now we can work with the vector space of displacements instead of the points\n",
    "- let $(p_1,…,p_n)$ be the coordinates of the vector $p$ from the origin $O$ to point $P$\n",
    "- choose an orthonormal basis\n",
    "- the squared distance to $P$ is ${\\displaystyle d^{2}(O,P)=\\|\\mathbf {p} \\|^{2}=\\sum _{r=1}^{n}p_{r}^{2}}$\n",
    "- which can be computed using the matrix multiplication\n",
    "$${\\displaystyle \\|\\mathbf {p} \\|^{2}={\\begin{bmatrix}p_{1}\\cdots p_{n}\\end{bmatrix}}{\\begin{bmatrix}p_{1}\\\\\\vdots \\\\p_{n}\\end{bmatrix}}=\\mathbf {p} ^{\\mathrm {T} }\\mathbf {p}}$$"
   ]
  },
  {
   "cell_type": "markdown",
   "metadata": {
    "slideshow": {
     "slide_type": "subslide"
    }
   },
   "source": [
    "# Rotations\n",
    "\n",
    "- it can be shown that a rotation is a linear transformation of the vectors\n",
    "- so it can be written in matrix form as $Qp$ for some $Q$\n",
    "- a rotation preserves distances between points, so\n",
    "$${\\displaystyle {\\begin{aligned}  \\mathbf {p} ^{\\mathrm {T} }\\mathbf {p}& =(Q\\mathbf {p} )^{\\mathrm {T} }(Q\\mathbf {p} ) \\\\\n",
    "&{}=\\left(\\mathbf {p} ^{\\mathrm {T} }Q^{\\mathrm {T} }\\right)(Q\\mathbf {p} )\\\\&{}=\\mathbf {p} ^{\\mathrm {T} }\\left(Q^{\\mathrm {T} }Q\\right)\\mathbf {p} \\end{aligned}}}$$\n",
    "- this must be true for all vectors $p$, so for every rotation matrix  $Q$ it must be true that\n",
    "$${\\displaystyle Q^{\\mathrm {T} }Q=I}$$\n",
    "- so every rotation matrix must be an orthogonal matrix"
   ]
  },
  {
   "cell_type": "markdown",
   "metadata": {
    "slideshow": {
     "slide_type": "subslide"
    }
   },
   "source": [
    "# Positive Definite Matrix\n",
    "\n",
    "- a symmetric real matrix $M$ $n \\times n$ is a *positive definite* matrix (PDM) if \n",
    "  - the scalar ${\\displaystyle z^{\\mathrm {T} }Mz}$ is *positive* \n",
    "  - for every non-zero column vector $z$ of $n$ *real* numbers (positive or negative)\n",
    "\n",
    "- a positive *semi-definite* matrix (PSDM) is defined analogously except that 0's are allowed"
   ]
  },
  {
   "cell_type": "markdown",
   "metadata": {
    "slideshow": {
     "slide_type": "subslide"
    }
   },
   "source": [
    "# PSDM properties\n",
    "\n",
    "- a positive definite matrix is invertible and its inverse is also positive definite\n",
    "- if $M$ is positive semidefinite, then $Q^T M Q$ is positive semidefinite\n",
    "- if $M$ is positive definite and $r >$ 0 is a real number, then $rM$ is positive definite\n",
    "- $M$ is positive semidefinite iff there is a positive semidefinite matrix $B$ such that $BB = B^2 = M$\n",
    "  - $B$ is unique and it is called the *square root* of $M$ denoted $M^{\\frac {1}{2}}$\n",
    "- the eigenvalues are positive (or the real part of them if complex)"
   ]
  },
  {
   "cell_type": "markdown",
   "metadata": {
    "slideshow": {
     "slide_type": "subslide"
    }
   },
   "source": [
    "# PSDM properties\n",
    "\n",
    "- if $M$ and $N$ are positive definite, then are also positive definite:\n",
    "  - $M + N$ \n",
    "  - $MNM$\n",
    "  - $NMN$ \n",
    "  - $MN$ (if $MN = NM$)\n",
    "- the diagonal entries $m_{ii}$ are real and non-negative\n",
    "- $\\max |m_{ij}|\\leq \\max |m_{ii}|$"
   ]
  }
 ],
 "metadata": {
  "celltoolbar": "Slideshow",
  "kernelspec": {
   "display_name": "Python 3 (ipykernel)",
   "language": "python",
   "name": "python3"
  },
  "language_info": {
   "codemirror_mode": {
    "name": "ipython",
    "version": 3
   },
   "file_extension": ".py",
   "mimetype": "text/x-python",
   "name": "python",
   "nbconvert_exporter": "python",
   "pygments_lexer": "ipython3",
   "version": "3.11.4"
  },
  "toc": {
   "base_numbering": 1,
   "nav_menu": {},
   "number_sections": true,
   "sideBar": false,
   "skip_h1_title": true,
   "title_cell": "Table of Contents",
   "title_sidebar": "Contents",
   "toc_cell": true,
   "toc_position": {},
   "toc_section_display": true,
   "toc_window_display": false
  }
 },
 "nbformat": 4,
 "nbformat_minor": 4
}
