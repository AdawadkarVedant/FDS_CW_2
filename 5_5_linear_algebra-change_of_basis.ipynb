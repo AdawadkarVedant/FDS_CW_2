{
 "cells": [
  {
   "cell_type": "code",
   "execution_count": 1,
   "metadata": {
    "slideshow": {
     "slide_type": "skip"
    }
   },
   "outputs": [
    {
     "data": {
      "text/html": [
       "<link href=\"https://fonts.googleapis.com/css?family=Cabin|Quicksand\" rel=\"stylesheet\"><style>.container{width:90% !important; font-family: \"Cabin\", sans-serif;}em{color: red !important;}</style><style>.output_png {display: table-cell;text-align: center;vertical-align: middle;}</style>"
      ],
      "text/plain": [
       "<IPython.core.display.HTML object>"
      ]
     },
     "execution_count": 1,
     "metadata": {},
     "output_type": "execute_result"
    }
   ],
   "source": [
    "%matplotlib inline\n",
    "import numpy as np\n",
    "from IPython.core.display import HTML\n",
    "HTML('<link href=\"https://fonts.googleapis.com/css?family=Cabin|Quicksand\" rel=\"stylesheet\"><style>.container{width:90% !important; font-family: \"Cabin\", sans-serif;}em{color: red !important;}</style><style>.output_png {display: table-cell;text-align: center;vertical-align: middle;}</style>')"
   ]
  },
  {
   "cell_type": "code",
   "execution_count": 1,
   "metadata": {
    "slideshow": {
     "slide_type": "skip"
    }
   },
   "outputs": [],
   "source": [
    "from sympy import init_printing \n",
    "from sympy import Matrix\n",
    "init_printing(use_latex=True)\n",
    "def out(mat, n=2): return Matrix(np.round(mat, decimals=n))"
   ]
  },
  {
   "cell_type": "markdown",
   "metadata": {
    "slideshow": {
     "slide_type": "subslide"
    }
   },
   "source": [
    "# Change of Basis: intuition\n",
    "  \n",
    "\n",
    "<center><img src=\"img/change_of_basis.png\" width=500></center>\n",
    "\n"
   ]
  },
  {
   "cell_type": "markdown",
   "metadata": {
    "slideshow": {
     "slide_type": "subslide"
    }
   },
   "source": [
    "# Change of Basis: intuition\n",
    "  \n",
    "- (blue) basis 1 = $\\{u_1, u_2\\}$\n",
    "- coordinate of vector **x** in basis 1 = $(x_1, x_2)$\n",
    "- meaning: **x** = $x_1 \\cdot u_1 + x_2 \\cdot u_2$\n",
    "\n",
    "- (red) basis 2 = $\\{v_1, v_2\\}$\n",
    "- coordinate of vector **x** in basis 2 = $(x'_1, x'_2)$\n",
    "- meaning: **x** = $x'_1 \\cdot v_1 + x'_2 \\cdot v_2$\n",
    "\n",
    "- Question: given the coordinates of **x** in basis 1 $(x_1, x_2)$, how can we get the coordinates of **x** in basis 2?\n",
    "\n"
   ]
  },
  {
   "cell_type": "markdown",
   "metadata": {
    "slideshow": {
     "slide_type": "subslide"
    }
   },
   "source": [
    "# Change of Basis: basis\n",
    "  \n",
    "\n",
    "- let $V$ be a vector space \n",
    "- let $S=\\{v_1, v_2, ..., v_n\\}$ be a set of vectors in $V$\n",
    "- $S$ forms a basis for $V$ if:\n",
    "  - $S$ is linearly independent\n",
    "  - $S$ spans $V$"
   ]
  },
  {
   "cell_type": "markdown",
   "metadata": {
    "slideshow": {
     "slide_type": "subslide"
    }
   },
   "source": [
    "# Change of Basis: coordinates\n",
    "  \n",
    "- if $S=\\{v_1, v_2, ..., v_n\\}$ is a basis for $V$\n",
    "- then every vector $v \\in V$ can be expressed *uniquely* \n",
    "- as a linear combination of $v_1, v_2, ... v_n$:\n",
    "\n",
    "$$ v=c_1 v_1+c_2 v_2 + ... + c_n v_n$$\n",
    "\n",
    "- $ \\begin{bmatrix} c_1 \\\\ c_2 \\\\ \\vdots \\\\ c_n \\end{bmatrix}$ are the *coordinates* of $v$ relative to the basis $S$\n",
    "- if $V$ has dimension $n$, then every set of $n$ linearly independent vectors in $V$ is a valid basis for $V$"
   ]
  },
  {
   "cell_type": "markdown",
   "metadata": {
    "slideshow": {
     "slide_type": "subslide"
    }
   },
   "source": [
    "# Change of Basis: coordinates\n",
    "  \n",
    "- let $B=\\{u,w\\}$ and $B'=\\{u',w'\\}$ be two bases for $\\mathbb {R}^2$\n",
    "- consider $v \\in V$ \n",
    "- the representation of $v$ in basis $B$ has coordinates $[v]_B$ \n",
    "- the representation of $v$ in basis $B'$ has coordinates $[v]_{B'}$\n",
    "\n",
    "- we are going to view $B'$ as the original representation\n",
    "  - and $B$ as the new representation\n",
    "- we start from the coordinate representation $[v]_{B'}$ in basis $B'$ and we want to find/compute the coordinate representation $[v]_{B}$ in basis $B$"
   ]
  },
  {
   "cell_type": "markdown",
   "metadata": {
    "slideshow": {
     "slide_type": "subslide"
    }
   },
   "source": [
    "# Change of Basis: coordinates\n",
    "  \n",
    "- suppose the basis vectors $u'$ and $w'$ for $B'$ (original) have the following coordinates relative to the basis $B$ (new):\n",
    "\n",
    " $[u']_B = \\begin{bmatrix} a \\\\ b \\end{bmatrix}$  \n",
    "\n",
    " $[w']_B = \\begin{bmatrix} c \\\\ d \\end{bmatrix}$  \n",
    "\n",
    "\n",
    "- This means that $u' = au+bw$  and $w' = cu+dw$ "
   ]
  },
  {
   "cell_type": "markdown",
   "metadata": {
    "slideshow": {
     "slide_type": "subslide"
    }
   },
   "source": [
    "# Change of Basis:  change of coordinates matrix\n",
    "\n",
    "- claim: the change of basis transformation $[v]_{B}=T([v]_{B'})$ is a **linear transformation** associated to matrix $P$\n",
    "  \n",
    "- we define the *change of coordinates matrix* from B' to B\n",
    "$$P ={\\begin{pmatrix} a & c \\\\ b & d \\\\ \\end{pmatrix}}$$\n",
    "\n",
    "- the change of basis transformation is obtained by\n",
    "$$[v]_B = P [v]_{B'} = {\\begin{pmatrix} a & c \\\\ b & d \\\\ \\end{pmatrix}} [v]_{B'}$$"
   ]
  },
  {
   "cell_type": "markdown",
   "metadata": {
    "slideshow": {
     "slide_type": "subslide"
    }
   },
   "source": [
    "# Change of Basis:  change of coordinates matrix\n",
    "  \n",
    "in words:\n",
    "- to change bases:\n",
    "  - if we know the coordinates of $v$ relative to the (original) basis $B'$\n",
    "  - we can multiply this vector by the change of coordinates matrix $P$\n",
    "- this gives us the coordinates of $v$ relative to the (new) basis $B$"
   ]
  },
  {
   "cell_type": "markdown",
   "metadata": {
    "slideshow": {
     "slide_type": "subslide"
    }
   },
   "source": [
    "# Change of Basis:  change of coordinates matrix\n",
    " \n",
    "$[u']_B = \\begin{bmatrix} a \\\\ b \\end{bmatrix}$ \n",
    "and $[w']_B = \\begin{bmatrix} c \\\\ d \\end{bmatrix}$  \n",
    "\n",
    "$$P ={\\begin{pmatrix} a & c \\\\ b & d \\\\ \\end{pmatrix}}$$\n",
    "\n",
    "Note that we just need to know the representation of the vectors forming the original basis in the new coordinate system\n",
    "- the conversion matrix is formed by the column vectors of the original basis expressed in the new basis"
   ]
  },
  {
   "cell_type": "markdown",
   "metadata": {
    "slideshow": {
     "slide_type": "subslide"
    }
   },
   "source": [
    "# Change of Basis: explanation\n",
    "  \n",
    "- say $v = {\\begin{bmatrix} x' \\\\ y' \\end{bmatrix}}_{B'}$ relative to the basis $B' = \\{u', w'\\}$\n",
    "- this means that $v=x' u' + y' w' $\n",
    "- we said that vectors $u'$ and $w'$ for $B'$ have the following coordinates relative to the basis $B$:\n",
    "\n",
    " $[u']_B = \\begin{bmatrix} a \\\\ b \\end{bmatrix}$  and  $[w']_B = \\begin{bmatrix} c \\\\ d \\end{bmatrix}$  \n",
    "\n",
    "\n",
    "- i.e. that $u' = au+bw$  and $w' = cu+dw$  \n",
    "- so substituting $u',w'$ in $v=x' u' + y' w' $ we get:"
   ]
  },
  {
   "cell_type": "markdown",
   "metadata": {
    "slideshow": {
     "slide_type": "subslide"
    }
   },
   "source": [
    "# Change of Basis: explanation\n",
    "  \n",
    "$$v = x'(au+bw)+y'(cu+dw)$$ \n",
    "\n",
    "$$v =(ax'+cy')u+(bx'+dy')w $$ \n",
    "\n",
    "that is:\n",
    "\n",
    "$$ [v]_B = \\begin{bmatrix} ax'+cy' \\\\ bx'+dy' \\end{bmatrix}$$\n",
    "\n",
    "$$ [v]_B = \\begin{bmatrix} a & c \\\\ b & d \\end{bmatrix} \\begin{bmatrix} x'\\\\ y' \\end{bmatrix}$$\n",
    "\n",
    "$$ [v]_B = \\begin{bmatrix} a & c \\\\ b & d \\end{bmatrix} [v]_{B'}$$"
   ]
  },
  {
   "cell_type": "markdown",
   "metadata": {
    "slideshow": {
     "slide_type": "subslide"
    }
   },
   "source": [
    "# Change of Basis: inverse transformation\n",
    "  \n",
    "- the transition matrix $P$ is invertible\n",
    "- if $P$ is the change of coordinates matrix from $B'$ to $B$\n",
    "- then $P^{−1}$ is the change of coordinates matrix from $B$ to $B'$\n",
    "$$ [v]_{B'}=P^{−1}[v]_B $$"
   ]
  },
  {
   "cell_type": "markdown",
   "metadata": {
    "slideshow": {
     "slide_type": "subslide"
    }
   },
   "source": [
    "# Change of Basis: change of representation of a linear transformation \n",
    "  \n",
    "- a linear tranformation $T$ can be represented as a matrix $M$ w.r.t. the basis $B$\n",
    "- how can the same linear transformation $T$ be represented as a matrix $M'$ w.r.t. the basis $B'$?\n",
    "\n",
    "$$ M'=P^{−1} M P $$\n",
    "\n",
    "- M and M' are **similar** matrices"
   ]
  },
  {
   "cell_type": "markdown",
   "metadata": {
    "slideshow": {
     "slide_type": "subslide"
    }
   },
   "source": [
    "# Change of Basis: change of representation of a linear transformation \n",
    "  \n",
    "$$ M'=P^{−1} M P $$\n",
    "\n",
    "- why? \n",
    "\n",
    "$$ w=T(v)$$\n",
    "\n",
    "$$ [w]_{B}=M[v]_{B} $$\n",
    "\n",
    "$$ P[w]_{B'}=MP[v]_{B'} $$\n",
    "\n",
    "$$ [w]_{B'}=P^{-1}MP[v]_{B'} $$\n",
    "\n",
    "$$ [w]_{B'}=M'[v]_{B'} $$\n"
   ]
  }
 ],
 "metadata": {
  "celltoolbar": "Slideshow",
  "kernelspec": {
   "display_name": "Python 3 (ipykernel)",
   "language": "python",
   "name": "python3"
  },
  "language_info": {
   "codemirror_mode": {
    "name": "ipython",
    "version": 3
   },
   "file_extension": ".py",
   "mimetype": "text/x-python",
   "name": "python",
   "nbconvert_exporter": "python",
   "pygments_lexer": "ipython3",
   "version": "3.11.5"
  },
  "toc": {
   "base_numbering": 1,
   "nav_menu": {},
   "number_sections": true,
   "sideBar": false,
   "skip_h1_title": true,
   "title_cell": "Table of Contents",
   "title_sidebar": "Contents",
   "toc_cell": true,
   "toc_position": {},
   "toc_section_display": true,
   "toc_window_display": false
  }
 },
 "nbformat": 4,
 "nbformat_minor": 2
}
