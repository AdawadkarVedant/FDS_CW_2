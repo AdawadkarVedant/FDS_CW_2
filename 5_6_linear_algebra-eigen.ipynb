{
 "cells": [
  {
   "cell_type": "code",
   "execution_count": 1,
   "metadata": {
    "slideshow": {
     "slide_type": "skip"
    }
   },
   "outputs": [
    {
     "data": {
      "text/html": [
       "<link href=\"https://fonts.googleapis.com/css?family=Cabin|Quicksand\" rel=\"stylesheet\"><style>.container{width:90% !important; font-family: \"Cabin\", sans-serif;}em{color: red !important;}</style><style>.output_png {display: table-cell;text-align: center;vertical-align: middle;}</style>"
      ],
      "text/plain": [
       "<IPython.core.display.HTML object>"
      ]
     },
     "execution_count": 1,
     "metadata": {},
     "output_type": "execute_result"
    }
   ],
   "source": [
    "%matplotlib inline\n",
    "import numpy as np\n",
    "from IPython.core.display import HTML\n",
    "HTML('<link href=\"https://fonts.googleapis.com/css?family=Cabin|Quicksand\" rel=\"stylesheet\"><style>.container{width:90% !important; font-family: \"Cabin\", sans-serif;}em{color: red !important;}</style><style>.output_png {display: table-cell;text-align: center;vertical-align: middle;}</style>')"
   ]
  },
  {
   "cell_type": "code",
   "execution_count": 2,
   "metadata": {
    "slideshow": {
     "slide_type": "skip"
    }
   },
   "outputs": [],
   "source": [
    "from sympy import init_printing \n",
    "from sympy import Matrix\n",
    "init_printing(use_latex=True)\n",
    "def out(mat, n=2): return Matrix(np.round(mat, decimals=n))"
   ]
  },
  {
   "cell_type": "markdown",
   "metadata": {
    "slideshow": {
     "slide_type": "slide"
    }
   },
   "source": [
    "# Matrix decomposition\n",
    "\n",
    "- **Summary:** we have seen how we can merge multiple linear transformations via matrix multiplication into a single linear transformation which we can equivalently represent as a matrix.\n",
    "\n",
    "- **Question:** How can we do the inverse operation? \n",
    "<br>How can we take a single linear transformation/matrix and write it as the result of the multiplication of other (simpler) linear transformations/matrices?\n",
    "\n",
    "- When a matrix can be written as the product of other matrices, we say that the matrix can be *factorised*\n",
    "\n",
    "- There are many ways to factorise a matrix; we will now see one important and useful type of factorisation, called *eigendecomposition* or *spectral decomposition*"
   ]
  },
  {
   "cell_type": "markdown",
   "metadata": {
    "slideshow": {
     "slide_type": "subslide"
    }
   },
   "source": [
    "# Matrix eigenvalues\n",
    "\n",
    "- a given linear transformation $T$ may seem complex\n",
    "- one way to gain insight into how a transformation is acting is to find *characteristic lines*\n",
    "<br> i.e. lines that are invariant sets under $T$\n",
    "\n",
    "\n",
    "- if v is a non-zero vector such that $Tv$ is a scalar multiple of $v$\n",
    "<br> that is $Tv = λv$ for some $λ$\n",
    "  - then we say that the direction of $v$ is invariant under $T$\n",
    "<br> $v$ is called a characteristic vector or *eigenvector*\n",
    "  - the scalar $λ$ is called a characteristic value or *eigenvalue* of $T$"
   ]
  },
  {
   "cell_type": "markdown",
   "metadata": {
    "slideshow": {
     "slide_type": "subslide"
    }
   },
   "source": [
    "# Eigenvalues and eigenvectors\n",
    "\n",
    "Formally:\n",
    "- $A$ is a linear transformation from a vector space $V$ into itself <br>(this implies that we can represent it with a *square* matrix)\n",
    "- $v$ is a column vector in $V$ <br>(that is **not** the zero vector)\n",
    "- then $v$ is an *eigenvector* of $A$ if $A v$ is a scalar multiple of $v$, i.e.\n",
    "$${\\displaystyle A \\mathbf {v} =\\lambda \\mathbf {v}}$$\n",
    "- where $λ$ is a scalar known as the *eigenvalue*, characteristic value, or characteristic root associated with the eigenvector $v$"
   ]
  },
  {
   "cell_type": "markdown",
   "metadata": {
    "slideshow": {
     "slide_type": "subslide"
    }
   },
   "source": [
    "# Eigenvalues and eigenvectors intuition\n",
    "\n",
    "- geometrically an eigenvector points in a direction that is \"stretched\" by the transformation\n",
    "- the eigenvalue is the factor by which it is stretched\n",
    "- if the eigenvalue is negative, the direction is reversed\n",
    "\n",
    "![eig](img/eig.png)"
   ]
  },
  {
   "cell_type": "markdown",
   "metadata": {
    "slideshow": {
     "slide_type": "subslide"
    }
   },
   "source": [
    "# Eigenvalues and eigenvectors intuition\n",
    "\n",
    "- this is a shear mapping\n",
    "- the red arrow changes direction but the blue arrow does not\n",
    "- the blue arrow is an eigenvector of this transformation because it doesn't change direction\n",
    "- since its length is unchanged, its eigenvalue is 1\n",
    " \n",
    "<center><img src=\"img/monna.png\" width=500></center>"
   ]
  },
  {
   "cell_type": "markdown",
   "metadata": {
    "slideshow": {
     "slide_type": "subslide"
    }
   },
   "source": [
    "# Eigenvalues and eigenvectors intuition\n",
    "\n",
    "<center><img src=\"img/eig.gif\" alt=\"eig\" width=\"600\"/></center>"
   ]
  },
  {
   "cell_type": "markdown",
   "metadata": {
    "slideshow": {
     "slide_type": "subslide"
    }
   },
   "source": [
    "# Eigenvalues and eigenvectors intuition\n",
    "\n",
    "- the transformation matrix A = ${\\bigl [}{\\begin{smallmatrix}2&1\\\\1&2\\end{smallmatrix}}{\\bigr ]}$ preserves the direction of vectors \n",
    "<br>parallel to $v_{1} = [1, −1]^T$ (in purple) and $v_{2} = [1, 1]^T$ (in blue)\n",
    "- the vectors in red are not parallel to either eigenvector, so, their directions are changed by the transformation\n",
    "- the blue vectors after the transformation are three times the length of the original (their eigenvalue is 3)\n",
    "<br>while the lengths of the purple vectors are unchanged <br>(i.e. an eigenvalue of 1)"
   ]
  },
  {
   "cell_type": "markdown",
   "metadata": {
    "slideshow": {
     "slide_type": "subslide"
    }
   },
   "source": [
    "# Matrix eigenvalues\n",
    "\n",
    "- To find an eigenvector or an eigenvalue, note that\n",
    "$$Av = λv$$\n",
    "$$Av-\\lambda v = (A-\\lambda \\,{\\text{I}})v=0$$\n",
    "- where I is the identity matrix\n",
    "- the matrix $(A-\\lambda \\,{\\text{I}})$ has to have an *effect of magnitude* $0$ to compensate for a non null $v$\n",
    "- this implies that $\\det(A- \\lambda \\,{\\text{I}})=0$\n",
    "\n",
    "- the determinant is a polynomial in $\\lambda$, and the eigenvalues are the zeros \n",
    "- note that they are not guaranteed to exist as real numbers (and may be complex numbers)\n"
   ]
  },
  {
   "cell_type": "markdown",
   "metadata": {
    "slideshow": {
     "slide_type": "subslide"
    }
   },
   "source": [
    "# Algebraic multiplicity\n",
    "\n",
    "- if $λ_i$ is an eigenvalue of an $n \\times n$ matrix $A$\n",
    "- the algebraic multiplicity $μ_i$ of the eigenvalue $λ_i$ is its multiplicity as a root of the characteristic polynomial\n",
    "\n",
    "$${\\displaystyle \\det(A-\\lambda I)=(\\lambda _{1}-\\lambda )^{\\mu _{1}}(\\lambda _{2}-\\lambda )^{\\mu _{2}}\\cdots (\\lambda _{d}-\\lambda )^{\\mu _{d}}}$$\n",
    "\n",
    "- The size of each eigenvalue's algebraic multiplicity is related to the dimension n of $A$ as\n",
    "\n",
    "$${\\displaystyle {\\begin{aligned}1&\\leq \\mu _{i}\\leq n,\\\\ &\\sum _{i=1}^{d}{\\mu _{i}}=n.\\end{aligned}}}$$"
   ]
  },
  {
   "cell_type": "markdown",
   "metadata": {
    "slideshow": {
     "slide_type": "skip"
    }
   },
   "source": [
    "# Algebraic multiplicity\n",
    "\n",
    "- The notion of multiplicity opens the door to interesting questions: \n",
    "  - how are eigenvectors associated to eigenvalues with multiplicity > 1? \n",
    "  - the notion of *defective* matrices can be introduced, i.e. when a matrix does not have a complete basis of eigenvectors\n",
    "- We will not investigate these issues, as these cases happens rarely in practice"
   ]
  },
  {
   "cell_type": "markdown",
   "metadata": {
    "slideshow": {
     "slide_type": "subslide"
    }
   },
   "source": [
    "# How to compute the eigendecomposition\n",
    "\n",
    "- in a math oriented module we would invest time into the mechanics of the eigendecomposition computation \n",
    "- here we will not investigate how to compute the eigendecomposition\n",
    "- rather we will develop intuitions on its properties and use"
   ]
  },
  {
   "cell_type": "markdown",
   "metadata": {
    "slideshow": {
     "slide_type": "subslide"
    }
   },
   "source": [
    "# In NumPy\n",
    "\n",
    "`L,Q = numpy.linalg.eig(A)`\n",
    "\n",
    "Compute the eigenvalues and eigenvectors of a square array\n",
    "\n",
    "- A is the input square matrix\n",
    "- L is a one dimensional array containing the eigenvalues, each repeated according to its multiplicity\n",
    "- **Note:** \n",
    "  - the eigenvalues are not sorted \n",
    "  - the resulting array can be of complex type\n",
    "- Q is an array containing the normalized (unit “length”) eigenvectors, such that the column `Q[:,i]` is the eigenvector corresponding to the eigenvalue `L[i]`"
   ]
  },
  {
   "cell_type": "code",
   "execution_count": 14,
   "metadata": {
    "slideshow": {
     "slide_type": "subslide"
    }
   },
   "outputs": [
    {
     "data": {
      "image/png": "[encoded data removed]",
      "text/latex": [
       "$\\displaystyle \\left[\\begin{matrix}5 & 0 & 0\\\\0 & 2 & 0\\\\0 & 0 & 3\\end{matrix}\\right]$"
      ],
      "text/plain": [
       "⎡5  0  0⎤\n",
       "⎢       ⎥\n",
       "⎢0  2  0⎥\n",
       "⎢       ⎥\n",
       "⎣0  0  3⎦"
      ]
     },
     "execution_count": 14,
     "metadata": {},
     "output_type": "execute_result"
    }
   ],
   "source": [
    "A=np.diag([5, 2, 3])\n",
    "out(A)"
   ]
  },
  {
   "cell_type": "code",
   "execution_count": 15,
   "metadata": {
    "slideshow": {
     "slide_type": "-"
    }
   },
   "outputs": [
    {
     "name": "stdout",
     "output_type": "stream",
     "text": [
      "1\n"
     ]
    },
    {
     "data": {
      "text/plain": [
       "array([5., 2., 3.])"
      ]
     },
     "execution_count": 15,
     "metadata": {},
     "output_type": "execute_result"
    }
   ],
   "source": [
    "L, Q = np.linalg.eig(A)\n",
    "print(L.ndim)\n",
    "L"
   ]
  },
  {
   "cell_type": "code",
   "execution_count": 16,
   "metadata": {
    "slideshow": {
     "slide_type": "-"
    }
   },
   "outputs": [
    {
     "data": {
      "image/png": "[encoded data removed]",
      "text/latex": [
       "$\\displaystyle \\left[\\begin{matrix}1.0 & 0.0 & 0.0\\\\0.0 & 1.0 & 0.0\\\\0.0 & 0.0 & 1.0\\end{matrix}\\right]$"
      ],
      "text/plain": [
       "⎡1.0  0.0  0.0⎤\n",
       "⎢             ⎥\n",
       "⎢0.0  1.0  0.0⎥\n",
       "⎢             ⎥\n",
       "⎣0.0  0.0  1.0⎦"
      ]
     },
     "execution_count": 16,
     "metadata": {},
     "output_type": "execute_result"
    }
   ],
   "source": [
    "out(Q)"
   ]
  },
  {
   "cell_type": "markdown",
   "metadata": {
    "slideshow": {
     "slide_type": "subslide"
    }
   },
   "source": [
    "# Eigenvector properties\n",
    "\n",
    "\n",
    "1. the trace of $A$ is the sum of all eigenvalues\n",
    "$${\\displaystyle \\operatorname {tr} (A)=\\sum _{i=1}^{n}A_{ii}=\\sum _{i=1}^{n}\\lambda _{i}=\\lambda _{1}+\\lambda _{2}+\\cdots +\\lambda _{n}}$$\n",
    "2. the determinant of A is the product of all its eigenvalues\n",
    "$${\\displaystyle \\det(A)=\\prod _{i=1}^{n}\\lambda _{i}=\\lambda _{1}\\lambda _{2}\\cdots \\lambda _{n}}$$\n",
    "3. matrix A is invertible if and only if every eigenvalue is nonzero\n",
    "4. if A is invertible, then the eigenvalues of $A^{−1}$ are $1/λ_1, 1/λ_2, ..., 1/λ_n$ and each eigenvalue's geometric multiplicity coincides"
   ]
  },
  {
   "cell_type": "code",
   "execution_count": 27,
   "metadata": {
    "slideshow": {
     "slide_type": "subslide"
    }
   },
   "outputs": [
    {
     "data": {
      "image/png": "[encoded data removed]",
      "text/latex": [
       "$\\displaystyle \\left[\\begin{matrix}5 & 1 & 1\\\\0 & 2 & 1\\\\0 & 0 & 3\\end{matrix}\\right]$"
      ],
      "text/plain": [
       "⎡5  1  1⎤\n",
       "⎢       ⎥\n",
       "⎢0  2  1⎥\n",
       "⎢       ⎥\n",
       "⎣0  0  3⎦"
      ]
     },
     "execution_count": 27,
     "metadata": {},
     "output_type": "execute_result"
    }
   ],
   "source": [
    "A = np.diag([5, 2, 3])\n",
    "A[0,1:3]=1\n",
    "A[1,2]=1\n",
    "out(A)"
   ]
  },
  {
   "cell_type": "code",
   "execution_count": 28,
   "metadata": {
    "slideshow": {
     "slide_type": "fragment"
    }
   },
   "outputs": [
    {
     "name": "stdout",
     "output_type": "stream",
     "text": [
      "29.99999999999999\n",
      "10\n"
     ]
    }
   ],
   "source": [
    "print(np.linalg.det(A))\n",
    "print(np.trace(A))"
   ]
  },
  {
   "cell_type": "code",
   "execution_count": 30,
   "metadata": {
    "slideshow": {
     "slide_type": "fragment"
    }
   },
   "outputs": [
    {
     "name": "stdout",
     "output_type": "stream",
     "text": [
      "[5. 2. 3.]\n",
      "10.0\n",
      "30.0\n"
     ]
    }
   ],
   "source": [
    "L, Q = np.linalg.eig(A)\n",
    "print(L)\n",
    "print(np.sum(L))\n",
    "print(np.prod(L))"
   ]
  },
  {
   "cell_type": "markdown",
   "metadata": {
    "slideshow": {
     "slide_type": "skip"
    }
   },
   "source": [
    "# Note\n",
    "\n",
    "- The statement \"A can be eigendecomposed\" does not imply that A has an inverse\n",
    "- The statement \"A has an inverse\" does not imply that A can be eigendecomposed\n",
    "\n",
    "A counterexample is \n",
    "\n",
    "$$\\mathbf {A} ={\\begin{pmatrix}-1&1\\\\0&1\\end{pmatrix}}$$\n",
    "\n",
    "which is an invertible defective matrix: i.e. there are eigenvalues with multiplicity greater than 1 and the corresponding eigenvectors are not linearly independent"
   ]
  },
  {
   "cell_type": "markdown",
   "metadata": {
    "slideshow": {
     "slide_type": "subslide"
    }
   },
   "source": [
    "# Diagonalization and the eigendecomposition\n",
    "\n",
    "- suppose the eigenvectors of A form a basis\n",
    "<br>i.e. A has n linearly independent eigenvectors $v_1, v_2, ..., v_n$ with associated eigenvalues $λ_1, λ_2, ..., λ_n$\n",
    "- define a square matrix $Q$ whose columns are the n linearly independent eigenvectors of $A$\n",
    "\n",
    "$${\\displaystyle Q={\\begin{bmatrix}v_{1}&v_{2}&\\cdots &v_{n}\\end{bmatrix}}}$$\n"
   ]
  },
  {
   "cell_type": "markdown",
   "metadata": {
    "slideshow": {
     "slide_type": "subslide"
    }
   },
   "source": [
    "# Diagonalization and the eigendecomposition\n",
    "\n",
    "\n",
    "- since each column of $Q$ is an eigenvector of A, right multiplying A by $Q$ scales each column of $Q$ by its associated eigenvalue\n",
    "\n",
    "$${\\displaystyle AQ={\\begin{bmatrix}\\lambda _{1}v_{1}&\\lambda _{2}v_{2}&\\cdots &\\lambda _{n}v_{n}\\end{bmatrix}}}$$\n",
    "\n",
    "- define a diagonal matrix $Λ$ where each diagonal element $Λ_{ii}$ is the eigenvalue associated with the $i$th column of $Q$\n",
    "<br>then $${\\displaystyle Q\\Lambda={\\begin{bmatrix}\\lambda _{1}v_{1}&\\lambda _{2}v_{2}&\\cdots &\\lambda _{n}v_{n}\\end{bmatrix}}}$$\n",
    "\n",
    "- so\n",
    "\n",
    "$${\\displaystyle AQ=Q\\Lambda }$$\n"
   ]
  },
  {
   "cell_type": "markdown",
   "metadata": {
    "slideshow": {
     "slide_type": "skip"
    }
   },
   "source": [
    "# Note: left and right multiplication of a diagonal matrix\n",
    "\n",
    "\n",
    "- given a matrix $Q$ and a diagonal matrix $\\Lambda$\n",
    "- if we left multiply $\\Lambda Q$ we multiply the rows of $Q$ by the scalars on the corresponding position\n",
    "- if we right multiply $Q \\Lambda$ we multiply the columns of $Q$ by the scalars on the corresponding position"
   ]
  },
  {
   "cell_type": "code",
   "execution_count": 8,
   "metadata": {
    "slideshow": {
     "slide_type": "subslide"
    }
   },
   "outputs": [
    {
     "data": {
      "image/png": "[encoded data removed]",
      "text/latex": [
       "$\\displaystyle \\left[\\begin{matrix}1 & 1 & 1\\\\2 & 2 & 2\\\\3 & 3 & 3\\end{matrix}\\right]$"
      ],
      "text/plain": [
       "⎡1  1  1⎤\n",
       "⎢       ⎥\n",
       "⎢2  2  2⎥\n",
       "⎢       ⎥\n",
       "⎣3  3  3⎦"
      ]
     },
     "execution_count": 8,
     "metadata": {},
     "output_type": "execute_result"
    }
   ],
   "source": [
    "Q = np.mat([[1,1,1],[2,2,2],[3,3,3]])\n",
    "out(Q)"
   ]
  },
  {
   "cell_type": "code",
   "execution_count": 6,
   "metadata": {},
   "outputs": [
    {
     "data": {
      "image/png": "[encoded data removed]",
      "text/latex": [
       "$\\displaystyle \\left[\\begin{matrix}1 & 0 & 0\\\\0 & 2 & 0\\\\0 & 0 & 3\\end{matrix}\\right]$"
      ],
      "text/plain": [
       "⎡1  0  0⎤\n",
       "⎢       ⎥\n",
       "⎢0  2  0⎥\n",
       "⎢       ⎥\n",
       "⎣0  0  3⎦"
      ]
     },
     "execution_count": 6,
     "metadata": {},
     "output_type": "execute_result"
    }
   ],
   "source": [
    "L = np.mat([[1,0,0],[0,2,0],[0,0,3]])\n",
    "out(L)"
   ]
  },
  {
   "cell_type": "code",
   "execution_count": 9,
   "metadata": {
    "slideshow": {
     "slide_type": "skip"
    }
   },
   "outputs": [
    {
     "data": {
      "image/png": "[encoded data removed]",
      "text/latex": [
       "$\\displaystyle \\left[\\begin{matrix}1 & 1 & 1\\\\4 & 4 & 4\\\\9 & 9 & 9\\end{matrix}\\right]$"
      ],
      "text/plain": [
       "⎡1  1  1⎤\n",
       "⎢       ⎥\n",
       "⎢4  4  4⎥\n",
       "⎢       ⎥\n",
       "⎣9  9  9⎦"
      ]
     },
     "execution_count": 9,
     "metadata": {},
     "output_type": "execute_result"
    }
   ],
   "source": [
    "out(L*Q)"
   ]
  },
  {
   "cell_type": "code",
   "execution_count": 10,
   "metadata": {},
   "outputs": [
    {
     "data": {
      "image/png": "[encoded data removed]",
      "text/latex": [
       "$\\displaystyle \\left[\\begin{matrix}1 & 2 & 3\\\\2 & 4 & 6\\\\3 & 6 & 9\\end{matrix}\\right]$"
      ],
      "text/plain": [
       "⎡1  2  3⎤\n",
       "⎢       ⎥\n",
       "⎢2  4  6⎥\n",
       "⎢       ⎥\n",
       "⎣3  6  9⎦"
      ]
     },
     "execution_count": 10,
     "metadata": {},
     "output_type": "execute_result"
    }
   ],
   "source": [
    "out(Q*L)"
   ]
  },
  {
   "cell_type": "markdown",
   "metadata": {
    "slideshow": {
     "slide_type": "subslide"
    }
   },
   "source": [
    "# Diagonalization and the eigendecomposition\n",
    "\n",
    "\n",
    "- because the columns of $Q$ are linearly independent, $Q$ is invertible\n",
    "- right multiplying both sides of the equation ${AQ=Q\\Lambda }$ by $Q^{−1}$\n",
    "\n",
    "$${\\displaystyle A=Q\\Lambda Q^{-1}}$$\n",
    "\n",
    "- A can therefore be *decomposed* into a product of the following matrices:  \n",
    "  - the matrix of its eigenvectors \n",
    "  - a diagonal matrix with its eigenvalues along the diagonal\n",
    "  - and the inverse of the matrix of eigenvectors\n",
    "- this is called the *eigendecomposition*"
   ]
  },
  {
   "cell_type": "markdown",
   "metadata": {
    "slideshow": {
     "slide_type": "subslide"
    }
   },
   "source": [
    "# Diagonalization and the eigendecomposition\n",
    "\n",
    "- two $n \\times n$ matrices are *similar* if they represent the same linear map under two (possibly) different bases\n",
    "- two linear transformations $T, T'$ are similar iff $T'=PTP^{-1}$ where $P$ is the *change of basis* matrix between bases  \n",
    "- when a matrix A is similar to a diagonal matrix then we say A is *diagonalizable* \n",
    "- operations like matrix multiplication, matrix inversion, and determinant calculation are simple on diagonal matrices\n",
    "\n"
   ]
  },
  {
   "cell_type": "markdown",
   "metadata": {
    "slideshow": {
     "slide_type": "subslide"
    }
   },
   "source": [
    "# Diagonalization and the eigendecomposition\n",
    "\n",
    "- if A can be eigendecomposed, i.e, ${A=Q\\Lambda Q^{-1}}$ then A is similar to the diagonal matrix $Λ$\n",
    "- $Q$ is the *change of basis* matrix of the similarity transformation\n",
    "- A and $Λ$ represent the same linear transformation expressed in two different bases\n",
    "- the eigenvectors are used as the basis when representing the linear transformation as $Λ$\n",
    "\n",
    "\n"
   ]
  },
  {
   "cell_type": "markdown",
   "metadata": {
    "slideshow": {
     "slide_type": "subslide"
    }
   },
   "source": [
    "# Why diagonalization\n",
    "\n",
    "- many operations on matrices are simple on diagonal matrices\n",
    "- given\n",
    "$${\\displaystyle A=Q\\Lambda Q^{-1}}$$\n",
    "\n",
    "\n",
    "- inversion:\n",
    "$${\\displaystyle A^{-1}=Q \\Lambda^{-1} Q^{-1}}$$\n",
    "where the inverse of $\\Lambda$ is just the inverse of each element of the diagonal "
   ]
  },
  {
   "cell_type": "markdown",
   "metadata": {
    "slideshow": {
     "slide_type": "subslide"
    }
   },
   "source": [
    "# Why diagonalization\n",
    "\n",
    "- many operations on matrices are simple on diagonal matrices\n",
    "- given\n",
    "$${\\displaystyle A=Q\\Lambda Q^{-1}}$$\n",
    "\n",
    "- power:\n",
    "$${\\displaystyle A^2=Q\\Lambda Q^{-1}Q\\Lambda Q^{-1}=Q\\Lambda I \\Lambda Q^{-1}=Q\\Lambda^2 Q^{-1}}$$\n",
    "\n",
    "$${\\displaystyle A^k=Q\\Lambda^k Q^{-1}}$$\n",
    "\n",
    "where the power of $\\Lambda$ is just the power of each diagonal element"
   ]
  }
 ],
 "metadata": {
  "celltoolbar": "Slideshow",
  "kernelspec": {
   "display_name": "Python 3 (ipykernel)",
   "language": "python",
   "name": "python3"
  },
  "language_info": {
   "codemirror_mode": {
    "name": "ipython",
    "version": 3
   },
   "file_extension": ".py",
   "mimetype": "text/x-python",
   "name": "python",
   "nbconvert_exporter": "python",
   "pygments_lexer": "ipython3",
   "version": "3.11.5"
  },
  "toc": {
   "base_numbering": 1,
   "nav_menu": {},
   "number_sections": true,
   "sideBar": false,
   "skip_h1_title": true,
   "title_cell": "Table of Contents",
   "title_sidebar": "Contents",
   "toc_cell": true,
   "toc_position": {},
   "toc_section_display": true,
   "toc_window_display": false
  }
 },
 "nbformat": 4,
 "nbformat_minor": 2
}
