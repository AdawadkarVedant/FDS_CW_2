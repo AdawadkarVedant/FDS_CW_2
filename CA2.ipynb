{
 "cells": [
  {
   "cell_type": "markdown",
   "metadata": {
    "deletable": false,
    "editable": false,
    "nbgrader": {
     "cell_type": "markdown",
     "checksum": "b333cf236415dff51238d3f93c6fb091",
     "grade": false,
     "grade_id": "cell-6b662f85934d7a93",
     "locked": true,
     "schema_version": 3,
     "solution": false,
     "task": false
    }
   },
   "source": [
    "## ECMM444 Fundamentals of Data Science\n",
    "## Course Assessment 2\n",
    "\n",
    "\n",
    "This course assessment (CA2) represents 60% of the overall module assessment.\n",
    "\n",
    "**Submission deadline:** 8 January 2024, 12noon\n",
    "\n",
    "**Aim:** Show understanding of linear algebra methods for data analysis with `pandas` and `numpy`.\n",
    "\n",
    "This is an **individual exercise** and your attention is drawn to the University guidelines on collaboration and plagiarism, which are available from the university website.\n",
    "\n",
    "\n",
    "**Notes on how to use the notebook:**\n",
    "\n",
    "1. do not change the name of this notebook, i.e. the notebook file has to be: `CA2.ipynb`.\n",
    "2. do not add your name or student code in the notebook or in the file name (it must be an anonymous submission).\n",
    "3. do not remove or delete or add any cell in this notebook: you should work on a separate, private notebook, and only when you are finished debugging copy the function implementations into the cells of this notebook. Make sure to copy **only** the function implementation and nothing else.\n",
    "4. remove the `raise NotImplementedError()` under the `# YOUR CODE HERE` and replace it with **your code**: note that if you leave this command in the cell you will fail the associated test.\n",
    "\n",
    "**Submission:**\n",
    "\n",
    "- to access this notebook you have downloaded the archive ecmm444_ca2.zip, and unziped it to a folder ecmm444_ca2\n",
    "- the folder ecmm444_ca2 contains some images (.png), a notebook (.ipynb) and some other files for the datasets\n",
    "- to submit your completed Jupyter notebook, save it in the folder ecmm444_ca2 without changing the file name, i.e. the notebook has to have the file name CA2.ipynb\n",
    "- create a .zip archive (not any other compression format, only .zip) of the folder ecmm444_ca2 with your updated notebook \n",
    "- submit a single file, the zipped archive, using the ELE submission system  \n",
    "\n",
    "\n",
    "**Evaluation criteria:**\n",
    "\n",
    "Each question asks for one or more functions to be implemented. \n",
    "\n",
    "- Each function is awarded a number of marks. \n",
    "- Hidden unit tests will be used to evaluate if desired properties of the required function are met. \n",
    "- If you make a typo error (e.g. mispelling a variable) this will likely causes a syntax error, and the function will fail the hidden unit tests.\n",
    "- The coding style (including clarity, conciseness, appropiate use of commands and data structures, efficiency, good programming practices) will also be kept into consideration to award full marks.  \n",
    "- Note that functions may be tested in the unit tests on some *randomly* generated input.\n",
    "- Notebooks not conforming to the required format (see notes on how to use the notebook) will be penalised.\n",
    "\n",
    "**Notes:**\n",
    "\n",
    "Students are expected to do some autonomous readings and research to familiarise themselves with the topics of the exercises.\n",
    "\n",
    "Students are not allowed to import additional external libraries unless explicitly stated in the question. \n",
    "\n",
    "Do not assume that the implementations provided in the Workshops exercises do not contain mistakes. You should write and are ultimately responsible for the code that you submit in this assessment.\n",
    "\n",
    "Questions are not strict software specifications. Students are expected to use their knowledge of the subject to interpret correctly the meaning of questions."
   ]
  },
  {
   "cell_type": "code",
   "execution_count": 3,
   "metadata": {
    "deletable": false,
    "editable": false,
    "nbgrader": {
     "cell_type": "code",
     "checksum": "3c670fa716729d399f01532e9d5c19c9",
     "grade": false,
     "grade_id": "cell-78a10a2e7ccdb3a4",
     "locked": true,
     "schema_version": 3,
     "solution": false,
     "task": false
    },
    "tags": []
   },
   "outputs": [],
   "source": [
    "%matplotlib inline\n",
    "import matplotlib.pyplot as plt\n",
    "import numpy as np\n",
    "import pandas as pd"
   ]
  },
  {
   "cell_type": "markdown",
   "metadata": {
    "deletable": false,
    "editable": false,
    "nbgrader": {
     "cell_type": "markdown",
     "checksum": "98016fbeeccc9cda0c4a9256f23c1a81",
     "grade": false,
     "grade_id": "cell-8ea579ea1f2f245a",
     "locked": true,
     "schema_version": 3,
     "solution": false,
     "task": false
    }
   },
   "source": [
    "# Part 1\n",
    "\n",
    "**Aim:** Show competence in using the `numpy` library, and understanding of principal component analysis and the singular value decomposition.\n",
    "\n",
    "**Overview of the questions:**\n",
    "\n",
    "Questions 1.1 - 1.4 are about the construction of the dataset.\n",
    "\n",
    "Questions 1.5 - 1.7 are about principal component analysis.\n",
    "\n",
    "Questions 1.8 - 1.9 are about the rank `r` approximation."
   ]
  },
  {
   "cell_type": "markdown",
   "metadata": {
    "deletable": false,
    "editable": false,
    "nbgrader": {
     "cell_type": "markdown",
     "checksum": "adc8c30e2dbadedf5b08c430d529d517",
     "grade": false,
     "grade_id": "cell-4b408b269a3bb9b7",
     "locked": true,
     "schema_version": 3,
     "solution": false,
     "task": false
    }
   },
   "source": [
    "## Question 1.1  [marks 5]\n",
    "\n",
    "Create a function `create_rot_mat(A)` that takes a non-singular, square array `A` as input and outputs a rotation matrix (array) with the same shape as the input. The function should first apply the Gram-Schmidt process to the columns in `A`. Following this, the sign of the last column should be flipped if the determinant is negative. The function should raise an AssertionError if the input array is singular. The function should not change the original array `A`. "
   ]
  },
  {
   "cell_type": "code",
   "execution_count": 138,
   "metadata": {
    "deletable": false,
    "nbgrader": {
     "cell_type": "code",
     "checksum": "7af42d9b7d079f4ddc914896f7d64ea5",
     "grade": false,
     "grade_id": "cell-9857e0b50ee5b3cc",
     "locked": false,
     "schema_version": 3,
     "solution": true,
     "task": false
    },
    "tags": []
   },
   "outputs": [
    {
     "data": {
      "text/plain": [
       "array([[ 0.70710678,  0.40824829,  0.57735027],\n",
       "       [-0.70710678,  0.40824829,  0.57735027],\n",
       "       [ 0.        , -0.81649658,  0.57735027]])"
      ]
     },
     "execution_count": 138,
     "metadata": {},
     "output_type": "execute_result"
    }
   ],
   "source": [
    "def create_rot_mat(A):\n",
    "    # YOUR CODE HERE\n",
    "    \n",
    "    # https://stackoverflow.com/questions/13249108/efficient-pythonic-check-for-singular-matrix\n",
    "    \n",
    "    # Get determinant of the input array and check if it is singular\n",
    "    determinant = np.linalg.det(A)\n",
    "    assert not np.isclose(determinant,0), 'Input array cannot be a singular array'\n",
    "    \n",
    "    # Apply Gram-Schmidt Process\n",
    "    # https://stackoverflow.com/questions/67618474/to-understand-how-gram-schmidt-process-is-translated-into-this-piece-of-code-as\n",
    "    \n",
    "    no_of_vectors = A.shape[1]\n",
    "    G = A[:,0:1].copy() # copy the first vector in matrix\n",
    "    \n",
    "    # iterate from 2nd vector to number of vectors\n",
    "    for i in range(1,no_of_vectors):\n",
    "        # calculates weights(coefficents) for every vector in G\n",
    "        numerator = A[:,i].dot(G)\n",
    "        denominator = np.diag(np.dot(G.T,G)) # to get elements in diagonal\n",
    "        weights = np.squeeze(numerator/denominator)\n",
    "            \n",
    "        # projected vector onto subspace G\n",
    "        projected_vector = np.sum(weights * G, axis=1, keepdims=True)\n",
    "            \n",
    "        # orthogonal vector to subspace G\n",
    "        orthogonalized_vector = A[:,i:i+1] - projected_vector\n",
    "\n",
    "        # now add the orthogonal vector to our set\n",
    "        G = np.hstack((G,orthogonalized_vector))\n",
    "        \n",
    "        # normalise the the vector\n",
    "        G = G/np.linalg.norm(G,axis=0)\n",
    "        \n",
    "    # Flip the sign of the last column provided that the determinant is negative\n",
    "    if determinant < 0:\n",
    "        G[:,-1] = G[:,-1] * -1\n",
    "       \n",
    "    G = np.rot90(G, 2)\n",
    "    return G\n",
    "\n",
    "create_rot_mat(np.array([[1,0,0],[1,1,0],[1,1,1]]))"
   ]
  },
  {
   "cell_type": "code",
   "execution_count": 139,
   "metadata": {
    "deletable": false,
    "editable": false,
    "nbgrader": {
     "cell_type": "code",
     "checksum": "474ee6dffa8e8a1984e5b296359b6d52",
     "grade": true,
     "grade_id": "cell-7c122d4ab513f5f1",
     "locked": true,
     "points": 5,
     "schema_version": 3,
     "solution": false,
     "task": false
    },
    "tags": []
   },
   "outputs": [],
   "source": [
    "## This cell is reserved for the unit tests. Do not consider this cell. "
   ]
  },
  {
   "cell_type": "markdown",
   "metadata": {
    "deletable": false,
    "editable": false,
    "nbgrader": {
     "cell_type": "markdown",
     "checksum": "d47a4045e54c34205a1935954e4e2321",
     "grade": false,
     "grade_id": "cell-7858f6eaa14ccdd8",
     "locked": true,
     "schema_version": 3,
     "solution": false,
     "task": false
    }
   },
   "source": [
    "## Question 1.2  [marks 5]\n",
    "\n",
    "Create a function `means = create_means(R, k)` that takes as input an `n x n` rotation matrix `R` and an integer `k`. The output will be an `n x k` array containing the coordinates of `k` means (of the data to be generated later). The first column (mean coordinates) in the output array should be a unit vector with `means[0,0] = 1`. The second column should be equal to the first column multiplied from the left by the rotation matrix `R`, the third column should be equal to the first column multiplied twice from the left by the rotation matrix `R`, the fourth column should be equal to the first column multiplied thrice from the left by the rotation matrix `R`, etc. The function should raise an AssertionError if the array `R` is not a rotation matrix."
   ]
  },
  {
   "cell_type": "code",
   "execution_count": 140,
   "metadata": {
    "deletable": false,
    "nbgrader": {
     "cell_type": "code",
     "checksum": "e7a956c251a6d71d716630a9b85b08dc",
     "grade": false,
     "grade_id": "cell-26d1c7ca349eddbe",
     "locked": false,
     "schema_version": 3,
     "solution": true,
     "task": false
    },
    "tags": []
   },
   "outputs": [],
   "source": [
    "def create_means(R, k):\n",
    "    # YOUR CODE HERE\n",
    "    # Check if the given matrix is a square matrix\n",
    "    isSquareMatrix = R.shape[0] == R.shape[1]\n",
    "    \n",
    "    # Check if the determinant of given matrix is closer to 1\n",
    "    determinant = np.linalg.det(R)\n",
    "    isCloseDet = np.isclose(determinant, 1.0)\n",
    "    \n",
    "    # Check if the given matrix is an orthogonal matrix\n",
    "    transposeR = R.T\n",
    "    inverseR = np.linalg.inv(R)\n",
    "    isOrthogonalMatrix = np.allclose(transposeR, inverseR)\n",
    "    \n",
    "    # Assert if 'R' is a Rotation Matrix\n",
    "    assertRotationMatrix = isSquareMatrix & isCloseDet & isOrthogonalMatrix\n",
    "    assert assertRotationMatrix, 'R is not a Rotation Matrix'\n",
    "    \n",
    "    # Create an empty array of 'n x k' shape\n",
    "    means = np.zeros((R.shape[0],k))\n",
    "    \n",
    "    #Initialise the first column to be a unit vector with means[0,0] = 1.\n",
    "    means[:,0] = np.eye(R.shape[0])[:,0]\n",
    "    \n",
    "    for i in range(1, k):\n",
    "        means[:, i] = np.dot(R, means[:, i - 1])\n",
    "        # for j in range(1,i):\n",
    "        # means[:, i] *= means[:, i]\n",
    "        \n",
    "    return means\n",
    "\n",
    "A = np.array([[1, 0], [-1, 1]])\n",
    "R = create_rot_mat(A)\n",
    "k = 8\n",
    "means = create_means(R, k)\n",
    "A = np.array([[1, 2], [4, 5]])\n",
    "R = create_rot_mat(A)"
   ]
  },
  {
   "cell_type": "code",
   "execution_count": 141,
   "metadata": {
    "deletable": false,
    "editable": false,
    "nbgrader": {
     "cell_type": "code",
     "checksum": "e90ba3ab88619c577bd2a08cd7062674",
     "grade": true,
     "grade_id": "cell-bf8e54a21818db8d",
     "locked": true,
     "points": 5,
     "schema_version": 3,
     "solution": false,
     "task": false
    },
    "tags": []
   },
   "outputs": [],
   "source": [
    "# This cell is reserved for the unit tests. Do not consider this cell. "
   ]
  },
  {
   "cell_type": "markdown",
   "metadata": {
    "deletable": false,
    "editable": false,
    "nbgrader": {
     "cell_type": "markdown",
     "checksum": "23fa8be349069e614240288d57e00efb",
     "grade": false,
     "grade_id": "cell-816fddaaa8638205",
     "locked": true,
     "schema_version": 3,
     "solution": false,
     "task": false
    }
   },
   "source": [
    "## Question 1.3  [marks 3]\n",
    "\n",
    "Create a function `create_PSD_matrix(R, eigenvalues)` that takes as input an `n x n` rotation matrix `R` and a `1 x n` dimensional array `eigenvalues` of positive numbers. The function should output a positive definite matrix with the eigenvectors specified by the columns in `R` and the associated eigenvalues given by the values in `eigenvalues`. The function should raise an AssertionError if the array `R` is not a rotation matrix or if any of the eigenvalues are not positive."
   ]
  },
  {
   "cell_type": "code",
   "execution_count": 142,
   "metadata": {
    "deletable": false,
    "nbgrader": {
     "cell_type": "code",
     "checksum": "36e5876a84b88d596e6b9dcf8853e7fe",
     "grade": false,
     "grade_id": "cell-b4a0071bfcba55ad",
     "locked": false,
     "schema_version": 3,
     "solution": true,
     "task": false
    },
    "tags": []
   },
   "outputs": [
    {
     "name": "stdout",
     "output_type": "stream",
     "text": [
      "R (FIRST) -  [[ 0.24253563  0.9701425 ]\n",
      " [-0.9701425   0.24253563]] ... means -  [[ 1.          0.70710678  0.         -0.70710678 -1.         -0.70710678\n",
      "   0.          0.70710678]\n",
      " [ 0.          0.70710678  1.          0.70710678  0.         -0.70710678\n",
      "  -1.         -0.70710678]] ... R (SECOND) -  [[ 0.24253563  0.9701425 ]\n",
      " [-0.9701425   0.24253563]] ... cov -  [[ 0.07073529 -0.01705882]\n",
      " [-0.01705882  0.00676471]]\n"
     ]
    }
   ],
   "source": [
    "def create_PSD_matrix(R, eigenvalues):\n",
    "    # YOUR CODE HERE\n",
    "    # Check if the given matrix is a square matrix\n",
    "    isSquareMatrix = R.shape[0] == R.shape[1]\n",
    "    \n",
    "    # Check if the determinant of given matrix is closer to 1\n",
    "    determinant = np.linalg.det(R)\n",
    "    isCloseDet = np.isclose(determinant, 1.0)\n",
    "    \n",
    "    # Check if the given matrix is an orthogonal matrix\n",
    "    transposeR = R.T\n",
    "    inverseR = np.linalg.inv(R)\n",
    "    isOrthogonalMatrix = np.allclose(transposeR, inverseR)\n",
    "    \n",
    "    # Assert if 'R' is a Rotation Matrix\n",
    "    assertRotationMatrix = isSquareMatrix & isCloseDet & isOrthogonalMatrix\n",
    "    assert assertRotationMatrix, 'R is not a Rotation Matrix'\n",
    "    \n",
    "    # Assert if 'eigenvalues' has a negative value\n",
    "    assert np.all(eigenvalues > 0), 'Eigenvalues cannot have a negative value'\n",
    "    \n",
    "    # Convert 'eigenvalues' array into a diagonal matrix\n",
    "    eigenvalues_diagonal = np.diag(eigenvalues)\n",
    "    \n",
    "    # Create a positive definite matrix\n",
    "    PSD_matrix = np.dot(np.dot(R.T, eigenvalues_diagonal), R)\n",
    "    \n",
    "    return PSD_matrix\n",
    "\n",
    "A = np.array([[1, 0], [-1, 1]])\n",
    "R = create_rot_mat(A)\n",
    "k = 8\n",
    "means = create_means(R, k)\n",
    "A = np.array([[1, 2], [4, 5]])\n",
    "R = create_rot_mat(A)\n",
    "eigenvalues = 0.05*np.array([0.05, 1.5])\n",
    "cov = create_PSD_matrix(R, eigenvalues)\n",
    "\n",
    "print('R (FIRST) - ', R, '... means - ', means, '... R (SECOND) - ', R, '... cov - ', cov)"
   ]
  },
  {
   "cell_type": "code",
   "execution_count": 143,
   "metadata": {
    "deletable": false,
    "editable": false,
    "nbgrader": {
     "cell_type": "code",
     "checksum": "456406ae46ce46a768f731eb6cd3ed26",
     "grade": true,
     "grade_id": "cell-051d7215ff10b242",
     "locked": true,
     "points": 3,
     "schema_version": 3,
     "solution": false,
     "task": false
    },
    "tags": []
   },
   "outputs": [],
   "source": [
    "# This cell is reserved for the unit tests. Do not consider this cell. "
   ]
  },
  {
   "cell_type": "markdown",
   "metadata": {
    "deletable": false,
    "editable": false,
    "nbgrader": {
     "cell_type": "markdown",
     "checksum": "a295d0f11eec120873330b0a2dee0588",
     "grade": false,
     "grade_id": "cell-41758725113f1745",
     "locked": true,
     "schema_version": 3,
     "solution": false,
     "task": false
    }
   },
   "source": [
    "## Question 1.4  [marks 4]\n",
    "\n",
    "Create a function `X, targets = make_data(means, cov, m)` thats output a data matrix `X` and a one dimensional class vector `targets`. The function takes as input an `n x k` array `means`, where each column in `means` represents the mean vector for each class, an `n x n` array `cov` that specifies the covariance for all classes, and an integer `m`. Generate the same number of instances for each class for a total of `m` instances (assume that `m` is an exact multiple of `k`).\n",
    "\n",
    "The output `X` should be an `m x n` array. `Targets` should contain a class indicator for each instance (i.e. an integer between 0 and k-1 indicating the class the corresponding row in `X` belongs to). All data should be simulated from a multivariate normal distribution.\n",
    "\n",
    "When executing the following code\n",
    "\n",
    "```python\n",
    "A = np.array([[1, 0], [-1, 1]])\n",
    "R = create_rot_mat(A)\n",
    "k = 8\n",
    "means = create_means(R, k)\n",
    "A = np.array([[1, 2], [4, 5]])\n",
    "R = create_rot_mat(A)\n",
    "eigenvalues = 0.05*np.array([0.05, 1.5])\n",
    "cov = create_PSD_matrix(R, eigenvalues)\n",
    "m = 800\n",
    "data_matrix, targets = make_data(means, cov, m)\n",
    "for i in range(k):\n",
    "    plt.scatter(data_matrix[targets==i,0],data_matrix[targets==i,1])\n",
    "```\n",
    "\n",
    "you should obtain something similar to:\n",
    "\n",
    "<img src='scatter.png' width=\"500\">"
   ]
  },
  {
   "cell_type": "code",
   "execution_count": 144,
   "metadata": {
    "deletable": false,
    "nbgrader": {
     "cell_type": "code",
     "checksum": "5e7d07db172139cdf6380c23b6ac95f3",
     "grade": false,
     "grade_id": "cell-2fbb564eba50c991",
     "locked": false,
     "schema_version": 3,
     "solution": true,
     "task": false
    },
    "tags": []
   },
   "outputs": [],
   "source": [
    "def make_data(means, cov, m):\n",
    "    # YOUR CODE HERE\n",
    "    X = np.empty((m, means.shape[0]))\n",
    "    Targets = np.zeros(X.shape[0])\n",
    "    total_classes = means.shape[1]\n",
    "    for i in range(total_classes):\n",
    "        start_index = i * (m // total_classes)\n",
    "        end_index = (i + 1) * (m // total_classes)\n",
    "        multivariate_normal_dist_arr = np.random.multivariate_normal(means[:, i], cov, size=(m // total_classes))\n",
    "        X[start_index:end_index,:] = multivariate_normal_dist_arr\n",
    "        Targets[start_index:end_index] = i\n",
    "    return X, Targets\n",
    "\n",
    "A = np.array([[1, 0], [-1, 1]])\n",
    "R = create_rot_mat(A)\n",
    "k = 8\n",
    "means = create_means(R, k)\n",
    "A = np.array([[1, 2], [4, 5]])\n",
    "R = create_rot_mat(A)\n",
    "eigenvalues = 0.05*np.array([0.05, 1.5])\n",
    "cov = create_PSD_matrix(R, eigenvalues)\n",
    "m = 800\n",
    "data_matrix, targets = make_data(means, cov, m)"
   ]
  },
  {
   "cell_type": "code",
   "execution_count": 145,
   "metadata": {
    "deletable": false,
    "editable": false,
    "nbgrader": {
     "cell_type": "code",
     "checksum": "198a9508057643d06d3973798a5adf90",
     "grade": true,
     "grade_id": "cell-a78eab594fe93ed9",
     "locked": true,
     "points": 4,
     "schema_version": 3,
     "solution": false,
     "task": false
    },
    "tags": []
   },
   "outputs": [],
   "source": [
    "# This cell is reserved for the unit tests. Do not consider this cell."
   ]
  },
  {
   "cell_type": "code",
   "execution_count": 152,
   "metadata": {
    "deletable": false,
    "editable": false,
    "nbgrader": {
     "cell_type": "code",
     "checksum": "b28fe048809e70b957725c954b15cfe5",
     "grade": false,
     "grade_id": "cell-911a752744acefe4",
     "locked": true,
     "schema_version": 3,
     "solution": false,
     "task": false
    },
    "tags": []
   },
   "outputs": [
    {
     "data": {
      "image/png": "[encoded data removed]",
      "text/plain": [
       "<Figure size 640x480 with 1 Axes>"
      ]
     },
     "metadata": {},
     "output_type": "display_data"
    }
   ],
   "source": [
    "# Just run the following code, do not modify it\n",
    "\n",
    "A = np.array([[1, 0], [-1, 1]])\n",
    "R = create_rot_mat(A)\n",
    "k = 8\n",
    "means = create_means(R, k)\n",
    "A = np.array([[1, 2], [4, 5]])\n",
    "R = create_rot_mat(A)\n",
    "eigenvalues = 0.05*np.array([0.05, 1.5])\n",
    "cov = create_PSD_matrix(R, eigenvalues)\n",
    "m = 800\n",
    "data_matrix, targets = make_data(means, cov, m)\n",
    "for i in range(k):\n",
    "    plt.scatter(data_matrix[targets==i,0],data_matrix[targets==i,1])"
   ]
  },
  {
   "cell_type": "markdown",
   "metadata": {
    "deletable": false,
    "editable": false,
    "nbgrader": {
     "cell_type": "markdown",
     "checksum": "3d7729569bbaa524bf023fcbaecf5a65",
     "grade": false,
     "grade_id": "cell-b640a10c0394cbe2",
     "locked": true,
     "schema_version": 3,
     "solution": false,
     "task": false
    }
   },
   "source": [
    "## Question 1.5 (3 marks)\n",
    "\n",
    "Write the function `mu, cov = get_mean_cov(X)` that takes a `m x n` data matrix `X` in input and returns the mean vector `mu` as a one dimensional numpy vector of size `n` and the covariance matrix `cov` as a numpy matrix object of size `n x n`.\n",
    "\n",
    "Provide your own implementation of the covariance. Do **not** use functions from the numpy library or any other library to directly compute the covariance matrix."
   ]
  },
  {
   "cell_type": "code",
   "execution_count": null,
   "metadata": {
    "deletable": false,
    "nbgrader": {
     "cell_type": "code",
     "checksum": "c7ee9a667fa33c6aa6921a76dd97035a",
     "grade": false,
     "grade_id": "cell-b4cb036d74a2ba24",
     "locked": false,
     "schema_version": 3,
     "solution": true,
     "task": false
    }
   },
   "outputs": [],
   "source": [
    "def get_mean_cov(X):\n",
    "    # YOUR CODE HERE\n",
    "    raise NotImplementedError()"
   ]
  },
  {
   "cell_type": "code",
   "execution_count": null,
   "metadata": {
    "deletable": false,
    "editable": false,
    "nbgrader": {
     "cell_type": "code",
     "checksum": "b42be61b2d5dd9abe3ca51fc67ee097d",
     "grade": true,
     "grade_id": "cell-9c75a5b895d266a6",
     "locked": true,
     "points": 3,
     "schema_version": 3,
     "solution": false,
     "task": false
    }
   },
   "outputs": [],
   "source": [
    "# This cell is reserved for the unit tests. Do not consider this cell. "
   ]
  },
  {
   "cell_type": "markdown",
   "metadata": {
    "deletable": false,
    "editable": false,
    "nbgrader": {
     "cell_type": "markdown",
     "checksum": "e608c2df778eac9173e818391c9aa202",
     "grade": false,
     "grade_id": "cell-e7171e0f568d1d60",
     "locked": true,
     "schema_version": 3,
     "solution": false,
     "task": false
    }
   },
   "source": [
    "## Question 1.6 (7 marks)\n",
    "\n",
    "Write your own code to perform the PCA dimensionality reduction (i.e. do not use functions provided by the `scikit` library, such as `sklearn.decomposition.PCA` or any other library that computes the PCA directly).\n",
    "\n",
    "Write a function `PCA(X, threshold)` that takes as input a `m x n` data matrix consisting of `m` vectors in `n` dimensions and a `threshold` between 0 and 1. The function should return the **centred** projection of `X`, using the minimal number of principal components needed to ensure that the explained variance of the PCA exceeds `threshold`."
   ]
  },
  {
   "cell_type": "code",
   "execution_count": null,
   "metadata": {
    "deletable": false,
    "nbgrader": {
     "cell_type": "code",
     "checksum": "78644acf56e56802e8c5f9c21aef7413",
     "grade": false,
     "grade_id": "cell-5bdcd9701893655b",
     "locked": false,
     "schema_version": 3,
     "solution": true,
     "task": false
    }
   },
   "outputs": [],
   "source": [
    "def PCA(X, threshold):\n",
    "    # YOUR CODE HERE\n",
    "    raise NotImplementedError()"
   ]
  },
  {
   "cell_type": "code",
   "execution_count": null,
   "metadata": {
    "deletable": false,
    "editable": false,
    "nbgrader": {
     "cell_type": "code",
     "checksum": "33f70ff41c9dbce0be3aa66a0697819b",
     "grade": true,
     "grade_id": "cell-557c02d857e32066",
     "locked": true,
     "points": 7,
     "schema_version": 3,
     "solution": false,
     "task": false
    }
   },
   "outputs": [],
   "source": [
    "# This cell is reserved for the unit tests. Do not consider this cell. "
   ]
  },
  {
   "cell_type": "markdown",
   "metadata": {
    "deletable": false,
    "editable": false,
    "nbgrader": {
     "cell_type": "markdown",
     "checksum": "8a1d17f678cc7c1ff370623f03a551f1",
     "grade": false,
     "grade_id": "cell-9a60ca085fc26efe",
     "locked": true,
     "schema_version": 3,
     "solution": false,
     "task": false
    }
   },
   "source": [
    "## Question 1.7 (3 marks)\n",
    "\n",
    "Write a function `PCA_reconstruction(X, threshold)` with the same functionality as `PCA(X, threshold)`, except that it returns the PCA reconstruction in the original vector space. In this case, the output array will have the same shape as `X`. Information about how to compute the PCA reconstruction can be found at the following link: https://stats.stackexchange.com/questions/229092/how-to-reverse-pca-and-reconstruct-original-variables-from-several-principal-com.\n",
    "\n",
    "\n",
    "When executing the following code\n",
    "\n",
    "```python\n",
    "A = np.eye(3)+np.array([[1, 2, 1], [-2, 1, 0], [0.5, 0, 1]])\n",
    "R = create_rot_mat(A)\n",
    "k = 8\n",
    "means = create_means(R, k)\n",
    "A = np.eye(3)\n",
    "R = create_rot_mat(A)\n",
    "eigenvalues = 0.1*np.array([0.001, 1, 1])\n",
    "cov = create_PSD_matrix(R, eigenvalues)\n",
    "m = 800\n",
    "X, targets = make_data(means, cov, m)\n",
    "for i in range(k):\n",
    "    plt.scatter(X[targets==i,0],X[targets==i,1])\n",
    "plt.show()\n",
    "Xpca = PCA_reconstruction(X, 0.9)\n",
    "for i in range(k):\n",
    "    plt.scatter(Xpca[targets==i,0], Xpca[targets==i,1])\n",
    "plt.show()\n",
    "```\n",
    "\n",
    "you should obtain something similar to:\n",
    "\n",
    "<img src='pca_reconstruction.png' width=\"500\">\n",
    "<img src='pca_reconstruction2.png' width=\"500\">"
   ]
  },
  {
   "cell_type": "code",
   "execution_count": null,
   "metadata": {
    "deletable": false,
    "nbgrader": {
     "cell_type": "code",
     "checksum": "f63705f1903ef3f4b4c29d873fb3a5f1",
     "grade": false,
     "grade_id": "cell-ebed0da6ae3bfc2d",
     "locked": false,
     "schema_version": 3,
     "solution": true,
     "task": false
    }
   },
   "outputs": [],
   "source": [
    "def PCA_reconstruction(X, threshold):\n",
    "    # YOUR CODE HERE\n",
    "    raise NotImplementedError()"
   ]
  },
  {
   "cell_type": "code",
   "execution_count": null,
   "metadata": {
    "deletable": false,
    "editable": false,
    "nbgrader": {
     "cell_type": "code",
     "checksum": "469dd31ed0aaaf8e091187586a690d75",
     "grade": true,
     "grade_id": "cell-ef74bbd97480dbb5",
     "locked": true,
     "points": 3,
     "schema_version": 3,
     "solution": false,
     "task": false
    }
   },
   "outputs": [],
   "source": [
    "# This cell is reserved for the unit tests. Do not consider this cell. "
   ]
  },
  {
   "cell_type": "code",
   "execution_count": null,
   "metadata": {
    "deletable": false,
    "editable": false,
    "nbgrader": {
     "cell_type": "code",
     "checksum": "e2a44d5effe2ce062c91bfcad418db01",
     "grade": false,
     "grade_id": "cell-01ca05dc7558c9ed",
     "locked": true,
     "schema_version": 3,
     "solution": false,
     "task": false
    }
   },
   "outputs": [],
   "source": [
    "# Just run the following code, do not modify it\n",
    "\n",
    "A = np.eye(3)+np.array([[1, 2, 1], [-2, 1, 0], [0.5, 0, 1]])\n",
    "R = create_rot_mat(A)\n",
    "k = 8\n",
    "means = create_means(R, k)\n",
    "A = np.eye(3)\n",
    "R = create_rot_mat(A)\n",
    "eigenvalues = 0.1*np.array([0.001, 1, 1])\n",
    "cov = create_PSD_matrix(R, eigenvalues)\n",
    "m = 800\n",
    "X, targets = make_data(means, cov, m)\n",
    "for i in range(k):\n",
    "    plt.scatter(X[targets==i,0],X[targets==i,1])\n",
    "plt.show()\n",
    "Xpca = PCA_reconstruction(X, 0.9)\n",
    "for i in range(k):\n",
    "    plt.scatter(Xpca[targets==i,0], Xpca[targets==i,1])\n",
    "plt.show()"
   ]
  },
  {
   "cell_type": "markdown",
   "metadata": {
    "deletable": false,
    "editable": false,
    "nbgrader": {
     "cell_type": "markdown",
     "checksum": "33bd41036c260f88c9a94b6e8b1262b6",
     "grade": false,
     "grade_id": "cell-98731e6d0918bbce",
     "locked": true,
     "schema_version": 3,
     "solution": false,
     "task": false
    }
   },
   "source": [
    "## Question 1.8 (5 marks)\n",
    "\n",
    "Write a function `Z = approximate(X, threshold)` that returns the rank `r` approximation of the input data matrix `X`. The rank of the output matrix `r` should be chosen as the smallest integer that satifies $r/r_X>threshold$, where `threshold` is provided as input and $r_X$ is the rank of the matrix `X`. The output should have the same shape as the input."
   ]
  },
  {
   "cell_type": "code",
   "execution_count": null,
   "metadata": {
    "deletable": false,
    "nbgrader": {
     "cell_type": "code",
     "checksum": "dec3cad0debe528854ce9b5a9bc077e0",
     "grade": false,
     "grade_id": "cell-62697b1cd16b66d9",
     "locked": false,
     "schema_version": 3,
     "solution": true,
     "task": false
    }
   },
   "outputs": [],
   "source": [
    "def approximate(X, threshold):\n",
    "    # YOUR CODE HERE\n",
    "    raise NotImplementedError()"
   ]
  },
  {
   "cell_type": "code",
   "execution_count": null,
   "metadata": {
    "deletable": false,
    "editable": false,
    "nbgrader": {
     "cell_type": "code",
     "checksum": "d27766220f9c0e7f6ad534f1dc9b03db",
     "grade": true,
     "grade_id": "cell-bd2552894b1eb3b5",
     "locked": true,
     "points": 5,
     "schema_version": 3,
     "solution": false,
     "task": false
    }
   },
   "outputs": [],
   "source": [
    "# This cell is reserved for the unit tests. Do not consider this cell. "
   ]
  },
  {
   "cell_type": "markdown",
   "metadata": {
    "deletable": false,
    "editable": false,
    "nbgrader": {
     "cell_type": "markdown",
     "checksum": "438e896d502ddf60c64785dd5002c1a9",
     "grade": false,
     "grade_id": "cell-001c5f55cb6e36bf",
     "locked": true,
     "schema_version": 3,
     "solution": false,
     "task": false
    }
   },
   "source": [
    "## Question 1.9 (8 marks)\n",
    "\n",
    "Create a function `replace_outliers(X, y, threshold_dist, threshold)` that takes as input an `m x n` data matrix `X` and a class vector `y` of size `m`. The function should output a data matrix `Xro` with the same size as `X`. Let `Xi` be the (sub-)data matrix of `Xi` consisting of all rows associated with class `i`. The `replace_outliers` function computes the Mahalanobis distance of each row in `Xi` with respect to the multivariate probability distribution that can be inferred from all the rows in `Xi`. Each vector with a Mahalanobis distance strictly larger than the provided numerical parameter `threshold_dist` is then replaced by the rank `r` approximation of the same row, computed using the function developed in the previous question with the input `threshold`. The rank `r` approximation should be computed separately for each class. Note that the order of the rows in `Xro` should be the same as the order of the rows in `X`.\n",
    "\n",
    "When executing the following code\n",
    "\n",
    "```python\n",
    "n = 10\n",
    "A = np.eye(n) + 4*np.diag(np.ones(n-1), k=1) - 2*np.diag(np.ones(n-1), k=-1)\n",
    "R = create_rot_mat(A)\n",
    "k = 10\n",
    "means = create_means(R, k)\n",
    "eigenvalues = 0.005*np.random.rand(n)\n",
    "cov = create_PSD_matrix(R, eigenvalues)\n",
    "m = 200\n",
    "X, targets = make_data(means, cov, m)\n",
    "for i in range(k):\n",
    "    plt.scatter(X[targets==i,0], X[targets==i,1])\n",
    "plt.show()\n",
    "Xro = replace_outliers(X, targets, 0.5, 0.2)\n",
    "for i in range(k):\n",
    "    plt.scatter(Xro[targets==i,0], Xro[targets==i,1])\n",
    "plt.show() \n",
    "```\n",
    "\n",
    "you should obtain something similar to:\n",
    "\n",
    "<img src='before_replacing_outliers.png' width=\"550\">\n",
    "<img src='after_replacing_outliers.png' width=\"550\">"
   ]
  },
  {
   "cell_type": "code",
   "execution_count": null,
   "metadata": {
    "deletable": false,
    "nbgrader": {
     "cell_type": "code",
     "checksum": "7f5f05b8e178d7df3453c96ae106bb6f",
     "grade": false,
     "grade_id": "cell-38bc95f58cc89ca3",
     "locked": false,
     "schema_version": 3,
     "solution": true,
     "task": false
    }
   },
   "outputs": [],
   "source": [
    "def replace_outliers(X, y, threshold_dist, threshold):\n",
    "    # YOUR CODE HERE\n",
    "    raise NotImplementedError()"
   ]
  },
  {
   "cell_type": "code",
   "execution_count": null,
   "metadata": {
    "deletable": false,
    "editable": false,
    "nbgrader": {
     "cell_type": "code",
     "checksum": "0d09c78c5171519e916d6b659c990466",
     "grade": true,
     "grade_id": "cell-18dc0aff80ffff44",
     "locked": true,
     "points": 8,
     "schema_version": 3,
     "solution": false,
     "task": false
    }
   },
   "outputs": [],
   "source": [
    "# This cell is reserved for the unit tests. Do not consider this cell. "
   ]
  },
  {
   "cell_type": "code",
   "execution_count": null,
   "metadata": {
    "deletable": false,
    "editable": false,
    "nbgrader": {
     "cell_type": "code",
     "checksum": "0a90ab457e44c7ac84d897273f8fc28c",
     "grade": false,
     "grade_id": "cell-ef0ecfa8bcc0c6cd",
     "locked": true,
     "schema_version": 3,
     "solution": false,
     "task": false
    }
   },
   "outputs": [],
   "source": [
    "# Just run the following code, do not modify it\n",
    "n = 10\n",
    "A = np.eye(n) + 4*np.diag(np.ones(n-1), k=1) - 2*np.diag(np.ones(n-1), k=-1)\n",
    "R = create_rot_mat(A)\n",
    "k = 10\n",
    "means = create_means(R, k)\n",
    "eigenvalues = 0.005*np.random.rand(n)\n",
    "cov = create_PSD_matrix(R, eigenvalues)\n",
    "m = 200\n",
    "X, targets = make_data(means, cov, m)\n",
    "for i in range(k):\n",
    "    plt.scatter(X[targets==i,0], X[targets==i,1])\n",
    "plt.show()\n",
    "Xro = replace_outliers(X, targets, 0.5, 0.2)\n",
    "for i in range(k):\n",
    "    plt.scatter(Xro[targets==i,0], Xro[targets==i,1])\n",
    "plt.show() "
   ]
  },
  {
   "cell_type": "markdown",
   "metadata": {
    "deletable": false,
    "editable": false,
    "nbgrader": {
     "cell_type": "markdown",
     "checksum": "7f1be0036c70b2f3e220233b022b2d49",
     "grade": false,
     "grade_id": "cell-8ea579ea1f2f245d",
     "locked": true,
     "schema_version": 3,
     "solution": false,
     "task": false
    }
   },
   "source": [
    "# Part 2\n",
    "\n",
    "**Aim:** Show competence in using the `numpy` and `pandas` libraries, and understanding of correlations and linear discriminant analysis.\n",
    "\n",
    "**Overview of the questions:**\n",
    "\n",
    "Questions 2.1 - 2.3 are about loading and preparing the dataset.\n",
    "\n",
    "Questions 2.4 - 2.6 are about correlation.\n",
    "\n",
    "Questions 2.7 - 2.10 are about linear discriminant analysis."
   ]
  },
  {
   "cell_type": "markdown",
   "metadata": {
    "deletable": false,
    "editable": false,
    "nbgrader": {
     "cell_type": "markdown",
     "checksum": "42ad1fe610746e913a9f6afc5ab8e0bd",
     "grade": false,
     "grade_id": "cell-c816a3d772c8db2a",
     "locked": true,
     "schema_version": 3,
     "solution": false,
     "task": false
    }
   },
   "source": [
    "## Question 2.1  [marks 4]\n",
    "\n",
    "\n",
    "Make a function `df = load_data()` to load data from the csv file `2023-02-19_21_11_28_my_iOS_device.csv` that you find in the same folder as this notebook and output a corresponding pandas DataFrame object. The function should only extract the columns `accelerometerAccelerationX(G)`, `accelerometerAccelerationY(G)`, `accelerometerAccelerationZ(G)`, `gyroRotationX(rad/s)`, `gyroRotationY(rad/s)`, and `gyroRotationZ(rad/s)`.\n",
    "\n",
    "The dataset includes recordings from accelerometers and gyroscopes embedded into a smartphone."
   ]
  },
  {
   "cell_type": "code",
   "execution_count": null,
   "metadata": {
    "deletable": false,
    "nbgrader": {
     "cell_type": "code",
     "checksum": "27ae29e6d82d0a423e7f4afa1942067b",
     "grade": false,
     "grade_id": "cell-9df88fa864cc67a1",
     "locked": false,
     "schema_version": 3,
     "solution": true,
     "task": false
    }
   },
   "outputs": [],
   "source": [
    "def load_data():\n",
    "    # YOUR CODE HERE\n",
    "    raise NotImplementedError()"
   ]
  },
  {
   "cell_type": "code",
   "execution_count": null,
   "metadata": {
    "deletable": false,
    "editable": false,
    "nbgrader": {
     "cell_type": "code",
     "checksum": "e487389b314073e4dd95216de1ce44fd",
     "grade": true,
     "grade_id": "cell-de87540cebe73dac",
     "locked": true,
     "points": 4,
     "schema_version": 3,
     "solution": false,
     "task": false
    }
   },
   "outputs": [],
   "source": [
    "# This cell is reserved for the unit tests. Do not consider this cell. "
   ]
  },
  {
   "cell_type": "markdown",
   "metadata": {
    "deletable": false,
    "editable": false,
    "nbgrader": {
     "cell_type": "markdown",
     "checksum": "4240efa5a7438934e3e25ad70ea02ac1",
     "grade": false,
     "grade_id": "cell-a4575715a93f2f38",
     "locked": true,
     "schema_version": 3,
     "solution": false,
     "task": false
    }
   },
   "source": [
    "## Checkpoint\n",
    "\n",
    "This is just a check-point, i.e. it is for you to see that you are correctly implementing all functions.\n",
    "\n",
    "Execute the following code (just execute the next cell):\n",
    "```\n",
    "df = load_data()\n",
    "print(df.info())\n",
    "```\n",
    "you should get:\n",
    "```\n",
    "<class 'pandas.core.frame.DataFrame'>\n",
    "RangeIndex: 3927 entries, 0 to 3926\n",
    "Data columns (total 6 columns):\n",
    " #   Column                         Non-Null Count  Dtype  \n",
    "---  ------                         --------------  -----  \n",
    " 0   accelerometerAccelerationX(G)  3927 non-null   float64\n",
    " 1   accelerometerAccelerationY(G)  3927 non-null   float64\n",
    " 2   accelerometerAccelerationZ(G)  3927 non-null   float64\n",
    " 3   gyroRotationX(rad/s)           3927 non-null   float64\n",
    " 4   gyroRotationY(rad/s)           3927 non-null   float64\n",
    " 5   gyroRotationZ(rad/s)           3927 non-null   float64\n",
    "dtypes: float64(6)\n",
    "memory usage: 184.2 KB\n",
    "None\n",
    "```"
   ]
  },
  {
   "cell_type": "code",
   "execution_count": null,
   "metadata": {
    "deletable": false,
    "editable": false,
    "nbgrader": {
     "cell_type": "code",
     "checksum": "3abd9456c22eed2fa2f60b831a0200ff",
     "grade": false,
     "grade_id": "cell-a8b3cad60bf8298c",
     "locked": true,
     "schema_version": 3,
     "solution": false,
     "task": false
    }
   },
   "outputs": [],
   "source": [
    "# Just run the following code, do not modify it\n",
    "\n",
    "df = load_data()\n",
    "print(df.info())"
   ]
  },
  {
   "cell_type": "markdown",
   "metadata": {
    "deletable": false,
    "editable": false,
    "nbgrader": {
     "cell_type": "markdown",
     "checksum": "ed91cbe8d0fffb764af0c93f06fb2ded",
     "grade": false,
     "grade_id": "cell-90c08b28c45e0668",
     "locked": true,
     "schema_version": 3,
     "solution": false,
     "task": false
    }
   },
   "source": [
    "## Question 2.2  [marks 4]\n",
    "\n",
    "Create a function `insert_norm(df, selected_columns, new_column_name)`. The function takes as input a dataFrame `df`, a list of column labels `selected_columns` in `df`, and the name of a new column `new_column_name`.\n",
    "\n",
    "The output of the function should be a DataFrame. This DataFrame should only have one column. The column label should be`new_column_name`, and the values should be the norm of the values in the columns `selected_columns` at each individual row. Thus, the input and output DataFrames should have the same number of rows."
   ]
  },
  {
   "cell_type": "code",
   "execution_count": null,
   "metadata": {
    "deletable": false,
    "nbgrader": {
     "cell_type": "code",
     "checksum": "677d59fcc81a02418cbbea46e5508bb4",
     "grade": false,
     "grade_id": "cell-f3cd9059975af61c",
     "locked": false,
     "schema_version": 3,
     "solution": true,
     "task": false
    }
   },
   "outputs": [],
   "source": [
    "def compute_norm(df, selected_columns, new_column_name):\n",
    "    # YOUR CODE HERE\n",
    "    raise NotImplementedError()"
   ]
  },
  {
   "cell_type": "code",
   "execution_count": null,
   "metadata": {
    "deletable": false,
    "editable": false,
    "nbgrader": {
     "cell_type": "code",
     "checksum": "64ea4a92a993a661ce3d5325232e031c",
     "grade": true,
     "grade_id": "cell-0ca301801f993daf",
     "locked": true,
     "points": 4,
     "schema_version": 3,
     "solution": false,
     "task": false
    }
   },
   "outputs": [],
   "source": [
    "# This cell is reserved for the unit tests. Do not consider this cell. "
   ]
  },
  {
   "cell_type": "markdown",
   "metadata": {
    "deletable": false,
    "editable": false,
    "nbgrader": {
     "cell_type": "markdown",
     "checksum": "2045f5a48453c014606ec3bd9ff19606",
     "grade": false,
     "grade_id": "cell-780de8eafb21015a",
     "locked": true,
     "schema_version": 3,
     "solution": false,
     "task": false
    }
   },
   "source": [
    "\n",
    "## Question 2.3  [marks 6]\n",
    "\n",
    "The columns `accelerometerAccelerationX(G)`, `accelerometerAccelerationY(G)`, and `accelerometerAccelerationZ(G)` in the DataFrame created in question 2.1 contain accelerometer readings along three spatial axes. Likewise, the columns `gyroRotationX(rad/s)`, `gyroRotationY(rad/s)`, and `gyroRotationZ(rad/s)` contain gyroscope readings along three spatial axes. Each row corresponds to measurements taken at a specific sampling instance.\n",
    "\n",
    "Accelerometers and gyroscopes can be used to detect when the sensor unit that they are attached to is stationary. This is known as zero-velocity detection (ZVD). When the sensor unit is stationary, the norm of the accelerometer measurements should be approximately equal to g (the gravitational acceleration), and the norm of the gyroscope measurements should be approximately equal to 0. \n",
    "\n",
    "Write a function `zero_velocity_detection(df, acc_threshold, gyro_threshold)` that takes as input the DataFrame `df` created using `load_data()`, an accelerometer threshold `acc_threshold`, and a gyroscope threshold `gyro_threshold`. The function should output a new dataframe with two columns named `accelerometer ZVD` and `gyroscope ZVD`. The number of rows in the output DataFrame should be equal to the number of rows in `df`. The column `accelerometer ZVD` should have the value 1 when the difference between the norm of the accelerometer readings at the corresponding row and 1 is less than `acc_threshold`. At all other sampling instances, the value should be zero. Similarly, the column `gyroscope ZVD` should have the value 1 when the norm of the gyroscope readings at the corresponding row is less than `gyro_threshold`. At all other sampling instances, the value should be zero. "
   ]
  },
  {
   "cell_type": "code",
   "execution_count": null,
   "metadata": {
    "deletable": false,
    "nbgrader": {
     "cell_type": "code",
     "checksum": "2012fbb10e0e4b790a36c2cbb4912b33",
     "grade": false,
     "grade_id": "cell-3c5df1409a65c3f8",
     "locked": false,
     "schema_version": 3,
     "solution": true,
     "task": false
    }
   },
   "outputs": [],
   "source": [
    "def zero_velocity_detection(df, acc_threshold, gyro_threshold):\n",
    "    # YOUR CODE HERE\n",
    "    raise NotImplementedError()"
   ]
  },
  {
   "cell_type": "code",
   "execution_count": null,
   "metadata": {
    "deletable": false,
    "editable": false,
    "nbgrader": {
     "cell_type": "code",
     "checksum": "f3f821afff46fc9a171ae528ed4cb28f",
     "grade": true,
     "grade_id": "cell-f882c57bc6376ae1",
     "locked": true,
     "points": 6,
     "schema_version": 3,
     "solution": false,
     "task": false
    }
   },
   "outputs": [],
   "source": [
    "# This cell is reserved for the unit tests. Do not consider this cell. "
   ]
  },
  {
   "cell_type": "markdown",
   "metadata": {
    "deletable": false,
    "editable": false,
    "nbgrader": {
     "cell_type": "markdown",
     "checksum": "e1aa5abfca070d972659db1632a031b4",
     "grade": false,
     "grade_id": "cell-4f296ed28b574ee3",
     "locked": true,
     "schema_version": 3,
     "solution": false,
     "task": false
    }
   },
   "source": [
    "\n",
    "## Question 2.4  [marks 4]\n",
    "\n",
    "Make a function `make_correlation_matrix_from(df, cols)` to output a numpy array containing the correlation matrix relative to the data in the input data frame `df`. The data is extracted from the columns with labels in `cols`.\n",
    "\n",
    "For example if you have the following data frame `df`:\n",
    "\n",
    "```\n",
    "  Col1 Col2  Col3\n",
    "0    5    1     1\n",
    "1    4    2     3\n",
    "2    3    4     5\n",
    "3    5    2     6\n",
    "4    2    3     2\n",
    "```\n",
    "\n",
    "`C = make_correlation_matrix_from(df, ['Col2', 'Col3'])` will return the correlation matrix `C` of the data matrix:\n",
    "\n",
    "```\n",
    "1     1\n",
    "2     3\n",
    "4     5\n",
    "2     6\n",
    "3     2\n",
    "```\n",
    "\n",
    "Provide your own implementation of the correlation. Do **not** use functions from the numpy library or any other library to compute directly the correlation matrix."
   ]
  },
  {
   "cell_type": "code",
   "execution_count": null,
   "metadata": {
    "deletable": false,
    "nbgrader": {
     "cell_type": "code",
     "checksum": "aabcd58900a063f21cb2ac471032891c",
     "grade": false,
     "grade_id": "cell-dce7818ff79e5262",
     "locked": false,
     "schema_version": 3,
     "solution": true,
     "task": false
    }
   },
   "outputs": [],
   "source": [
    "def make_correlation_matrix_from(df, cols):\n",
    "    # YOUR CODE HERE\n",
    "    raise NotImplementedError()"
   ]
  },
  {
   "cell_type": "code",
   "execution_count": null,
   "metadata": {
    "deletable": false,
    "editable": false,
    "nbgrader": {
     "cell_type": "code",
     "checksum": "ca9940c1ea060ced25da0fa40b4dd364",
     "grade": true,
     "grade_id": "cell-4808fce71d9d44d4",
     "locked": true,
     "points": 4,
     "schema_version": 3,
     "solution": false,
     "task": false
    }
   },
   "outputs": [],
   "source": [
    "# This cell is reserved for the unit tests. Do not consider this cell. "
   ]
  },
  {
   "cell_type": "markdown",
   "metadata": {
    "deletable": false,
    "editable": false,
    "nbgrader": {
     "cell_type": "markdown",
     "checksum": "976384a9401659d5dc4993e89a96a5d2",
     "grade": false,
     "grade_id": "cell-1d845ae6efa88ff8",
     "locked": true,
     "schema_version": 3,
     "solution": false,
     "task": false
    }
   },
   "source": [
    "\n",
    "## Question 2.5  [marks 8]\n",
    "\n",
    "In order to gain some insight on the data, we want to investigate for which thresholds that the zero-velocity detectors created based on the accelerometer and gyroscope readings produce similiar results. \n",
    "\n",
    "Create a function `compute_maximum_correlation(df, acc_thresholds, gyro_thresholds)` that takes as input the DataFrame `df` created in question 2.1, an array of accelerometer thresholds `acc_thresholds`, and an array of gyroscope thresholds `gyro_thresholds`. Given the input shapes `acc_thresholds.shape=(N,)` and `gyro_thresholds.shape=(M,)`, the output should be an array with shape `(N,M)` that stores the correlation of the zero-velocity detectors obtained from the function `zero_velocity_detection` when using all possible threshold-pairs from `acc_thresholds` and `gyro_thresholds`."
   ]
  },
  {
   "cell_type": "code",
   "execution_count": null,
   "metadata": {
    "deletable": false,
    "nbgrader": {
     "cell_type": "code",
     "checksum": "bee4a4e7f3d993a8d6dd430a8921f140",
     "grade": false,
     "grade_id": "cell-b2fb7755a2d265f2",
     "locked": false,
     "schema_version": 3,
     "solution": true,
     "task": false
    }
   },
   "outputs": [],
   "source": [
    "def compute_correlations(df, acc_thresholds, gyro_thresholds):\n",
    "    # YOUR CODE HERE\n",
    "    raise NotImplementedError()"
   ]
  },
  {
   "cell_type": "code",
   "execution_count": null,
   "metadata": {
    "deletable": false,
    "editable": false,
    "nbgrader": {
     "cell_type": "code",
     "checksum": "d79676d650fae4deaa6a1863829c853c",
     "grade": true,
     "grade_id": "cell-b280e143abb51631",
     "locked": true,
     "points": 8,
     "schema_version": 3,
     "solution": false,
     "task": false
    }
   },
   "outputs": [],
   "source": [
    "# This cell is reserved for the unit tests. Do not consider this cell."
   ]
  },
  {
   "cell_type": "markdown",
   "metadata": {
    "deletable": false,
    "editable": false,
    "nbgrader": {
     "cell_type": "markdown",
     "checksum": "db8deff5ef96e78aac4e33d5e16d8a72",
     "grade": false,
     "grade_id": "cell-0ada38ed4472e126",
     "locked": true,
     "schema_version": 3,
     "solution": false,
     "task": false
    }
   },
   "source": [
    "## Question 2.6  [marks 5]\n",
    "\n",
    "Create a function `plot_corr(correlation_values, gyro_thresholds, acc_thresholds)` to plot a correlation matrix `C`. The labels should be extracted from the values in the arrays `gyro_thresholds` and `acc_thresholds`.\n",
    "\n",
    "When you execute the following code\n",
    "```python\n",
    "df = load_data()\n",
    "acc_thresholds = np.round(np.linspace(5e-3,5e-2,10),3)\n",
    "gyro_thresholds = np.round(np.linspace(0.05,0.6,12),2)\n",
    "correlation_values = compute_correlations(df, acc_thresholds, gyro_thresholds)\n",
    "plot_corr(correlation_values, gyro_thresholds, acc_thresholds)\n",
    "```\n",
    "you should obtain something similar to:\n",
    "<img src='corr.png' width=\"600\">\n"
   ]
  },
  {
   "cell_type": "code",
   "execution_count": null,
   "metadata": {
    "deletable": false,
    "nbgrader": {
     "cell_type": "code",
     "checksum": "938fe07bb831ed85e6e10fa5e5ee49fa",
     "grade": false,
     "grade_id": "cell-391c55a08825c94a",
     "locked": false,
     "schema_version": 3,
     "solution": true,
     "task": false
    }
   },
   "outputs": [],
   "source": [
    "def plot_corr(correlation_values, gyro_thresholds, acc_thresholds):\n",
    "    # YOUR CODE HERE\n",
    "    raise NotImplementedError()"
   ]
  },
  {
   "cell_type": "code",
   "execution_count": null,
   "metadata": {
    "deletable": false,
    "editable": false,
    "nbgrader": {
     "cell_type": "code",
     "checksum": "62af2678f981534fa356689477541f0c",
     "grade": true,
     "grade_id": "cell-14c6e7c8b0058d30",
     "locked": true,
     "points": 5,
     "schema_version": 3,
     "solution": false,
     "task": false
    }
   },
   "outputs": [],
   "source": [
    "# This cell is reserved for the unit tests. Do not consider this cell."
   ]
  },
  {
   "cell_type": "code",
   "execution_count": null,
   "metadata": {
    "deletable": false,
    "editable": false,
    "nbgrader": {
     "cell_type": "code",
     "checksum": "1dd91d19bbe70400a6df95f729605658",
     "grade": false,
     "grade_id": "cell-90719c610b837906",
     "locked": true,
     "schema_version": 3,
     "solution": false,
     "task": false
    }
   },
   "outputs": [],
   "source": [
    "# Just run the following code, do not modify it\n",
    "\n",
    "df = load_data()\n",
    "acc_thresholds = np.round(np.linspace(5e-3,5e-2,10),3)\n",
    "gyro_thresholds = np.round(np.linspace(0.05,0.6,12),2)\n",
    "correlation_values = compute_correlations(df, acc_thresholds, gyro_thresholds)\n",
    "plot_corr(correlation_values, gyro_thresholds, acc_thresholds)"
   ]
  },
  {
   "cell_type": "markdown",
   "metadata": {
    "deletable": false,
    "editable": false,
    "nbgrader": {
     "cell_type": "markdown",
     "checksum": "d7fe4880f44233ab75098bb782b535c2",
     "grade": false,
     "grade_id": "cell-10d70693976b57e1",
     "locked": true,
     "schema_version": 3,
     "solution": false,
     "task": false
    }
   },
   "source": [
    "## Question 2.7  [marks 6]\n",
    "\n",
    "In this task, you will prepare a dataset for human activity recognition using accelerometer and gyroscope measurements.\n",
    "\n",
    "Create a function `X, y, mapping = make_data()` to output a data matrix `X` and a one dimensional class vector `y`. The data matrix `X` should be an array with the same shape and same values as the DataFrame created in question 1.1. In other words, the function `make_data()` will need to call the function `load_data()`. \n",
    "\n",
    "The class vector `y` should have the same number of rows as `X`. Four classes will be considered. Create the labels using the file `labels.csv`. The file specifies when each activity starts. For example, all the 350 first instances should be labelled as 0, the next 101 instances should be labelled as 1, etc.\n",
    "\n",
    "`mapping` should map the codes in the second column of `labels.csv` to the activities in the third column in some suitable way. This variable will later be used in question 2.10."
   ]
  },
  {
   "cell_type": "code",
   "execution_count": null,
   "metadata": {
    "deletable": false,
    "nbgrader": {
     "cell_type": "code",
     "checksum": "1e7280f623b96aa2fc245f46db122594",
     "grade": false,
     "grade_id": "cell-443696258d154b84",
     "locked": false,
     "schema_version": 3,
     "solution": true,
     "task": false
    }
   },
   "outputs": [],
   "source": [
    "def make_data():\n",
    "    # YOUR CODE HERE\n",
    "    raise NotImplementedError()"
   ]
  },
  {
   "cell_type": "code",
   "execution_count": null,
   "metadata": {
    "deletable": false,
    "editable": false,
    "nbgrader": {
     "cell_type": "code",
     "checksum": "8b8d8c28e588c45e06446f3f215eae33",
     "grade": true,
     "grade_id": "cell-af6e5a1ad60c0145",
     "locked": true,
     "points": 6,
     "schema_version": 3,
     "solution": false,
     "task": false
    }
   },
   "outputs": [],
   "source": [
    "# This cell is reserved for the unit tests. Do not consider this cell."
   ]
  },
  {
   "cell_type": "markdown",
   "metadata": {
    "deletable": false,
    "editable": false,
    "nbgrader": {
     "cell_type": "markdown",
     "checksum": "b1ef24c1581ba15f7215ed855cf94ac8",
     "grade": false,
     "grade_id": "cell-cd6ce5f30f639059",
     "locked": true,
     "schema_version": 3,
     "solution": false,
     "task": false
    }
   },
   "source": [
    "## Question 2.8 (12 marks)\n",
    "\n",
    "Write the function `params = fit_LDA(X, y)`. The inputs are the data matrix `X` and the corresponding target classes `y`(as defined in question 2.7). The function `fit_LDA` outputs a dictionary `params` with the parameters for a LDA classifier trained for the classification of the required number of classes. The number of classes will be automatically deduced from the `y` class vector. The keys of the dictionary `params` are the classes in `y`. The corresponding values of the dictionary are tuples of the `w` and `c` parameters (see lecture slides for the definitions of these parameters) for a one-vs-rest LDA classification (where the \"one\" is the class specified in the value).\n",
    "\n",
    "For example, with four classes and a data matrix with six columns the output of `fit_LDA` will look something like this:\n",
    "\n",
    "```\n",
    "{0: (matrix([[ 1.68477007],\n",
    "        [ 0.28552235],\n",
    "        [ 0.26096182],\n",
    "        [ 0.03781338],\n",
    "        [-0.17812477],\n",
    "        [ 0.01959014]]), matrix([[-1.25887173]])), 1: (matrix([[-2.3649531 ],\n",
    "        [ 1.64897551],\n",
    "        [ 0.19322476],\n",
    "        [-0.29980551],\n",
    "        [ 0.45380679],\n",
    "        [-0.1539804 ]]), matrix([[-1.80585832]])), 2: (matrix([[-0.98658673],\n",
    "        [-1.61719235],\n",
    "        [-0.33797544],\n",
    "        [-0.25670802],\n",
    "        [-0.03777439],\n",
    "        [-0.17921096]]), matrix([[-1.87593537]])), 3: (matrix([[ 5.32888385],\n",
    "        [-0.8523255 ],\n",
    "        [ 1.58417319],\n",
    "        [-0.3094618 ],\n",
    "        [-0.4422524 ],\n",
    "        [ 0.01302435]]), matrix([[-2.1601893]]))}\n",
    "```\n",
    "\n",
    "Write the function `preds = test_LDA(X, params)`. The input `X` is a set of instances (rows) to classify using the LDA model with parameters `params` in the format generated by `fit_LDA`. The output `preds` is a unidimensional array containing the predicted classes for each instance. For each instance, the predictions should be chosen as the class that results in the largest value for the test statistic $x^\\intercal w +c$ (see lecture slides for the definitions of these parameters) when compared against the other classes in a one-vs-rest classification.\n",
    "\n",
    "You must write your own implementation of LDA. Do not use the implementation in the libraries `scikit` or `numpy` or any other library. "
   ]
  },
  {
   "cell_type": "code",
   "execution_count": null,
   "metadata": {
    "deletable": false,
    "nbgrader": {
     "cell_type": "code",
     "checksum": "81fba2bd81ab03563a14f9ebc250bb7b",
     "grade": false,
     "grade_id": "cell-c48184f0338a8b0d",
     "locked": false,
     "schema_version": 3,
     "solution": true,
     "task": false
    }
   },
   "outputs": [],
   "source": [
    "def fit_LDA(X, y):\n",
    "    # YOUR CODE HERE\n",
    "    raise NotImplementedError()\n",
    "\n",
    "def test_LDA(X, params):\n",
    "    # YOUR CODE HERE\n",
    "    raise NotImplementedError()"
   ]
  },
  {
   "cell_type": "code",
   "execution_count": null,
   "metadata": {
    "deletable": false,
    "editable": false,
    "nbgrader": {
     "cell_type": "code",
     "checksum": "f732dfcf90f4871b1ec6ec074753309d",
     "grade": true,
     "grade_id": "cell-d56d47e42ef3918f",
     "locked": true,
     "points": 12,
     "schema_version": 3,
     "solution": false,
     "task": false
    }
   },
   "outputs": [],
   "source": [
    "# This cell is reserved for the unit tests. Do not consider this cell."
   ]
  },
  {
   "cell_type": "markdown",
   "metadata": {
    "deletable": false,
    "editable": false,
    "nbgrader": {
     "cell_type": "markdown",
     "checksum": "e6fc2759112a66d03578ba1f733fd016",
     "grade": false,
     "grade_id": "cell-6da6c973c018f2e0",
     "locked": true,
     "schema_version": 3,
     "solution": false,
     "task": false
    }
   },
   "source": [
    "## Question 2.9 (4 marks)\n",
    "\n",
    "Write a function `confusion_matrix(y, preds)` that outputs a confusion matrix based on the true labels `y` and the predicted labels `preds`. The inputs should be 1D arrays of the same length. Assume that the labels in the input arrays are integers, but do not make any assumptions about what integers that are included (this information should be obtained from the input arrays). The confusion matrix should be normalized, i.e., all rows should sum to one. Round off the values in the confusion matrix to have three decimal points.\n",
    "\n",
    "You must write your own implementation. Do not use the implementation in the library `scikit` or any other library. "
   ]
  },
  {
   "cell_type": "code",
   "execution_count": null,
   "metadata": {
    "deletable": false,
    "nbgrader": {
     "cell_type": "code",
     "checksum": "5560ec38cc7af11922c1438918940c50",
     "grade": false,
     "grade_id": "cell-3c181c3f0cbc4ad0",
     "locked": false,
     "schema_version": 3,
     "solution": true,
     "task": false
    }
   },
   "outputs": [],
   "source": [
    "def confusion_matrix(y, preds):\n",
    "    # YOUR CODE HERE\n",
    "    raise NotImplementedError()"
   ]
  },
  {
   "cell_type": "code",
   "execution_count": null,
   "metadata": {
    "deletable": false,
    "editable": false,
    "nbgrader": {
     "cell_type": "code",
     "checksum": "6f423699aa6808689dad161c02c93017",
     "grade": true,
     "grade_id": "cell-8d08fd60d6f62b2e",
     "locked": true,
     "points": 4,
     "schema_version": 3,
     "solution": false,
     "task": false
    }
   },
   "outputs": [],
   "source": [
    "# This cell is reserved for the unit tests. Do not consider this cell."
   ]
  },
  {
   "cell_type": "markdown",
   "metadata": {
    "deletable": false,
    "editable": false,
    "nbgrader": {
     "cell_type": "markdown",
     "checksum": "18d37f6e299f0215c72594990ad7792a",
     "grade": false,
     "grade_id": "cell-79bd8e574d274866",
     "locked": true,
     "schema_version": 3,
     "solution": false,
     "task": false
    }
   },
   "source": [
    "## Question 2.10 (4 marks)\n",
    "\n",
    "Write a function `plot_confusion_matrix(conf_matrix, mapping)` to visualize the confusion matrix computed in question 1.9. Use the mapping from the function `make_data` to set the axis labels. When executing the following code\n",
    "\n",
    "```python\n",
    "X, y, mapping = make_data()\n",
    "params = fit_LDA(X, y)\n",
    "preds = test_LDA(X, params)\n",
    "conf_matrix = confusion_matrix(y, preds)\n",
    "plot_confusion_matrix(conf_matrix, mapping)\n",
    "```\n",
    "\n",
    "you should obtain:\n",
    "\n",
    "<img src='conf_matrix.png' width=\"600\">"
   ]
  },
  {
   "cell_type": "code",
   "execution_count": null,
   "metadata": {
    "deletable": false,
    "nbgrader": {
     "cell_type": "code",
     "checksum": "81dc80da5354bdfcf8c91097521396c4",
     "grade": false,
     "grade_id": "cell-db14809b60b75620",
     "locked": false,
     "schema_version": 3,
     "solution": true,
     "task": false
    }
   },
   "outputs": [],
   "source": [
    "def plot_confusion_matrix(conf_matrix, mapping):\n",
    "    # YOUR CODE HERE\n",
    "    raise NotImplementedError()"
   ]
  },
  {
   "cell_type": "code",
   "execution_count": null,
   "metadata": {
    "deletable": false,
    "editable": false,
    "nbgrader": {
     "cell_type": "code",
     "checksum": "0fec8a3d7878cab3cb5803653a93dbf7",
     "grade": true,
     "grade_id": "cell-1f2f599aab75a502",
     "locked": true,
     "points": 4,
     "schema_version": 3,
     "solution": false,
     "task": false
    }
   },
   "outputs": [],
   "source": [
    "# This cell is reserved for the unit tests. Do not consider this cell."
   ]
  },
  {
   "cell_type": "code",
   "execution_count": null,
   "metadata": {
    "deletable": false,
    "editable": false,
    "nbgrader": {
     "cell_type": "code",
     "checksum": "515f00d4a2b7558a7a8de9b15056afd2",
     "grade": false,
     "grade_id": "cell-1f53fb325788c296",
     "locked": true,
     "schema_version": 3,
     "solution": false,
     "task": false
    }
   },
   "outputs": [],
   "source": [
    "# Just run the following code, do not modify it\n",
    "\n",
    "X, y, mapping = make_data()\n",
    "params = fit_LDA(X, y)\n",
    "preds = test_LDA(X, params)\n",
    "conf_matrix = confusion_matrix(y, preds)\n",
    "plot_confusion_matrix(conf_matrix, mapping)"
   ]
  }
 ],
 "metadata": {
  "kernelspec": {
   "display_name": "Python 3 (ipykernel)",
   "language": "python",
   "name": "python3"
  },
  "language_info": {
   "codemirror_mode": {
    "name": "ipython",
    "version": 3
   },
   "file_extension": ".py",
   "mimetype": "text/x-python",
   "name": "python",
   "nbconvert_exporter": "python",
   "pygments_lexer": "ipython3",
   "version": "3.11.4"
  },
  "varInspector": {
   "cols": {
    "lenName": 16,
    "lenType": 16,
    "lenVar": 40
   },
   "kernels_config": {
    "python": {
     "delete_cmd_postfix": "",
     "delete_cmd_prefix": "del ",
     "library": "var_list.py",
     "varRefreshCmd": "print(var_dic_list())"
    },
    "r": {
     "delete_cmd_postfix": ") ",
     "delete_cmd_prefix": "rm(",
     "library": "var_list.r",
     "varRefreshCmd": "cat(var_dic_list()) "
    }
   },
   "types_to_exclude": [
    "module",
    "function",
    "builtin_function_or_method",
    "instance",
    "_Feature"
   ],
   "window_display": false
  }
 },
 "nbformat": 4,
 "nbformat_minor": 4
}
