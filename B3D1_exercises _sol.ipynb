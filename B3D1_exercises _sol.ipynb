{
 "cells": [
  {
   "cell_type": "code",
   "execution_count": 9,
   "metadata": {
    "ExecuteTime": {
     "end_time": "2018-10-14T18:10:36.914322Z",
     "start_time": "2018-10-14T18:10:36.911263Z"
    },
    "slideshow": {
     "slide_type": "skip"
    }
   },
   "outputs": [],
   "source": [
    "import pandas as pd\n",
    "import numpy as np\n",
    "import matplotlib.pyplot as plt"
   ]
  },
  {
   "cell_type": "markdown",
   "metadata": {
    "slideshow": {
     "slide_type": "slide"
    }
   },
   "source": [
    "# Practice"
   ]
  },
  {
   "cell_type": "markdown",
   "metadata": {
    "slideshow": {
     "slide_type": "subslide"
    }
   },
   "source": [
    "# Question 1\n",
    "\n",
    "Write a function `make_data(m, n)` that returns a numpy array with `m` rows and `n` columns and with real entries in [0,1].  \n",
    "\n",
    "Write a function `add_column(A, w)` where `A` is a two-dimensional array, and `w` is a one-dimensional array of real values. The function should return a two-dimensional array that has one column more than `A`. This column is to be computed as the linear combination of all the columns of `A` using the scalars in `w`. Make sure that the sizes of the arrays are compatible. \n",
    "\n",
    "Write a function `test_lin_indep(B)` that returns True if all the column vectors in `B` are linearly independent, False otherwise. \n",
    "\n",
    "Test the functions like:\n",
    "\n",
    "```\n",
    "A = make_data(...)\n",
    "B = add_column(A, [....])\n",
    "test_lin_indep(B)\n",
    "```"
   ]
  },
  {
   "cell_type": "code",
   "execution_count": 10,
   "metadata": {
    "slideshow": {
     "slide_type": "subslide"
    }
   },
   "outputs": [],
   "source": [
    "def make_data(m, n):\n",
    "    # YOUR CODE HERE\n",
    "    raise NotImplementedError()\n",
    "    \n",
    "def add_column(A, w):\n",
    "    # YOUR CODE HERE\n",
    "    raise NotImplementedError()\n",
    "    \n",
    "def test_lin_indep(B):\n",
    "    # YOUR CODE HERE\n",
    "    raise NotImplementedError()"
   ]
  },
  {
   "cell_type": "markdown",
   "metadata": {
    "slideshow": {
     "slide_type": "skip"
    }
   },
   "source": [
    "## Test question 1\n",
    "\n",
    "Your code should not raise any error."
   ]
  },
  {
   "cell_type": "code",
   "execution_count": 12,
   "metadata": {
    "slideshow": {
     "slide_type": "skip"
    }
   },
   "outputs": [],
   "source": [
    "A = make_data(5,4)\n",
    "assert A.shape == (5,4), 'The function make_data(4,5) should make a two dimensional array of size 4x5'\n",
    "assert np.all(A>=0) and np.all(A<=1), 'The entries of the output of make_data should be in [0,1]'\n",
    "\n",
    "A = np.array([[1,1],[2,2]])\n",
    "assert test_lin_indep(A) == False, 'The function test_lin_indep should return False on test input %s'%A\n",
    "\n",
    "assert test_lin_indep(np.eye(10)) == True , 'The function test_lin_indep should return True on the identity matrix'\n",
    "\n",
    "B = add_column(make_data(5,4), np.array([1,2,3,4]))\n",
    "assert test_lin_indep(A) == False , 'The function test_lin_indep should return False when tried on add_column(make_data(5,4), [1,2,3,4])'"
   ]
  },
  {
   "cell_type": "markdown",
   "metadata": {
    "slideshow": {
     "slide_type": "skip"
    }
   },
   "source": [
    "## Solution question 1"
   ]
  },
  {
   "cell_type": "code",
   "execution_count": 11,
   "metadata": {
    "slideshow": {
     "slide_type": "skip"
    }
   },
   "outputs": [],
   "source": [
    "def make_data(m,n):\n",
    "    return np.random.rand(m,n)\n",
    "        \n",
    "def add_column(A, w):\n",
    "    new_col = np.sum(A * w, axis=1).reshape(-1,1)\n",
    "    return np.hstack([A,new_col])\n",
    "    \n",
    "def test_lin_indep(B):\n",
    "    m,n = B.shape\n",
    "    return np.linalg.matrix_rank(B) == n"
   ]
  },
  {
   "cell_type": "markdown",
   "metadata": {
    "slideshow": {
     "slide_type": "subslide"
    }
   },
   "source": [
    "# Question 2\n",
    "\n",
    "Write a function `decompose(A)` that returns the list of column vectors in the two dimensional input array `A`.\n",
    "\n",
    "Write a function `is_basis(vs)` that returns True if the list of `n` column vectors `vs` is a valid basis for a vector space of dimension `n` and False otherwise. The function should use asserts to test that the input is as expected. "
   ]
  },
  {
   "cell_type": "code",
   "execution_count": 54,
   "metadata": {
    "slideshow": {
     "slide_type": "subslide"
    }
   },
   "outputs": [],
   "source": [
    "def decompose(A):\n",
    "    # YOUR CODE HERE\n",
    "    raise NotImplementedError() \n",
    "    \n",
    "def is_basis(vs):\n",
    "    # YOUR CODE HERE\n",
    "    raise NotImplementedError()"
   ]
  },
  {
   "cell_type": "markdown",
   "metadata": {
    "slideshow": {
     "slide_type": "skip"
    }
   },
   "source": [
    "## Test question 2\n",
    "\n",
    "Your code should not raise any error."
   ]
  },
  {
   "cell_type": "code",
   "execution_count": 14,
   "metadata": {
    "slideshow": {
     "slide_type": "skip"
    }
   },
   "outputs": [],
   "source": [
    "assert np.all(np.hstack(decompose(np.ones((5,5)))) == np.ones((5,5))), 'The function decompose should decompose the unit matrix correctly'\n",
    "\n",
    "def _decompose(A):\n",
    "    return [v.reshape(-1,1) for v in A.T]\n",
    "\n",
    "assert is_basis(_decompose(np.eye(10))) == True, 'The function is_basis should return True on the columns of the identity matrix'\n",
    "assert is_basis(_decompose(np.array([[1,2],[1,2]]))) == False, 'The function is_basis should return False on the test matrix'\n",
    "\n",
    "try:\n",
    "    is_basis([np.array([1]), np.array([1,2])])\n",
    "except Exception:\n",
    "    pass\n",
    "else:\n",
    "    assert False, 'the function should raise an exception if the list does not contain arrays of the same size'\n",
    "    \n",
    "try:\n",
    "    is_basis([np.array([1,0]), np.array([0,1])])\n",
    "except Exception:\n",
    "    pass\n",
    "else:\n",
    "    assert False, 'the function should raise an exception if the list does not contain columns vectors'"
   ]
  },
  {
   "cell_type": "markdown",
   "metadata": {
    "slideshow": {
     "slide_type": "skip"
    }
   },
   "source": [
    "## Solution question 2"
   ]
  },
  {
   "cell_type": "code",
   "execution_count": 13,
   "metadata": {
    "slideshow": {
     "slide_type": "skip"
    }
   },
   "outputs": [],
   "source": [
    "def decompose(A):\n",
    "    return [v.reshape(-1,1) for v in A.T]\n",
    "\n",
    "def is_basis(vs):\n",
    "    n = len(vs[0].reshape(-1))\n",
    "    for v in vs:\n",
    "        if len(v.reshape(-1)) != n:\n",
    "            raise ValueError('All vectors should have the same size') \n",
    "        if v.ndim != 2:\n",
    "            raise ValueError('All vectors should be column vectors') \n",
    "        if v.shape[1] != 1:\n",
    "            raise ValueError('All vectors should be column vectors') \n",
    "    A = np.hstack(vs)\n",
    "    return np.linalg.matrix_rank(A) ==  A.shape[1]"
   ]
  },
  {
   "cell_type": "markdown",
   "metadata": {
    "slideshow": {
     "slide_type": "subslide"
    }
   },
   "source": [
    "# Question 3\n",
    "\n",
    "Write a function `is_in_span(v, basis)` that returns True if the column vector `v` lies in the span of the column vectors in the list `basis` and False otherwise. The function should check that the vectors in `basis` form a valid basis and that `v` is a column vector. \n",
    "\n",
    "Finally, determine whether the vectors $u$ and $v$ are in the span of the following set of vectors:\n",
    "\n",
    "```\n",
    "span{(1, -1, 0, 1), (-2, 3, 1, 0), (1, 0, 1, 5)}\n",
    "\n",
    "u = (1, 2, 3, 13)\n",
    "\n",
    "v = (3, -2, 2, -1) \n",
    "```"
   ]
  },
  {
   "cell_type": "code",
   "execution_count": 88,
   "metadata": {
    "slideshow": {
     "slide_type": "subslide"
    }
   },
   "outputs": [],
   "source": [
    "def is_in_span(v, basis):\n",
    "    # YOUR CODE HERE\n",
    "    raise NotImplementedError()"
   ]
  },
  {
   "cell_type": "markdown",
   "metadata": {
    "slideshow": {
     "slide_type": "skip"
    }
   },
   "source": [
    "## Test question 3\n",
    "\n",
    "Your code should not raise any error."
   ]
  },
  {
   "cell_type": "code",
   "execution_count": 16,
   "metadata": {
    "slideshow": {
     "slide_type": "skip"
    }
   },
   "outputs": [],
   "source": [
    "try:\n",
    "    is_in_span(np.array([1,1]).reshape(-1,1), decompose(np.array([[1,2],[1,2]])))\n",
    "except Exception:\n",
    "    pass\n",
    "else:\n",
    "    assert False, 'the function should raise an exception if the basis is not valid'\n",
    "\n",
    "try:\n",
    "    is_in_span(np.array([1,1]), decompose(np.ones((2,2))))\n",
    "except Exception:\n",
    "    pass\n",
    "else:\n",
    "    assert False, 'the function should raise an exception if the list does not contain columns vectors'\n",
    "\n",
    "A = np.array([[1,0,0], [0,1,0]])\n",
    "basis = decompose(A.T)\n",
    "u = np.array([1, 1, 1]).reshape(-1,1)\n",
    "assert is_in_span(u, basis) == False, 'u is not in the span of this basis'\n",
    "\n",
    "A = np.array([[1, -1, 0, 1], [-2, 3, 1, 0], [1, 0, 1, 5]])\n",
    "basis = decompose(A.T)\n",
    "u = np.array([1, 2, 3, 13]).reshape(-1,1)\n",
    "v = np.array([3, -2, 2, -1]).reshape(-1,1)\n",
    "assert is_in_span(u, basis) == True, 'u is in the span of this basis'\n",
    "assert is_in_span(v, basis) == False, 'v is not in the span of this basis'"
   ]
  },
  {
   "cell_type": "markdown",
   "metadata": {
    "slideshow": {
     "slide_type": "skip"
    }
   },
   "source": [
    "## Solution question 3"
   ]
  },
  {
   "cell_type": "code",
   "execution_count": 15,
   "metadata": {
    "slideshow": {
     "slide_type": "skip"
    }
   },
   "outputs": [],
   "source": [
    "def is_in_span(v, basis):\n",
    "    if v.ndim != 2:\n",
    "        raise ValueError('v should be a column vector') \n",
    "    if v.shape[1] != 1:\n",
    "        raise ValueError('v should be a column vector') \n",
    "            \n",
    "    if is_basis(basis) == False:\n",
    "        raise ValueError('Not a valid basis') \n",
    "    A = np.hstack(basis+[v])\n",
    "    return np.linalg.matrix_rank(A) == len(basis)"
   ]
  }
 ],
 "metadata": {
  "celltoolbar": "Slideshow",
  "kernelspec": {
   "display_name": "Python 3 (ipykernel)",
   "language": "python",
   "name": "python3"
  },
  "language_info": {
   "codemirror_mode": {
    "name": "ipython",
    "version": 3
   },
   "file_extension": ".py",
   "mimetype": "text/x-python",
   "name": "python",
   "nbconvert_exporter": "python",
   "pygments_lexer": "ipython3",
   "version": "3.11.4"
  }
 },
 "nbformat": 4,
 "nbformat_minor": 4
}
